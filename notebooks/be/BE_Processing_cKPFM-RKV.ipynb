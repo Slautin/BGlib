{
 "cells": [
  {
   "cell_type": "markdown",
   "metadata": {},
   "source": [
    "## Band Excitation & Contact Kelvin Probe Force Microscopy (cKPFM) data procesing \n",
    "#### Sabine Neumayer,  Suhas Somnath, Chris R. Smith, Stephen Jesse\n",
    "The Center for Nanophase Materials Science and The Institute for Functional Imaging for Materials <br>\n",
    "Oak Ridge National Laboratory<br>\n",
    "7/4/2017\n",
    "\n",
    "### References:\n",
    "This Jupyter notebook uses [pycroscopy](https://pycroscopy.github.io/pycroscopy/about.html) to analyze Band Excitation data. We request you to reference the following papers in your publications if you use this notebook for your research: \n",
    "\n",
    "* [Arxiv paper](https://arxiv.org/abs/1903.09515) titled \"*USID and Pycroscopy - Open frameworks for storing and analyzing spectroscopic and imaging data*\"  \n",
    "* [ACS Applied Materials and Interfaces](https://pubs.acs.org/doi/abs/10.1021/acsami.8b15872) titled \"*Decoupling mesoscale functional response in PLZT across the ferroelectric–relaxor phase transition with contact Kelvin probe force microscopy and machine learning*\"\n",
    "\n",
    "#### Jupyter Notebooks:\n",
    "This is a Jupyter Notebook - it contains text and executable code `cells`. To learn more about how to use it, please see [this video](https://www.youtube.com/watch?v=jZ952vChhuI). Please see the image below for some basic tips on using this notebook.\n",
    "\n",
    "If you have any questions or need help running this notebook, please get in touch with your host if you are a users at the Center for Nanophase Materials Science (CNMS) or our [google group](https://groups.google.com/forum/#!forum/pycroscopy).\n",
    "\n",
    "![notebook_rules.png](https://raw.githubusercontent.com/pycroscopy/pycroscopy/master/jupyter_notebooks/notebook_rules.png)\n",
    "\n",
    "Image courtesy of Jean Bilheux from the [neutron imaging](https://github.com/neutronimaging/python_notebooks) GitHub repository."
   ]
  },
  {
   "cell_type": "markdown",
   "metadata": {},
   "source": [
    "## Configure the notebook"
   ]
  },
  {
   "cell_type": "code",
   "execution_count": 3,
   "metadata": {},
   "outputs": [],
   "source": [
    "# Make sure needed packages are installed and up-to-date\n",
    "import sys\n",
    "#!conda install --yes --prefix {sys.prefix} numpy scipy matplotlib scikit-learn Ipython ipywidgets h5py\n",
    "#!{sys.executable} -m pip install -U --no-deps BGlib \n",
    "\n",
    "sys.path.insert(0,r'/Users/rvv/pyUSID')\n",
    "sys.path.insert(0,r'/Users/rvv/PycharmProjects/sidpy')\n",
    "sys.path.insert(0,r'/Users/rvv/PycharmProjects/BGlib')"
   ]
  },
  {
   "cell_type": "code",
   "execution_count": 39,
   "metadata": {},
   "outputs": [
    {
     "data": {
      "text/html": [
       "\n",
       "<style>\n",
       "    div#notebook-container    { width: 95%; }\n",
       "    div#menubar-container     { width: 65%; }\n",
       "    div#maintoolbar-container { width: 99%; }\n",
       "</style>\n"
      ],
      "text/plain": [
       "<IPython.core.display.HTML object>"
      ]
     },
     "metadata": {},
     "output_type": "display_data"
    }
   ],
   "source": [
    "# Ensure python 3 compatibility\n",
    "from __future__ import division, print_function, absolute_import\n",
    "\n",
    "# Import necessary libraries:\n",
    "# General utilities:\n",
    "import sys\n",
    "import os\n",
    "import math\n",
    "\n",
    "# Computation:\n",
    "import numpy as np\n",
    "import h5py\n",
    "\n",
    "# Visualization:\n",
    "import matplotlib.pyplot as plt\n",
    "import matplotlib.colors as colors\n",
    "import ipywidgets as widgets\n",
    "\n",
    "from IPython.display import display, HTML\n",
    "\n",
    "# The engineering components supporting pycroscopy:\n",
    "import pyUSID as usid\n",
    "import sidpy\n",
    "\n",
    "# Finally, BGlib itself\n",
    "from BGlib import be as belib\n",
    "\n",
    "# Make Notebook take up most of page width\n",
    "display(HTML(data=\"\"\"\n",
    "<style>\n",
    "    div#notebook-container    { width: 95%; }\n",
    "    div#menubar-container     { width: 65%; }\n",
    "    div#maintoolbar-container { width: 99%; }\n",
    "</style>\n",
    "\"\"\"))"
   ]
  },
  {
   "cell_type": "code",
   "execution_count": 5,
   "metadata": {},
   "outputs": [],
   "source": [
    "# set up notebook to show plots within the notebook\n",
    "%matplotlib notebook"
   ]
  },
  {
   "cell_type": "markdown",
   "metadata": {},
   "source": [
    "## Set some basic parameters for computation\n",
    "This notebook performs some functional fitting whose duration can be substantially decreased by using more memory and CPU cores. We have provided default values below but you may choose to change them if necessary. Setting `max_cores` to `None` will allow usage of all but one CPU core for the computations. \n",
    "\n",
    "By default, results of the functional fitting will be written back to the same HDF5 file. However, if you prefer to write results into different HDF5 files, please set the `results_to_new_file` parameter to `True` instead. Users of the [DataFed](https://datafed.ornl.gov) Scientific Data Management System may want to set this parameter to `True`."
   ]
  },
  {
   "cell_type": "code",
   "execution_count": 6,
   "metadata": {},
   "outputs": [],
   "source": [
    "max_mem         = 1024*8  # Maximum memory to use, in Mbs. Default = 1024\n",
    "max_cores       = None    # Number of logical cores to use in fitting.  None uses all but 2 available cores.\n",
    "results_to_new_file = False"
   ]
  },
  {
   "cell_type": "markdown",
   "metadata": {},
   "source": [
    "## Make the data pycroscopy compatible\n",
    "Converting the raw data into a pycroscopy compatible hierarchical data format (HDF or .h5) file gives you access to the fast fitting algorithms and powerful analysis functions within pycroscopy\n",
    "\n",
    "#### H5 files:\n",
    "* are like smart containers that can store matrices with data, folders to organize these datasets, images, metadata like experimental parameters, links or shortcuts to datasets, etc.\n",
    "* are readily compatible with high-performance computing facilities\n",
    "* scale very efficiently from few kilobytes to several terabytes\n",
    "* can be read and modified using any language including Python, Matlab, C/C++, Java, Fortran, Igor Pro, etc.\n",
    "\n",
    "#### You can load either of the following:\n",
    "* Any .mat or .txt parameter file from the original experiment\n",
    "* A .h5 file generated from the raw data using pycroscopy - skips translation\n",
    "\n",
    "You can select desired file type by choosing the second option in the pull down menu on the bottom right of the file window"
   ]
  },
  {
   "cell_type": "code",
   "execution_count": null,
   "metadata": {},
   "outputs": [],
   "source": [
    "\n",
    "\n",
    "class RawBEDataset(usid.USIDataset):\n",
    "    \n",
    "    def perform_SHO_fit(self, sho_fit_points = 5, sho_override = False, max_cores = None):\n",
    "        \n",
    "        sho_fit_points = 5  # The number of data points at each step to use when fitting\n",
    "        sho_override = False  # Force recompute if True\n",
    "\n",
    "        h5_sho_targ_grp = None\n",
    "        \n",
    "        sho_fitter = belib.analysis.BESHOfitter(h5_main, cores=max_cores, \n",
    "                                                verbose=False, h5_target_group=h5_sho_targ_grp)\n",
    "        \n",
    "        sho_fitter.set_up_guess(guess_func=belib.analysis.be_sho_fitter.SHOGuessFunc.complex_gaussian,\n",
    "                                num_points=sho_fit_points)\n",
    "        \n",
    "        self.h5_sho_guess = sho_fitter.do_guess(override=sho_override)\n",
    "        sho_fitter.set_up_fit()\n",
    "        self.h5_sho_fit = sho_fitter.do_fit(override=sho_override)\n",
    "        self.h5_sho_grp = h5_sho_fit.parent\n",
    "    \n",
    "class SHODataset(usid.USIDataset):\n",
    "    \n",
    "#Then extend these to be the other measurements...\n"
   ]
  },
  {
   "cell_type": "code",
   "execution_count": 16,
   "metadata": {},
   "outputs": [],
   "source": [
    "\n",
    "class cKPFMDataset(RawBEDataset):\n",
    "    \n",
    "    \"\"\"\n",
    "    \n",
    "    Extension of the USIDataset object to allow for cKPFM datasets\n",
    "    This includes various visualization and analaysis routines\n",
    "    \n",
    "    Pass the h5 dataset to make this into a cKPFMDataset\n",
    "    \n",
    "    high_voltage_amp: (int) (default = 1) (multiplication factor in case voltage amplifier was used).\n",
    "    \n",
    "    \"\"\"\n",
    "    \n",
    "    def __init__(self, usid_dataset, high_voltage_amp = 1):\n",
    "        \n",
    "        self.dset = usid_dataset\n",
    "        super(cKPFMDataset, self).__init__(h5_ref = usid_dataset)\n",
    "        \n",
    "        #Prepare the datasets\n",
    "        self.dataset_type = 'cKPFM-USIDataset'\n",
    "        self.parm_dict = self.dset.file['/Measurement_000'].attrs\n",
    "        self.num_write_steps = parm_dict['VS_num_DC_write_steps']\n",
    "        self.num_read_steps = parm_dict['VS_num_read_steps']\n",
    "        self.num_fields = 2\n",
    "        self.high_voltage_amp = high_voltage_amp\n",
    "        \n",
    "    \n",
    "        \n",
    "        return\n",
    "    \n",
    "    def process_sho_data(self, phase_offset = None, option = 1):\n",
    "        '''This method will process SHO data, adjusting the phase and setting up the Ndimensional matrices\n",
    "        that will make plotting easier down the line\n",
    "        Option = 1: for plotting only minimum to maximum voltage\n",
    "        Option = 2: for plotting entire DC voltage range\n",
    "        '''\n",
    "        \n",
    "        Nd_mat = self.h5_sho_fit.get_n_dim_form()\n",
    "   \n",
    "        phase_offset = _det_phase_offset(Nd_mat[:,:,:,:,:]['Phase [rad]'].ravel())\n",
    "\n",
    "        Nd_mat[:,:,:,:,:]['Phase [rad]'] = Nd_mat[:,:,:,:,:]['Phase [rad]'] - phase_offset\n",
    "        \n",
    "        self.nd_mat = Nd_mat\n",
    "        \n",
    "        self.h5_sho_spec_inds = self.h5_sho_fit.h5_spec_inds\n",
    "        self.h5_sho_spec_vals = self.h5_sho_fit.h5_spec_vals\n",
    "\n",
    "        self.sho_spec_labels = self.h5_sho_fit.spec_dim_labels\n",
    "        self.pos_labels = self.h5_sho_fit.pos_dim_labels\n",
    "\n",
    "        self.num_fields = self.h5_sho_fit.spec_dim_sizes[self.h5_sho_fit.spec_dim_labels.index('Field')]\n",
    "        self.num_write_steps = self.h5_sho_fit.spec_dim_sizes[self.h5_sho_fit.spec_dim_labels.index('write_bias')]\n",
    "        self.num_read_steps = self.h5_sho_fit.spec_dim_sizes[self.h5_sho_fit.spec_dim_labels.index('read_bias')]\n",
    "\n",
    "        # It turns out that the read voltage index starts from 1 instead of 0\n",
    "        # Also the VDC indices are NOT repeating. They are just rising monotonically\n",
    "        \n",
    "        self.write_volt_index = sho_spec_labels.index('write_bias')\n",
    "        self.read_volt_index = sho_spec_labels.index('read_bias')\n",
    "        self.h5_sho_spec_inds[self.read_volt_index, :] -= np.min(self.h5_sho_spec_inds[self.read_volt_index, :])\n",
    "        self.h5_sho_spec_inds[self.write_volt_index, :] = np.tile(np.repeat(np.arange(self.num_write_steps), \n",
    "                                                                            self.num_fields), self.num_read_steps)\n",
    "\n",
    "        # Get the bias matrix:\n",
    "        self.bias_mat, _ = usid.hdf_utils.reshape_to_n_dims(self.h5_sho_spec_vals, h5_spec=self.h5_sho_spec_inds)\n",
    "        self.bias_vec_r_all = self.bias_mat[self.read_volt_index]*self.high_voltage_amp\n",
    "        self.bias_vec_w_all = self.bias_mat[self.write_volt_index]*self.high_voltage_amp\n",
    "        self.bias_vec_w = self.bias_vec_w_all.reshape(self.h5_sho_fit.spec_dim_sizes)[1, :, 1]\n",
    "        self.bias_vec_r = self.bias_vec_r_all.reshape(self.h5_sho_fit.spec_dim_sizes)[1, :, :]\n",
    "\n",
    "        # Option 1: only show curves from maximum to minimum write voltage:\n",
    "        if option == 1:\n",
    "            self.write_step_start = np.argmax(self.bias_vec_w)\n",
    "            self.write_step_end = np.argmin(self.bias_vec_w)\n",
    "\n",
    "        # option 2: show all curves from the whole write voltage waveform\n",
    "        if option == 2:\n",
    "            self.write_step_start = 0\n",
    "            self.write_step_end = num_write_steps-1\n",
    "\n",
    "        \n",
    "    def _det_phase_offset(self, phase_mat_lin, num_bins = 150):\n",
    "        \"\"\"\n",
    "        Input:\n",
    "            - phase mat: numpy vector of size N, containing the phase values of every point\n",
    "        Output:\n",
    "            - phase_offset: float of the phase offset requried to center the phase\n",
    "            Here centering means that one side will be 0 and the other will be pi, \n",
    "            so the loop can be projected as A*cos(phi)\"\"\"\n",
    "\n",
    "        #First calculate the histogram of the phase values\n",
    "\n",
    "        num_bins = 150 #number of bins in histogram\n",
    "        hist, bin_edges = np.histogram(phase_mat_lin, bins = num_bins)\n",
    "\n",
    "        #Remove zero values. Sometimes, when phase is undefined the zero bin will have a peak. Remove this,\n",
    "        #and replace it with the average of the two surrounding bins on either side\n",
    "        hist[num_bins//2-5:num_bins//2+5] = 0.5*(hist[num_bins//2-5] + hist[num_bins//2+5])\n",
    "\n",
    "        #Now find the two peaks by finding the two relative maxima\n",
    "\n",
    "        peak_positions = find_peaks(hist, distance = num_bins//3)\n",
    "\n",
    "        phase_1 = bin_edges[peak_positions[0][0]]\n",
    "        phase_2 = bin_edges[peak_positions[0][1]]\n",
    "\n",
    "        print ('The phase difference is {}'.format(np.round(np.abs(phase_1 - phase_2),3)))\n",
    "        print ('The phase offset is {}'.format(np.round(phase_1,3)))\n",
    "\n",
    "        if np.abs(np.abs(phase_1 - phase_2) - np.pi) >0.5:\n",
    "            print('There was a problem with automatic phase offset determination! ' +\n",
    "                  'Do it manually before proceeding by passing phase_offset to the process_sho_data method')\n",
    "        \n",
    "        phase_offset = phase_1\n",
    "\n",
    "        return phase_offset\n",
    "    \n",
    "    @staticmethod\n",
    "    def plot_line_family(axis, x_vec, line_family, line_names=None, label_prefix='', label_suffix='',\n",
    "                     y_offset=0, show_cbar=False, **kwargs):\n",
    "        \"\"\"\n",
    "        Plots a family of lines with a sequence of colors\n",
    "\n",
    "        Parameters\n",
    "        ----------\n",
    "        axis : matplotlib.axes.Axes object\n",
    "            Axis to plot the curve\n",
    "        x_vec : array-like\n",
    "            Values to plot against\n",
    "        line_family : 2D numpy array\n",
    "            family of curves arranged as [curve_index, features]\n",
    "        line_names : array-like\n",
    "            array of string or numbers that represent the identity of each curve in the family\n",
    "        label_prefix : string / unicode\n",
    "            prefix for the legend (before the index of the curve)\n",
    "        label_suffix : string / unicode\n",
    "            suffix for the legend (after the index of the curve)\n",
    "        y_offset : (optional) number\n",
    "            quantity by which the lines are offset from each other vertically (useful for spectra)\n",
    "        show_cbar : (optional) bool\n",
    "            Whether or not to show a colorbar (instead of a legend)\n",
    "\n",
    "        \"\"\"\n",
    "\n",
    "        x_vec = np.array(x_vec)\n",
    "\n",
    "        if not isinstance(line_family, list):\n",
    "            line_family = np.array(line_family)\n",
    "\n",
    "        assert line_family.ndim == 2, 'line_family must be a 2D array'\n",
    "\n",
    "        num_lines = line_family.shape[0]\n",
    "\n",
    "\n",
    "        if line_names is None:\n",
    "            # label_prefix = 'Line '\n",
    "            line_names = [str(line_ind) for line_ind in range(num_lines)]\n",
    "\n",
    "        line_names = ['{} {} {}'.format(label_prefix, cur_name, label_suffix) for cur_name in line_names]\n",
    "\n",
    "        print(\"Line family shape is {}\".format(line_family.shape))\n",
    "\n",
    "        for line_ind in range(num_lines):\n",
    "            colors = plt.cm.get_cmap('jet', line_family.shape[-1])\n",
    "            axis.plot(x_vec, line_family[line_ind] + line_ind * y_offset,\n",
    "                      color = colors(line_ind),\n",
    "                      )\n",
    "\n",
    "        if show_cbar:\n",
    "            # put back the cmap parameter:\n",
    "            kwargs.update({'cmap': cmap})\n",
    "            _ = cbar_for_line_plot(axis, num_lines, **kwargs)\n",
    "\n",
    "\n",
    "        \n",
    "    def plot_cKPFM_static(self):\n",
    "        print('here we can plot out stuff')\n",
    "        "
   ]
  },
  {
   "cell_type": "code",
   "execution_count": 7,
   "metadata": {},
   "outputs": [
    {
     "name": "stderr",
     "output_type": "stream",
     "text": [
      "/Users/rvv/PycharmProjects/sidpy/sidpy/sid/translator.py:44: FutureWarning: Consider using sidpy.Reader instead of sidpy.Translator if possible and contribute your reader to ScopeReaders\n",
      "  FutureWarning)\n"
     ]
    },
    {
     "name": "stdout",
     "output_type": "stream",
     "text": [
      "File is already Pycroscopy ready.\n",
      "Working on:\n",
      "/Users/rvv/Downloads/BEcKPFM_sfPFM5_0016.h5\n"
     ]
    }
   ],
   "source": [
    "input_file_path = r'/Users/rvv/Downloads/BEcKPFM_sfPFM5_0016.h5'\n",
    "\n",
    "(data_dir, filename) = os.path.split(input_file_path)\n",
    "\n",
    "if input_file_path.endswith('.h5'):\n",
    "    # No translation here\n",
    "    h5_path = input_file_path\n",
    "    force = False # Set this to true to force patching of the datafile.\n",
    "    tl = belib.translators.LabViewH5Patcher()\n",
    "    tl.translate(h5_path, force_patch=force)\n",
    "else:\n",
    "    # Set the data to be translated\n",
    "    data_path = input_file_path\n",
    "\n",
    "    (junk, base_name) = os.path.split(data_dir)\n",
    "\n",
    "    # Check if the data is in the new or old format.  Initialize the correct translator for the format.\n",
    "    if base_name == 'newdataformat':\n",
    "        (junk, base_name) = os.path.split(junk)\n",
    "        translator = belib.translators.BEPSndfTranslator(max_mem_mb=max_mem)\n",
    "    else:\n",
    "        translator = belib.translators.BEodfTranslator(max_mem_mb=max_mem)\n",
    "    if base_name.endswith('_d'):\n",
    "        base_name = base_name[:-2]\n",
    "    # Translate the data\n",
    "    h5_path = translator.translate(data_path, show_plots=True, save_plots=False)\n",
    "\n",
    "h5_file = h5py.File(h5_path, 'r+')\n",
    "print('Working on:\\n' + h5_path)\n",
    "\n",
    "h5_main = usid.hdf_utils.find_dataset(h5_file, 'Raw_Data')[0]"
   ]
  },
  {
   "cell_type": "markdown",
   "metadata": {},
   "source": [
    "##### Inspect the contents of this h5 data file\n",
    "The file contents are stored in a tree structure, just like files on a conventional computer.\n",
    "The data is stored as a 2D matrix (position, spectroscopic value) regardless of the dimensionality of the data. Thus, the positions will be arranged as row0-col0, row0-col1.... row0-colN, row1-col0.... and the data for each position is stored as it was chronologically collected  \n",
    "\n",
    "The main dataset is always accompanied by four ancillary datasets that explain the position and spectroscopic value of any given element in the dataset."
   ]
  },
  {
   "cell_type": "code",
   "execution_count": 8,
   "metadata": {
    "scrolled": false
   },
   "outputs": [
    {
     "name": "stdout",
     "output_type": "stream",
     "text": [
      "Datasets and datagroups within the file:\n",
      "------------------------------------\n",
      "/\n",
      "├ Measurement_000\n",
      "  ---------------\n",
      "  ├ Channel_000\n",
      "    -----------\n",
      "    ├ Bin_FFT\n",
      "    ├ Bin_Frequencies\n",
      "    ├ Bin_Indices\n",
      "    ├ Bin_Step\n",
      "    ├ Excitation_Waveform\n",
      "    ├ Noise_Floor\n",
      "    ├ Position_Indices\n",
      "    ├ Position_Values\n",
      "    ├ Raw_Data\n",
      "    ├ Raw_Data-SHO_Fit_000\n",
      "      --------------------\n",
      "      ├ Guess\n",
      "      ├ Spectroscopic_Indices\n",
      "      ├ Spectroscopic_Values\n",
      "    ├ Raw_Data-SHO_Fit_001\n",
      "      --------------------\n",
      "      ├ Fit\n",
      "      ├ Guess\n",
      "      ├ Spectroscopic_Indices\n",
      "      ├ Spectroscopic_Values\n",
      "      ├ completed_fit_positions\n",
      "      ├ completed_guess_positions\n",
      "      ├ completed_positions\n",
      "    ├ Spatially_Averaged_Plot_Group_000\n",
      "      ---------------------------------\n",
      "      ├ Bin_Frequencies\n",
      "      ├ Mean_Spectrogram\n",
      "      ├ Spectroscopic_Parameter\n",
      "      ├ Step_Averaged_Response\n",
      "    ├ Spectroscopic_Indices\n",
      "    ├ Spectroscopic_Values\n",
      "\n",
      "The main dataset:\n",
      "------------------------------------\n",
      "<HDF5 dataset \"Raw_Data\": shape (900, 26840), type \"<c8\">\n",
      "located at: \n",
      "\t/Measurement_000/Channel_000/Raw_Data \n",
      "Data contains: \n",
      "\tquantity (a.u.) \n",
      "Data dimensions and original shape: \n",
      "Position Dimensions: \n",
      "\tX - size: 30 \n",
      "\tY - size: 30 \n",
      "Spectroscopic Dimensions: \n",
      "\tFrequency - size: 61 \n",
      "\tField - size: 2 \n",
      "\twrite_bias - size: 20 \n",
      "\tread_bias - size: 11\n",
      "Data Type:\n",
      "\tcomplex64\n",
      "\n",
      "The ancillary datasets:\n",
      "------------------------------------\n",
      "<HDF5 dataset \"Position_Indices\": shape (900, 2), type \"<u4\">\n",
      "<HDF5 dataset \"Position_Values\": shape (900, 2), type \"<f4\">\n",
      "<HDF5 dataset \"Spectroscopic_Indices\": shape (4, 26840), type \"<u4\">\n",
      "<HDF5 dataset \"Spectroscopic_Values\": shape (4, 26840), type \"<f4\">\n",
      "\n",
      "Metadata or attributes in a datagroup\n",
      "------------------------------------\n",
      "AFM_InvOLS : 1e-07\n",
      "AFM_XLVDT_sensor : 4.2214e-06\n",
      "AFM_XPiezo_sensitivity : -1.7437e-07\n",
      "AFM_YLVDT_sensor : 4.3626e-06\n",
      "AFM_YPiezo_sensitivity : 1.8489e-07\n",
      "AFM_ZLVDT_sensor : 4.790395e-06\n",
      "AFM_ZPiezo_sensitivity : 2.95923e-08\n",
      "AR_ : 426.0\n",
      "AR_Gain_for_PFM_Dart_mode : 0.0\n",
      "AR_Inverted_Optical_Lever_Sensitivity : 1e-07\n",
      "AR_Lockin_0_ : 5000.0\n",
      "AR_Number_of_frames_when_IMS_scanning : 0.0\n",
      "AR_The_Deflection_Setpoint_in_meters : 0.0\n",
      "AR_The_Integral_Gain_(the_one_that_matters) : 19.665404806186988\n",
      "AR_The_Offset_that_is_applied_to_the_user_channels : 0.0\n",
      "AR_The_Proportional_Gain_(what_is_it_good_for?) : 0.0\n",
      "AR_The_Set_Point_if_we_are_feeding_back_on_amplitude : 0.8\n",
      "AR_The_amount_of_rounding_on_the_scans : 0.04\n",
      "AR_The_amount_of_secret_gain_in_X : 7.53\n",
      "AR_The_amount_of_secret_gain_in_Y : 7.59\n",
      "AR_The_amount_of_secret_gain_in_Z : 0.0\n",
      "AR_The_amount_that_the_X_LVDT_is_not_centered : 0.0\n",
      "AR_The_amount_the_size_of_the_scan_is_reduced_by_the_scan_angle : 0.0\n",
      "AR_The_amplitude_of_the_drive_to_the_tip_piezo : 0.1\n",
      "AR_The_amplitude_set_point_in_meters : 1e-08\n",
      "AR_The_angle_of_the_scan_in_degrees_going_clockwise : 90.0\n",
      "AR_The_current_distance_moved_by_force_curves : 4e-07\n",
      "AR_The_deflection_Setpoint_in_newtons : 5e-09\n",
      "AR_The_displayed_Setpoint : 0.0008\n",
      "AR_The_frequency_of_the_drive_to_the_piezo : 450000.0\n",
      "AR_The_frequency_width_during_a_tune : 5000.0\n",
      "AR_The_gain_on_the_fast_ADC_in_dB : 0.0\n",
      "AR_The_gains_that_are_applied_to_the_user_channels : 1.0\n",
      "AR_The_integral_gain_of_the_X_axis : 4.73\n",
      "AR_The_integral_gain_of_the_Y_axis : 4.84\n",
      "AR_The_maximum_physical_scan_size : 3e-05\n",
      "AR_The_number_of_lines_per_scan : 256.0\n",
      "AR_The_number_of_points_in_cantilever_tune : 480.0\n",
      "AR_The_number_of_points_per_line : 256.0\n",
      "AR_The_offset_of_the_X_LVDT_sensor : 0.58\n",
      "AR_The_offset_of_the_Y_LVDT_sensor : -1.2\n",
      "AR_The_offset_of_the_Z_LVDT_sensor : 0.0\n",
      "AR_The_offset_of_the_scan_in_meters_from_the_center_in_X : -5.3731014e-06\n",
      "AR_The_offset_of_the_scan_in_meters_from_the_center_in_Y : 7.2112676e-06\n",
      "AR_The_offset_required_to_center_the_phase : 0.0\n",
      "AR_The_proportional_gain_of_the_X_axis : -inf\n",
      "AR_The_proportional_gain_of_the_Y_axis : -inf\n",
      "AR_The_rate_of_the_scan_in_hertz : 0.390625\n",
      "AR_The_sensitivity_of_the_X_LVDT_sensor : 4.2214e-06\n",
      "AR_The_sensitivity_of_the_X_piezo : -1.7437e-07\n",
      "AR_The_sensitivity_of_the_Y_LVDT_sensor : 4.3626e-06\n",
      "AR_The_sensitivity_of_the_Y_piezo : 1.8489e-07\n",
      "AR_The_sensitivity_of_the_Z_LVDT_sensor : 4.790395e-06\n",
      "AR_The_sensitivity_of_the_Z_piezo : 2.95923e-08\n",
      "AR_The_setpoint_if_we_are_feeding_back_on_deflection : 1.0\n",
      "AR_The_size_of_the_scan_in_meters : 4e-06\n",
      "AR_The_size_of_the_scan_in_the_fast_direction_in_meters : 4e-06\n",
      "AR_The_size_of_the_scan_in_the_slow_direction_in_meters : 4e-06\n",
      "AR_The_speed_of_the_scan_in_meters_per_second : 7.971938775510205e-06\n",
      "AR_The_spring_constant_of_the_cantilever : 1.0\n",
      "AR_The_suffix_applied_to_saved_images : 3.0\n",
      "AR_The_voltage_bias_on_the_User_0_BNC : 0.0\n",
      "AR_The_voltage_bias_on_the_User_1_BNC : 0.0\n",
      "AR_The_voltage_bias_on_the_sample : 0.0\n",
      "AR_The_voltage_bias_on_the_tip : 0.0\n",
      "AR_This_is_1e-9_of_the_spring_constant,_for_display_versus_nm : 1e-09\n",
      "AR_What_imaging_mode_are_we_in : 3.0\n",
      "AR_What_the_gain_was_before_it_was_changed : 12.0\n",
      "AR_Whether_or_not_the_slow_scan_is_enabled : 1.0\n",
      "AR_Whether_the_image_has_been_changed_during_this_scan : 0.0\n",
      "AR_Whether_the_parameters_have_changed : 0.0\n",
      "AR_Whether_this_is_the_last_scan_or_not : 0.0\n",
      "AR_Whether_to_save_images_or_not : 2.0\n",
      "AR_Which_Way_the_scan_is_heading : 1.0\n",
      "AR_variable_that_attempts_to_line_up_trace_with_retrace : 0.0\n",
      "BE_amplitude_[V] : 4.0\n",
      "BE_auto_smooth_cond : 1.0\n",
      "BE_band_width_[Hz] : 100000.0\n",
      "BE_center_frequency_[Hz] : 320000.0\n",
      "BE_phase_content : b'chirp-sinc hybrid'\n",
      "BE_phase_variation : 1.0\n",
      "BE_pulse_duration_[s] : 0.004\n",
      "BE_repeats : 3.0\n",
      "BE_signal_type_ring : 1.0\n",
      "BE_smoothing : 3208.717049919559\n",
      "BE_window_adjustment : 0.215625\n",
      "File_date_and_time : 06-Sep-2020 17:31:28\n",
      "File_file_name : BEcKPFM_sfPFM5_0016\n",
      "IO_AFM_platform : b'0 Cypher AR14'\n",
      "IO_AI_range : 10.0\n",
      "IO_AO_range : 10.0\n",
      "IO_Analog_output_routing : 0.0\n",
      "IO_Channel_001_type : b'none'\n",
      "IO_Channel_002_type : b'none'\n",
      "IO_Channel_003_type : b'none'\n",
      "IO_analog_output_amplifier_ring : 1.0\n",
      "IO_card : b'6124'\n",
      "IO_deflection_detector_ring : 0\n",
      "IO_rate : 4000000.0\n",
      "IO_sensitivity : 1.0\n",
      "VS_delay_time_after_step_[s] : 0.0\n",
      "VS_max_read_bias_[V] : 3.0\n",
      "VS_max_write_bias_[V] : 20.0\n",
      "VS_min_read_bias_[V] : -3.0\n",
      "VS_min_write_bias_[V] : -10.0\n",
      "VS_mode : b'cKPFM'\n",
      "VS_num_DC_write_steps : 10\n",
      "VS_num_read_steps : 11\n",
      "VS_step_transition_time_[s] : 0.001\n",
      "data_type : b'cKPFMData'\n",
      "grid_current_col : 29\n",
      "grid_current_row : 29\n",
      "grid_num_cols : 30\n",
      "grid_num_rows : 30\n",
      "grid_set_point_[V] : 1.0\n",
      "grid_settle_time_[s] : 1.0\n",
      "grid_transit_time_[s] : 1.0\n",
      "num_UDVS_bins : 26840\n",
      "num_UDVS_steps : 440\n",
      "num_bins : 26840\n",
      "num_pix : 900\n",
      "num_steps : 440\n"
     ]
    }
   ],
   "source": [
    "print('Datasets and datagroups within the file:\\n------------------------------------')\n",
    "usid.hdf_utils.print_tree(h5_file)\n",
    " \n",
    "print('\\nThe main dataset:\\n------------------------------------')\n",
    "print(h5_main)\n",
    "print('\\nThe ancillary datasets:\\n------------------------------------')\n",
    "print(h5_file['/Measurement_000/Channel_000/Position_Indices'])\n",
    "print(h5_file['/Measurement_000/Channel_000/Position_Values'])\n",
    "print(h5_file['/Measurement_000/Channel_000/Spectroscopic_Indices'])\n",
    "print(h5_file['/Measurement_000/Channel_000/Spectroscopic_Values'])\n",
    "\n",
    "print('\\nMetadata or attributes in a datagroup\\n------------------------------------')\n",
    "for key in h5_file['/Measurement_000'].attrs:\n",
    "    print('{} : {}'.format(key, h5_file['/Measurement_000'].attrs[key]))"
   ]
  },
  {
   "cell_type": "code",
   "execution_count": 26,
   "metadata": {},
   "outputs": [
    {
     "data": {
      "text/plain": [
       "<HDF5 dataset \"Raw_Data\": shape (900, 26840), type \"<c8\">\n",
       "located at: \n",
       "\t/Measurement_000/Channel_000/Raw_Data \n",
       "Data contains: \n",
       "\tquantity (a.u.) \n",
       "Data dimensions and original shape: \n",
       "Position Dimensions: \n",
       "\tX - size: 30 \n",
       "\tY - size: 30 \n",
       "Spectroscopic Dimensions: \n",
       "\tFrequency - size: 61 \n",
       "\tField - size: 2 \n",
       "\twrite_bias - size: 20 \n",
       "\tread_bias - size: 11\n",
       "Data Type:\n",
       "\tcomplex64"
      ]
     },
     "execution_count": 26,
     "metadata": {},
     "output_type": "execute_result"
    }
   ],
   "source": [
    "h5_main"
   ]
  },
  {
   "cell_type": "code",
   "execution_count": 22,
   "metadata": {},
   "outputs": [
    {
     "name": "stdout",
     "output_type": "stream",
     "text": [
      "['Frequency (Hz)', 'Field ()', 'write_bias (V)', 'read_bias ()']\n",
      "here we can plot out stuff\n",
      "cKPFM-USIDataset\n"
     ]
    }
   ],
   "source": [
    "my_dset = cKPFMDataset(h5_main)\n",
    "\n",
    "#explot USID functionality\n",
    "print(my_dset.spec_dim_descriptors)\n",
    "\n",
    "#add your own plotting and analytics methods\n",
    "my_dset.plot_cKPFM_static()\n",
    "\n",
    "#add some meta-data\n",
    "print(my_dset.dataset_type)"
   ]
  },
  {
   "cell_type": "code",
   "execution_count": 37,
   "metadata": {},
   "outputs": [],
   "source": [
    "%matplotlib notebook"
   ]
  },
  {
   "cell_type": "code",
   "execution_count": 40,
   "metadata": {},
   "outputs": [
    {
     "name": "stdout",
     "output_type": "stream",
     "text": [
      "No position datasets found as attributes of /Measurement_000/Channel_000/Raw_Data-SHO_Fit_001/Spectroscopic_Values\n",
      "These are the labels ['Field', 'write_bias', 'read_bias']\n"
     ]
    },
    {
     "data": {
      "application/vnd.jupyter.widget-view+json": {
       "model_id": "80b90bee03a14397a0d25c6751879a1f",
       "version_major": 2,
       "version_minor": 0
      },
      "text/plain": [
       "interactive(children=(IntSlider(value=4, continuous_update=False, description='Read step', max=10), IntSlider(…"
      ]
     },
     "metadata": {},
     "output_type": "display_data"
    },
    {
     "data": {
      "application/vnd.jupyter.widget-view+json": {
       "model_id": "2f6ab94294ca4c809e93673e09d01db0",
       "version_major": 2,
       "version_minor": 0
      },
      "text/plain": [
       "Button(description='Save figure', style=ButtonStyle())"
      ]
     },
     "metadata": {},
     "output_type": "display_data"
    }
   ],
   "source": [
    "global option, save_figure \n",
    "# Option 1: only show curves from maximum to minimum write voltage\n",
    "# Option 2: Show all curves from the whole write voltage waveform\n",
    "option = 1 \n",
    "save_figure = False # Save the figure after being generated if True\n",
    "\n",
    "h5_sho_spec_inds = h5_sho_fit.h5_spec_inds\n",
    "h5_sho_spec_vals = h5_sho_fit.h5_spec_vals\n",
    "\n",
    "sho_spec_labels = h5_sho_fit.spec_dim_labels\n",
    "pos_labels = h5_sho_fit.pos_dim_labels\n",
    "\n",
    "num_fields = h5_sho_fit.spec_dim_sizes[h5_sho_fit.spec_dim_labels.index('Field')]\n",
    "num_write_steps = h5_sho_fit.spec_dim_sizes[h5_sho_fit.spec_dim_labels.index('write_bias')]\n",
    "num_read_steps = h5_sho_fit.spec_dim_sizes[h5_sho_fit.spec_dim_labels.index('read_bias')]\n",
    "\n",
    "# It turns out that the read voltage index starts from 1 instead of 0\n",
    "# Also the VDC indices are NOT repeating. They are just rising monotonically\n",
    "write_volt_index = sho_spec_labels.index('write_bias')\n",
    "read_volt_index = sho_spec_labels.index('read_bias')\n",
    "h5_sho_spec_inds[read_volt_index, :] -= np.min(h5_sho_spec_inds[read_volt_index, :])\n",
    "h5_sho_spec_inds[write_volt_index, :] = np.tile(np.repeat(np.arange(num_write_steps), num_fields), num_read_steps)\n",
    "\n",
    "# Get the bias matrix:\n",
    "bias_mat, _ = usid.hdf_utils.reshape_to_n_dims(h5_sho_spec_vals, h5_spec=h5_sho_spec_inds)\n",
    "bias_vec_r_all = bias_mat[read_volt_index]*high_voltage_amplf\n",
    "bias_vec_w_all = bias_mat[write_volt_index]*high_voltage_amplf\n",
    "bias_vec_w = bias_vec_w_all.reshape(h5_sho_fit.spec_dim_sizes)[1, :, 1]\n",
    "bias_vec_r = bias_vec_r_all.reshape(h5_sho_fit.spec_dim_sizes)[1, :, :]\n",
    "\n",
    "# Option 1: only show curves from maximum to minimum write voltage:\n",
    "if option == 1:\n",
    "    write_step_start = np.argmax(bias_vec_w)\n",
    "    write_step_end = np.argmin(bias_vec_w)\n",
    "\n",
    "# ption 2: show all curves from the whole write voltage waveform\n",
    "if option == 2:\n",
    "    write_step_start = 0\n",
    "    write_step_end = num_write_steps-1\n",
    "\n",
    "bias_vec_r_display = np.transpose(bias_vec_r[write_step_start:write_step_end+1,:])\n",
    "\n",
    "print('These are the labels', sho_spec_labels)\n",
    "\n",
    "nd_labels = h5_sho_fit.n_dim_labels\n",
    "\n",
    "num_read_steps = Nd_mat.shape[nd_labels.index('read_bias')]\n",
    "num_write_steps = Nd_mat.shape[nd_labels.index('write_bias')]\n",
    "num_row = Nd_mat.shape[nd_labels.index('Y')]\n",
    "num_col = Nd_mat.shape[nd_labels.index('X')]\n",
    "\n",
    "# Indices of initial data points to plot\n",
    "row = 0\n",
    "col = 0\n",
    "field = 1\n",
    "dc_step_read = 0\n",
    "dc_step_write = 0\n",
    "\n",
    "# Select color scale range for map here\n",
    "cmin = -0.0001\n",
    "cmax = 0.0001\n",
    "\n",
    "# Get the read and write data to plot\n",
    "resp_vec_w = Nd_mat[row,col,field,:,dc_step_read]['Amplitude [V]'] * np.cos(Nd_mat[row,col,field,:,dc_step_read]['Phase [rad]'])*1000\n",
    "\n",
    "resp_mat_r = Nd_mat[:,:,1,dc_step_write,dc_step_read]['Amplitude [V]'] * np.cos(Nd_mat[:,:,1,dc_step_write,dc_step_read]['Phase [rad]'])*1000\n",
    "\n",
    "resp_vec_r = np.squeeze(Nd_mat[:,:,1,write_step_start:write_step_end+1,:]['Amplitude [V]'] \n",
    "                          * np.cos(Nd_mat[:,:,1,write_step_start:write_step_end+1,:]['Phase [rad]'])*1000)\n",
    "\n",
    "\n",
    "def make_figure(resp_mat_r, resp_vec_r, resp_vec_w, dc_step_read, dc_step_write, col, row):\n",
    "    global save_figure\n",
    "    plt.clf();\n",
    "    fig = plt.figure(figsize=(13, 9))\n",
    "    fig.set_facecolor('white')\n",
    "    \n",
    "    ax_bias_w = plt.subplot2grid((20, 2), (0, 0), colspan=1, rowspan=3)\n",
    "    ax_bias_r = plt.subplot2grid((20, 2), (5, 0), colspan=1, rowspan=3)\n",
    "    ax_loop_w = plt.subplot2grid((20, 2), (0, 1), colspan=1, rowspan=7)\n",
    "    ax_loop_r = plt.subplot2grid((20, 2), (9, 1), colspan=1, rowspan=8)\n",
    "    ax_colorbar = plt.subplot2grid((20, 2), (19, 1), colspan=1, rowspan=1)\n",
    "    ax_map = plt.subplot2grid((20, 2), (10, 0), colspan=1, rowspan=11)\n",
    "    \n",
    "    \n",
    "    \n",
    "    ax_bias_w.set_xlabel('Step', fontsize = 12)\n",
    "    ax_bias_w.set_ylabel('Write voltage [V]', fontsize = 12)\n",
    "    ax_bias_r.set_xlabel('Step', fontsize = 12)\n",
    "    ax_bias_r.set_ylabel('Read voltage [V]', fontsize = 12)\n",
    "    ax_loop_w.set_ylabel('Response [a.u.]', fontsize = 12)\n",
    "    ax_loop_w.set_xlabel('Write voltage [V]', fontsize = 12)\n",
    "    ax_loop_r.set_ylabel('Response [a.u.]', fontsize = 12)\n",
    "    ax_loop_r.set_xlabel('Read voltage [V]', fontsize = 12)\n",
    "\n",
    "    # Title saying read and write voltages\n",
    "    fig.suptitle('Read voltage = '+str(bias_vec_r[1,dc_step_read])+' V, Write voltage = ' +str(bias_vec_w[dc_step_write])+' V'\n",
    "                ', x = '+str(col)+', y = '+str(row), fontsize = 14);\n",
    "    \n",
    "    co_b = ax_map.imshow(resp_mat_r, cmap = sidpy.plot_utils.cmap_jet_white_center(), origin='upper', \n",
    "                         interpolation='none');\n",
    "    cb = fig.colorbar(co_b)\n",
    "    \n",
    "    #Graph of DC write voltage\n",
    "    ax_bias_w.plot(bias_vec_w,'b.');\n",
    "    ax_bias_w.plot(dc_step_write,bias_vec_w[dc_step_write],'r.');\n",
    "    ax_bias_w.set_ylim([np.min(bias_vec_w)-0.5, np.max(bias_vec_w)+0.5])\n",
    "    \n",
    "    #Graph of DC read voltage\n",
    "    ax_bias_r.plot(np.transpose(bias_vec_r[1]),'b.');\n",
    "    ax_bias_r.plot(dc_step_read,np.transpose(bias_vec_r[1,dc_step_read]),'r.');\n",
    "    ax_bias_r.set_ylim([np.min(bias_vec_r)-0.5, np.max(bias_vec_r)+0.5])\n",
    "        \n",
    "    #Graph of response loop (amplitude * cos(phase)) vs write voltage at selected x, y and read step\n",
    "    ax_loop_w.plot(bias_vec_w, resp_vec_w,'.-');\n",
    "    \n",
    "    #Response loops (amplitude * cos(phase)) of all write voltage steps (color coded) vs read voltage at selected x, y\n",
    "    plot_line_family(ax_loop_r, bias_vec_r_display[:, :], \n",
    "                                   resp_vec_r, line_names='None',\n",
    "                                   label_prefix='Line', label_suffix='')\n",
    "    \n",
    "    if option == 1:\n",
    "        colorbar_mat = np.column_stack((range(write_step_start,write_step_end+1),range(write_step_start,write_step_end+1)))\n",
    "        ax_colorbar.imshow(np.transpose(colorbar_mat[:,:]), cmap=plt.cm.jet, origin='lower', interpolation='none')\n",
    "        ax_colorbar.set_yticklabels('')\n",
    "        ax_colorbar.tick_params(axis = 'y', left = 'off', right = 'off')\n",
    "        plt.sca(ax_colorbar)\n",
    "        plt.xticks([0,write_step_end-write_step_start],[bias_vec_w[write_step_start],bias_vec_w[write_step_end]])\n",
    "        ax_colorbar.set_xlabel('Write voltage [V]', fontsize = 12)\n",
    "                \n",
    "    if option == 2:\n",
    "        colorbar_mat = np.column_stack((range(0,num_write_steps-1),range(0,num_write_steps-1)))\n",
    "        ax_colorbar.imshow(np.transpose(colorbar_mat[:,:]), cmap=plt.cm.jet, origin='lower', interpolation='none')\n",
    "        ax_colorbar.set_yticklabels('')\n",
    "        ax_colorbar.tick_params(axis = 'y', left = 'off', right = 'off')\n",
    "        ax_colorbar.set_xlabel('Write voltage step', fontsize = 12)\n",
    "        \n",
    "    \n",
    "    if save_figure == True:\n",
    "        fig.savefig(output_file_path+'\\cb_cKPFM_Vr'+str(dc_step_read)+'_Vw'+str(dc_step_write)+'_x='+str(col)+'_y='+str(row)+'.png', format='png')\n",
    "        fig.savefig(output_file_path+'\\cb_cKPFM_Vr'+str(dc_step_read)+'_Vw'+str(dc_step_write)+'_x='+str(col)+'_y='+str(row)+'.eps', format='eps')\n",
    "        fig.savefig(output_file_path+'\\cb_cKPFM_Vr'+str(dc_step_read)+'_Vw'+str(dc_step_write)+'_x='+str(col)+'_y='+str(row)+'.tif', format='tiff')\n",
    "        save_figure = False\n",
    "\n",
    "        \n",
    "def update_sho_plots(dc_step_read, dc_step_write, col, row, **kwargs):\n",
    "    resp_vec_w = Nd_mat[row,col,field,:,dc_step_read]['Amplitude [V]'] * np.cos(Nd_mat[row,col,field,:,dc_step_read]['Phase [rad]'])*1000\n",
    "    resp_vec_w = Nd_mat[row,col,field,:,dc_step_read]['Amplitude [V]'] * np.cos(Nd_mat[row,col,field,:,dc_step_read]['Phase [rad]'])*1000\n",
    "    resp_mat_r = Nd_mat[:,:,1,dc_step_write,dc_step_read]['Amplitude [V]'] * np.cos(Nd_mat[:,:,1,dc_step_write,dc_step_read]['Phase [rad]'])*1000\n",
    "    resp_vec_r = (Nd_mat[row,col,field,write_step_start:write_step_end+1,:]['Amplitude [V]'] \n",
    "                           * np.cos(Nd_mat[row,col,field,write_step_start:write_step_end+1,:]['Phase [rad]'])*1000)\n",
    "\n",
    "    make_figure(resp_mat_r, resp_vec_r, resp_vec_w, dc_step_read, dc_step_write, col, row)\n",
    "    \n",
    "    \n",
    "def on_save_button_clicked(b):\n",
    "    global save_figure \n",
    "    save_figure = True\n",
    "    dc_step_read =  dc_step_read_slider.value\n",
    "    dc_step_write = dc_step_write_slider.value\n",
    "    col = x_slider.value\n",
    "    row = y_slider.value\n",
    "    \n",
    "    update_sho_plots(dc_step_read,dc_step_write, col, row)\n",
    "    \n",
    "\n",
    "slider_dict = dict()   \n",
    "\n",
    "dc_step_read_slider = widgets.IntSlider(min = 0, max = num_read_steps-1, step = 1,value = 4,\n",
    "                                        description = 'Read step',continuous_update = False);\n",
    "dc_step_write_slider = widgets.IntSlider(min = 0, max = num_write_steps-1, step = 1,value = 0,\n",
    "                                         description = 'Write step', continuous_update = False);\n",
    "x_slider = widgets.IntSlider(min = 0, max = num_col-1,step = 1,value = 0,\n",
    "                             description='x',continuous_update = False);\n",
    "y_slider = widgets.IntSlider(min = 0,max = num_row-1,step = 1,value = 0,\n",
    "                             description = 'y',continuous_update = False);\n",
    "\n",
    "widgets.interact(update_sho_plots,dc_step_read=dc_step_read_slider,dc_step_write=dc_step_write_slider, col = x_slider, row = y_slider, **slider_dict); \n",
    "\n",
    "button = widgets.Button(description = 'Save figure')\n",
    "display(button)\n",
    "button.on_click(on_save_button_clicked)\n",
    "\n"
   ]
  },
  {
   "cell_type": "code",
   "execution_count": 20,
   "metadata": {},
   "outputs": [
    {
     "name": "stdout",
     "output_type": "stream",
     "text": [
      "here we can plot out stuff\n"
     ]
    }
   ],
   "source": []
  },
  {
   "cell_type": "markdown",
   "metadata": {},
   "source": [
    "## Get some basic parameters from the H5 file\n",
    "This information will be vital for futher analysis and visualization of the data"
   ]
  },
  {
   "cell_type": "code",
   "execution_count": 28,
   "metadata": {},
   "outputs": [
    {
     "name": "stdout",
     "output_type": "stream",
     "text": [
      "['X', 'Y'] [30, 30]\n"
     ]
    }
   ],
   "source": [
    "h5_pos_inds = h5_main.h5_pos_inds\n",
    "pos_dims = h5_main.pos_dim_sizes\n",
    "pos_labels = h5_main.pos_dim_labels\n",
    "print(pos_labels, pos_dims)\n",
    "\n",
    "parm_dict = h5_file['/Measurement_000'].attrs\n",
    "is_ckpfm = h5_file.attrs['data_type'] == b'cKPFMData'\n",
    "if is_ckpfm:\n",
    "    num_write_steps = parm_dict['VS_num_DC_write_steps']\n",
    "    num_read_steps = parm_dict['VS_num_read_steps']\n",
    "    num_fields = 2"
   ]
  },
  {
   "cell_type": "code",
   "execution_count": 25,
   "metadata": {},
   "outputs": [
    {
     "data": {
      "text/plain": [
       "<Attributes of HDF5 object at 5037486592>"
      ]
     },
     "execution_count": 25,
     "metadata": {},
     "output_type": "execute_result"
    }
   ],
   "source": [
    "h5_main.file['/Measurement_000'].attrs"
   ]
  },
  {
   "cell_type": "markdown",
   "metadata": {},
   "source": [
    "## Visualize the raw data\n",
    "Use the sliders below to visualize spatial maps (2D only for now), and spectrograms.\n",
    "For simplicity, all the spectroscopic dimensions such as frequency, excitation bias, cycle, field, etc. have been collapsed to a single slider."
   ]
  },
  {
   "cell_type": "code",
   "execution_count": 29,
   "metadata": {
    "scrolled": false
   },
   "outputs": [
    {
     "name": "stdout",
     "output_type": "stream",
     "text": [
      "No position datasets found as attributes of /Measurement_000/Channel_000/Spectroscopic_Values\n"
     ]
    },
    {
     "data": {
      "application/javascript": [
       "/* Put everything inside the global mpl namespace */\n",
       "window.mpl = {};\n",
       "\n",
       "\n",
       "mpl.get_websocket_type = function() {\n",
       "    if (typeof(WebSocket) !== 'undefined') {\n",
       "        return WebSocket;\n",
       "    } else if (typeof(MozWebSocket) !== 'undefined') {\n",
       "        return MozWebSocket;\n",
       "    } else {\n",
       "        alert('Your browser does not have WebSocket support. ' +\n",
       "              'Please try Chrome, Safari or Firefox ≥ 6. ' +\n",
       "              'Firefox 4 and 5 are also supported but you ' +\n",
       "              'have to enable WebSockets in about:config.');\n",
       "    };\n",
       "}\n",
       "\n",
       "mpl.figure = function(figure_id, websocket, ondownload, parent_element) {\n",
       "    this.id = figure_id;\n",
       "\n",
       "    this.ws = websocket;\n",
       "\n",
       "    this.supports_binary = (this.ws.binaryType != undefined);\n",
       "\n",
       "    if (!this.supports_binary) {\n",
       "        var warnings = document.getElementById(\"mpl-warnings\");\n",
       "        if (warnings) {\n",
       "            warnings.style.display = 'block';\n",
       "            warnings.textContent = (\n",
       "                \"This browser does not support binary websocket messages. \" +\n",
       "                    \"Performance may be slow.\");\n",
       "        }\n",
       "    }\n",
       "\n",
       "    this.imageObj = new Image();\n",
       "\n",
       "    this.context = undefined;\n",
       "    this.message = undefined;\n",
       "    this.canvas = undefined;\n",
       "    this.rubberband_canvas = undefined;\n",
       "    this.rubberband_context = undefined;\n",
       "    this.format_dropdown = undefined;\n",
       "\n",
       "    this.image_mode = 'full';\n",
       "\n",
       "    this.root = $('<div/>');\n",
       "    this._root_extra_style(this.root)\n",
       "    this.root.attr('style', 'display: inline-block');\n",
       "\n",
       "    $(parent_element).append(this.root);\n",
       "\n",
       "    this._init_header(this);\n",
       "    this._init_canvas(this);\n",
       "    this._init_toolbar(this);\n",
       "\n",
       "    var fig = this;\n",
       "\n",
       "    this.waiting = false;\n",
       "\n",
       "    this.ws.onopen =  function () {\n",
       "            fig.send_message(\"supports_binary\", {value: fig.supports_binary});\n",
       "            fig.send_message(\"send_image_mode\", {});\n",
       "            if (mpl.ratio != 1) {\n",
       "                fig.send_message(\"set_dpi_ratio\", {'dpi_ratio': mpl.ratio});\n",
       "            }\n",
       "            fig.send_message(\"refresh\", {});\n",
       "        }\n",
       "\n",
       "    this.imageObj.onload = function() {\n",
       "            if (fig.image_mode == 'full') {\n",
       "                // Full images could contain transparency (where diff images\n",
       "                // almost always do), so we need to clear the canvas so that\n",
       "                // there is no ghosting.\n",
       "                fig.context.clearRect(0, 0, fig.canvas.width, fig.canvas.height);\n",
       "            }\n",
       "            fig.context.drawImage(fig.imageObj, 0, 0);\n",
       "        };\n",
       "\n",
       "    this.imageObj.onunload = function() {\n",
       "        fig.ws.close();\n",
       "    }\n",
       "\n",
       "    this.ws.onmessage = this._make_on_message_function(this);\n",
       "\n",
       "    this.ondownload = ondownload;\n",
       "}\n",
       "\n",
       "mpl.figure.prototype._init_header = function() {\n",
       "    var titlebar = $(\n",
       "        '<div class=\"ui-dialog-titlebar ui-widget-header ui-corner-all ' +\n",
       "        'ui-helper-clearfix\"/>');\n",
       "    var titletext = $(\n",
       "        '<div class=\"ui-dialog-title\" style=\"width: 100%; ' +\n",
       "        'text-align: center; padding: 3px;\"/>');\n",
       "    titlebar.append(titletext)\n",
       "    this.root.append(titlebar);\n",
       "    this.header = titletext[0];\n",
       "}\n",
       "\n",
       "\n",
       "\n",
       "mpl.figure.prototype._canvas_extra_style = function(canvas_div) {\n",
       "\n",
       "}\n",
       "\n",
       "\n",
       "mpl.figure.prototype._root_extra_style = function(canvas_div) {\n",
       "\n",
       "}\n",
       "\n",
       "mpl.figure.prototype._init_canvas = function() {\n",
       "    var fig = this;\n",
       "\n",
       "    var canvas_div = $('<div/>');\n",
       "\n",
       "    canvas_div.attr('style', 'position: relative; clear: both; outline: 0');\n",
       "\n",
       "    function canvas_keyboard_event(event) {\n",
       "        return fig.key_event(event, event['data']);\n",
       "    }\n",
       "\n",
       "    canvas_div.keydown('key_press', canvas_keyboard_event);\n",
       "    canvas_div.keyup('key_release', canvas_keyboard_event);\n",
       "    this.canvas_div = canvas_div\n",
       "    this._canvas_extra_style(canvas_div)\n",
       "    this.root.append(canvas_div);\n",
       "\n",
       "    var canvas = $('<canvas/>');\n",
       "    canvas.addClass('mpl-canvas');\n",
       "    canvas.attr('style', \"left: 0; top: 0; z-index: 0; outline: 0\")\n",
       "\n",
       "    this.canvas = canvas[0];\n",
       "    this.context = canvas[0].getContext(\"2d\");\n",
       "\n",
       "    var backingStore = this.context.backingStorePixelRatio ||\n",
       "\tthis.context.webkitBackingStorePixelRatio ||\n",
       "\tthis.context.mozBackingStorePixelRatio ||\n",
       "\tthis.context.msBackingStorePixelRatio ||\n",
       "\tthis.context.oBackingStorePixelRatio ||\n",
       "\tthis.context.backingStorePixelRatio || 1;\n",
       "\n",
       "    mpl.ratio = (window.devicePixelRatio || 1) / backingStore;\n",
       "\n",
       "    var rubberband = $('<canvas/>');\n",
       "    rubberband.attr('style', \"position: absolute; left: 0; top: 0; z-index: 1;\")\n",
       "\n",
       "    var pass_mouse_events = true;\n",
       "\n",
       "    canvas_div.resizable({\n",
       "        start: function(event, ui) {\n",
       "            pass_mouse_events = false;\n",
       "        },\n",
       "        resize: function(event, ui) {\n",
       "            fig.request_resize(ui.size.width, ui.size.height);\n",
       "        },\n",
       "        stop: function(event, ui) {\n",
       "            pass_mouse_events = true;\n",
       "            fig.request_resize(ui.size.width, ui.size.height);\n",
       "        },\n",
       "    });\n",
       "\n",
       "    function mouse_event_fn(event) {\n",
       "        if (pass_mouse_events)\n",
       "            return fig.mouse_event(event, event['data']);\n",
       "    }\n",
       "\n",
       "    rubberband.mousedown('button_press', mouse_event_fn);\n",
       "    rubberband.mouseup('button_release', mouse_event_fn);\n",
       "    // Throttle sequential mouse events to 1 every 20ms.\n",
       "    rubberband.mousemove('motion_notify', mouse_event_fn);\n",
       "\n",
       "    rubberband.mouseenter('figure_enter', mouse_event_fn);\n",
       "    rubberband.mouseleave('figure_leave', mouse_event_fn);\n",
       "\n",
       "    canvas_div.on(\"wheel\", function (event) {\n",
       "        event = event.originalEvent;\n",
       "        event['data'] = 'scroll'\n",
       "        if (event.deltaY < 0) {\n",
       "            event.step = 1;\n",
       "        } else {\n",
       "            event.step = -1;\n",
       "        }\n",
       "        mouse_event_fn(event);\n",
       "    });\n",
       "\n",
       "    canvas_div.append(canvas);\n",
       "    canvas_div.append(rubberband);\n",
       "\n",
       "    this.rubberband = rubberband;\n",
       "    this.rubberband_canvas = rubberband[0];\n",
       "    this.rubberband_context = rubberband[0].getContext(\"2d\");\n",
       "    this.rubberband_context.strokeStyle = \"#000000\";\n",
       "\n",
       "    this._resize_canvas = function(width, height) {\n",
       "        // Keep the size of the canvas, canvas container, and rubber band\n",
       "        // canvas in synch.\n",
       "        canvas_div.css('width', width)\n",
       "        canvas_div.css('height', height)\n",
       "\n",
       "        canvas.attr('width', width * mpl.ratio);\n",
       "        canvas.attr('height', height * mpl.ratio);\n",
       "        canvas.attr('style', 'width: ' + width + 'px; height: ' + height + 'px;');\n",
       "\n",
       "        rubberband.attr('width', width);\n",
       "        rubberband.attr('height', height);\n",
       "    }\n",
       "\n",
       "    // Set the figure to an initial 600x600px, this will subsequently be updated\n",
       "    // upon first draw.\n",
       "    this._resize_canvas(600, 600);\n",
       "\n",
       "    // Disable right mouse context menu.\n",
       "    $(this.rubberband_canvas).bind(\"contextmenu\",function(e){\n",
       "        return false;\n",
       "    });\n",
       "\n",
       "    function set_focus () {\n",
       "        canvas.focus();\n",
       "        canvas_div.focus();\n",
       "    }\n",
       "\n",
       "    window.setTimeout(set_focus, 100);\n",
       "}\n",
       "\n",
       "mpl.figure.prototype._init_toolbar = function() {\n",
       "    var fig = this;\n",
       "\n",
       "    var nav_element = $('<div/>');\n",
       "    nav_element.attr('style', 'width: 100%');\n",
       "    this.root.append(nav_element);\n",
       "\n",
       "    // Define a callback function for later on.\n",
       "    function toolbar_event(event) {\n",
       "        return fig.toolbar_button_onclick(event['data']);\n",
       "    }\n",
       "    function toolbar_mouse_event(event) {\n",
       "        return fig.toolbar_button_onmouseover(event['data']);\n",
       "    }\n",
       "\n",
       "    for(var toolbar_ind in mpl.toolbar_items) {\n",
       "        var name = mpl.toolbar_items[toolbar_ind][0];\n",
       "        var tooltip = mpl.toolbar_items[toolbar_ind][1];\n",
       "        var image = mpl.toolbar_items[toolbar_ind][2];\n",
       "        var method_name = mpl.toolbar_items[toolbar_ind][3];\n",
       "\n",
       "        if (!name) {\n",
       "            // put a spacer in here.\n",
       "            continue;\n",
       "        }\n",
       "        var button = $('<button/>');\n",
       "        button.addClass('ui-button ui-widget ui-state-default ui-corner-all ' +\n",
       "                        'ui-button-icon-only');\n",
       "        button.attr('role', 'button');\n",
       "        button.attr('aria-disabled', 'false');\n",
       "        button.click(method_name, toolbar_event);\n",
       "        button.mouseover(tooltip, toolbar_mouse_event);\n",
       "\n",
       "        var icon_img = $('<span/>');\n",
       "        icon_img.addClass('ui-button-icon-primary ui-icon');\n",
       "        icon_img.addClass(image);\n",
       "        icon_img.addClass('ui-corner-all');\n",
       "\n",
       "        var tooltip_span = $('<span/>');\n",
       "        tooltip_span.addClass('ui-button-text');\n",
       "        tooltip_span.html(tooltip);\n",
       "\n",
       "        button.append(icon_img);\n",
       "        button.append(tooltip_span);\n",
       "\n",
       "        nav_element.append(button);\n",
       "    }\n",
       "\n",
       "    var fmt_picker_span = $('<span/>');\n",
       "\n",
       "    var fmt_picker = $('<select/>');\n",
       "    fmt_picker.addClass('mpl-toolbar-option ui-widget ui-widget-content');\n",
       "    fmt_picker_span.append(fmt_picker);\n",
       "    nav_element.append(fmt_picker_span);\n",
       "    this.format_dropdown = fmt_picker[0];\n",
       "\n",
       "    for (var ind in mpl.extensions) {\n",
       "        var fmt = mpl.extensions[ind];\n",
       "        var option = $(\n",
       "            '<option/>', {selected: fmt === mpl.default_extension}).html(fmt);\n",
       "        fmt_picker.append(option);\n",
       "    }\n",
       "\n",
       "    // Add hover states to the ui-buttons\n",
       "    $( \".ui-button\" ).hover(\n",
       "        function() { $(this).addClass(\"ui-state-hover\");},\n",
       "        function() { $(this).removeClass(\"ui-state-hover\");}\n",
       "    );\n",
       "\n",
       "    var status_bar = $('<span class=\"mpl-message\"/>');\n",
       "    nav_element.append(status_bar);\n",
       "    this.message = status_bar[0];\n",
       "}\n",
       "\n",
       "mpl.figure.prototype.request_resize = function(x_pixels, y_pixels) {\n",
       "    // Request matplotlib to resize the figure. Matplotlib will then trigger a resize in the client,\n",
       "    // which will in turn request a refresh of the image.\n",
       "    this.send_message('resize', {'width': x_pixels, 'height': y_pixels});\n",
       "}\n",
       "\n",
       "mpl.figure.prototype.send_message = function(type, properties) {\n",
       "    properties['type'] = type;\n",
       "    properties['figure_id'] = this.id;\n",
       "    this.ws.send(JSON.stringify(properties));\n",
       "}\n",
       "\n",
       "mpl.figure.prototype.send_draw_message = function() {\n",
       "    if (!this.waiting) {\n",
       "        this.waiting = true;\n",
       "        this.ws.send(JSON.stringify({type: \"draw\", figure_id: this.id}));\n",
       "    }\n",
       "}\n",
       "\n",
       "\n",
       "mpl.figure.prototype.handle_save = function(fig, msg) {\n",
       "    var format_dropdown = fig.format_dropdown;\n",
       "    var format = format_dropdown.options[format_dropdown.selectedIndex].value;\n",
       "    fig.ondownload(fig, format);\n",
       "}\n",
       "\n",
       "\n",
       "mpl.figure.prototype.handle_resize = function(fig, msg) {\n",
       "    var size = msg['size'];\n",
       "    if (size[0] != fig.canvas.width || size[1] != fig.canvas.height) {\n",
       "        fig._resize_canvas(size[0], size[1]);\n",
       "        fig.send_message(\"refresh\", {});\n",
       "    };\n",
       "}\n",
       "\n",
       "mpl.figure.prototype.handle_rubberband = function(fig, msg) {\n",
       "    var x0 = msg['x0'] / mpl.ratio;\n",
       "    var y0 = (fig.canvas.height - msg['y0']) / mpl.ratio;\n",
       "    var x1 = msg['x1'] / mpl.ratio;\n",
       "    var y1 = (fig.canvas.height - msg['y1']) / mpl.ratio;\n",
       "    x0 = Math.floor(x0) + 0.5;\n",
       "    y0 = Math.floor(y0) + 0.5;\n",
       "    x1 = Math.floor(x1) + 0.5;\n",
       "    y1 = Math.floor(y1) + 0.5;\n",
       "    var min_x = Math.min(x0, x1);\n",
       "    var min_y = Math.min(y0, y1);\n",
       "    var width = Math.abs(x1 - x0);\n",
       "    var height = Math.abs(y1 - y0);\n",
       "\n",
       "    fig.rubberband_context.clearRect(\n",
       "        0, 0, fig.canvas.width / mpl.ratio, fig.canvas.height / mpl.ratio);\n",
       "\n",
       "    fig.rubberband_context.strokeRect(min_x, min_y, width, height);\n",
       "}\n",
       "\n",
       "mpl.figure.prototype.handle_figure_label = function(fig, msg) {\n",
       "    // Updates the figure title.\n",
       "    fig.header.textContent = msg['label'];\n",
       "}\n",
       "\n",
       "mpl.figure.prototype.handle_cursor = function(fig, msg) {\n",
       "    var cursor = msg['cursor'];\n",
       "    switch(cursor)\n",
       "    {\n",
       "    case 0:\n",
       "        cursor = 'pointer';\n",
       "        break;\n",
       "    case 1:\n",
       "        cursor = 'default';\n",
       "        break;\n",
       "    case 2:\n",
       "        cursor = 'crosshair';\n",
       "        break;\n",
       "    case 3:\n",
       "        cursor = 'move';\n",
       "        break;\n",
       "    }\n",
       "    fig.rubberband_canvas.style.cursor = cursor;\n",
       "}\n",
       "\n",
       "mpl.figure.prototype.handle_message = function(fig, msg) {\n",
       "    fig.message.textContent = msg['message'];\n",
       "}\n",
       "\n",
       "mpl.figure.prototype.handle_draw = function(fig, msg) {\n",
       "    // Request the server to send over a new figure.\n",
       "    fig.send_draw_message();\n",
       "}\n",
       "\n",
       "mpl.figure.prototype.handle_image_mode = function(fig, msg) {\n",
       "    fig.image_mode = msg['mode'];\n",
       "}\n",
       "\n",
       "mpl.figure.prototype.updated_canvas_event = function() {\n",
       "    // Called whenever the canvas gets updated.\n",
       "    this.send_message(\"ack\", {});\n",
       "}\n",
       "\n",
       "// A function to construct a web socket function for onmessage handling.\n",
       "// Called in the figure constructor.\n",
       "mpl.figure.prototype._make_on_message_function = function(fig) {\n",
       "    return function socket_on_message(evt) {\n",
       "        if (evt.data instanceof Blob) {\n",
       "            /* FIXME: We get \"Resource interpreted as Image but\n",
       "             * transferred with MIME type text/plain:\" errors on\n",
       "             * Chrome.  But how to set the MIME type?  It doesn't seem\n",
       "             * to be part of the websocket stream */\n",
       "            evt.data.type = \"image/png\";\n",
       "\n",
       "            /* Free the memory for the previous frames */\n",
       "            if (fig.imageObj.src) {\n",
       "                (window.URL || window.webkitURL).revokeObjectURL(\n",
       "                    fig.imageObj.src);\n",
       "            }\n",
       "\n",
       "            fig.imageObj.src = (window.URL || window.webkitURL).createObjectURL(\n",
       "                evt.data);\n",
       "            fig.updated_canvas_event();\n",
       "            fig.waiting = false;\n",
       "            return;\n",
       "        }\n",
       "        else if (typeof evt.data === 'string' && evt.data.slice(0, 21) == \"data:image/png;base64\") {\n",
       "            fig.imageObj.src = evt.data;\n",
       "            fig.updated_canvas_event();\n",
       "            fig.waiting = false;\n",
       "            return;\n",
       "        }\n",
       "\n",
       "        var msg = JSON.parse(evt.data);\n",
       "        var msg_type = msg['type'];\n",
       "\n",
       "        // Call the  \"handle_{type}\" callback, which takes\n",
       "        // the figure and JSON message as its only arguments.\n",
       "        try {\n",
       "            var callback = fig[\"handle_\" + msg_type];\n",
       "        } catch (e) {\n",
       "            console.log(\"No handler for the '\" + msg_type + \"' message type: \", msg);\n",
       "            return;\n",
       "        }\n",
       "\n",
       "        if (callback) {\n",
       "            try {\n",
       "                // console.log(\"Handling '\" + msg_type + \"' message: \", msg);\n",
       "                callback(fig, msg);\n",
       "            } catch (e) {\n",
       "                console.log(\"Exception inside the 'handler_\" + msg_type + \"' callback:\", e, e.stack, msg);\n",
       "            }\n",
       "        }\n",
       "    };\n",
       "}\n",
       "\n",
       "// from http://stackoverflow.com/questions/1114465/getting-mouse-location-in-canvas\n",
       "mpl.findpos = function(e) {\n",
       "    //this section is from http://www.quirksmode.org/js/events_properties.html\n",
       "    var targ;\n",
       "    if (!e)\n",
       "        e = window.event;\n",
       "    if (e.target)\n",
       "        targ = e.target;\n",
       "    else if (e.srcElement)\n",
       "        targ = e.srcElement;\n",
       "    if (targ.nodeType == 3) // defeat Safari bug\n",
       "        targ = targ.parentNode;\n",
       "\n",
       "    // jQuery normalizes the pageX and pageY\n",
       "    // pageX,Y are the mouse positions relative to the document\n",
       "    // offset() returns the position of the element relative to the document\n",
       "    var x = e.pageX - $(targ).offset().left;\n",
       "    var y = e.pageY - $(targ).offset().top;\n",
       "\n",
       "    return {\"x\": x, \"y\": y};\n",
       "};\n",
       "\n",
       "/*\n",
       " * return a copy of an object with only non-object keys\n",
       " * we need this to avoid circular references\n",
       " * http://stackoverflow.com/a/24161582/3208463\n",
       " */\n",
       "function simpleKeys (original) {\n",
       "  return Object.keys(original).reduce(function (obj, key) {\n",
       "    if (typeof original[key] !== 'object')\n",
       "        obj[key] = original[key]\n",
       "    return obj;\n",
       "  }, {});\n",
       "}\n",
       "\n",
       "mpl.figure.prototype.mouse_event = function(event, name) {\n",
       "    var canvas_pos = mpl.findpos(event)\n",
       "\n",
       "    if (name === 'button_press')\n",
       "    {\n",
       "        this.canvas.focus();\n",
       "        this.canvas_div.focus();\n",
       "    }\n",
       "\n",
       "    var x = canvas_pos.x * mpl.ratio;\n",
       "    var y = canvas_pos.y * mpl.ratio;\n",
       "\n",
       "    this.send_message(name, {x: x, y: y, button: event.button,\n",
       "                             step: event.step,\n",
       "                             guiEvent: simpleKeys(event)});\n",
       "\n",
       "    /* This prevents the web browser from automatically changing to\n",
       "     * the text insertion cursor when the button is pressed.  We want\n",
       "     * to control all of the cursor setting manually through the\n",
       "     * 'cursor' event from matplotlib */\n",
       "    event.preventDefault();\n",
       "    return false;\n",
       "}\n",
       "\n",
       "mpl.figure.prototype._key_event_extra = function(event, name) {\n",
       "    // Handle any extra behaviour associated with a key event\n",
       "}\n",
       "\n",
       "mpl.figure.prototype.key_event = function(event, name) {\n",
       "\n",
       "    // Prevent repeat events\n",
       "    if (name == 'key_press')\n",
       "    {\n",
       "        if (event.which === this._key)\n",
       "            return;\n",
       "        else\n",
       "            this._key = event.which;\n",
       "    }\n",
       "    if (name == 'key_release')\n",
       "        this._key = null;\n",
       "\n",
       "    var value = '';\n",
       "    if (event.ctrlKey && event.which != 17)\n",
       "        value += \"ctrl+\";\n",
       "    if (event.altKey && event.which != 18)\n",
       "        value += \"alt+\";\n",
       "    if (event.shiftKey && event.which != 16)\n",
       "        value += \"shift+\";\n",
       "\n",
       "    value += 'k';\n",
       "    value += event.which.toString();\n",
       "\n",
       "    this._key_event_extra(event, name);\n",
       "\n",
       "    this.send_message(name, {key: value,\n",
       "                             guiEvent: simpleKeys(event)});\n",
       "    return false;\n",
       "}\n",
       "\n",
       "mpl.figure.prototype.toolbar_button_onclick = function(name) {\n",
       "    if (name == 'download') {\n",
       "        this.handle_save(this, null);\n",
       "    } else {\n",
       "        this.send_message(\"toolbar_button\", {name: name});\n",
       "    }\n",
       "};\n",
       "\n",
       "mpl.figure.prototype.toolbar_button_onmouseover = function(tooltip) {\n",
       "    this.message.textContent = tooltip;\n",
       "};\n",
       "mpl.toolbar_items = [[\"Home\", \"Reset original view\", \"fa fa-home icon-home\", \"home\"], [\"Back\", \"Back to previous view\", \"fa fa-arrow-left icon-arrow-left\", \"back\"], [\"Forward\", \"Forward to next view\", \"fa fa-arrow-right icon-arrow-right\", \"forward\"], [\"\", \"\", \"\", \"\"], [\"Pan\", \"Pan axes with left mouse, zoom with right\", \"fa fa-arrows icon-move\", \"pan\"], [\"Zoom\", \"Zoom to rectangle\", \"fa fa-square-o icon-check-empty\", \"zoom\"], [\"\", \"\", \"\", \"\"], [\"Download\", \"Download plot\", \"fa fa-floppy-o icon-save\", \"download\"]];\n",
       "\n",
       "mpl.extensions = [\"eps\", \"jpeg\", \"pdf\", \"png\", \"ps\", \"raw\", \"svg\", \"tif\"];\n",
       "\n",
       "mpl.default_extension = \"png\";var comm_websocket_adapter = function(comm) {\n",
       "    // Create a \"websocket\"-like object which calls the given IPython comm\n",
       "    // object with the appropriate methods. Currently this is a non binary\n",
       "    // socket, so there is still some room for performance tuning.\n",
       "    var ws = {};\n",
       "\n",
       "    ws.close = function() {\n",
       "        comm.close()\n",
       "    };\n",
       "    ws.send = function(m) {\n",
       "        //console.log('sending', m);\n",
       "        comm.send(m);\n",
       "    };\n",
       "    // Register the callback with on_msg.\n",
       "    comm.on_msg(function(msg) {\n",
       "        //console.log('receiving', msg['content']['data'], msg);\n",
       "        // Pass the mpl event to the overridden (by mpl) onmessage function.\n",
       "        ws.onmessage(msg['content']['data'])\n",
       "    });\n",
       "    return ws;\n",
       "}\n",
       "\n",
       "mpl.mpl_figure_comm = function(comm, msg) {\n",
       "    // This is the function which gets called when the mpl process\n",
       "    // starts-up an IPython Comm through the \"matplotlib\" channel.\n",
       "\n",
       "    var id = msg.content.data.id;\n",
       "    // Get hold of the div created by the display call when the Comm\n",
       "    // socket was opened in Python.\n",
       "    var element = $(\"#\" + id);\n",
       "    var ws_proxy = comm_websocket_adapter(comm)\n",
       "\n",
       "    function ondownload(figure, format) {\n",
       "        window.open(figure.imageObj.src);\n",
       "    }\n",
       "\n",
       "    var fig = new mpl.figure(id, ws_proxy,\n",
       "                           ondownload,\n",
       "                           element.get(0));\n",
       "\n",
       "    // Call onopen now - mpl needs it, as it is assuming we've passed it a real\n",
       "    // web socket which is closed, not our websocket->open comm proxy.\n",
       "    ws_proxy.onopen();\n",
       "\n",
       "    fig.parent_element = element.get(0);\n",
       "    fig.cell_info = mpl.find_output_cell(\"<div id='\" + id + \"'></div>\");\n",
       "    if (!fig.cell_info) {\n",
       "        console.error(\"Failed to find cell for figure\", id, fig);\n",
       "        return;\n",
       "    }\n",
       "\n",
       "    var output_index = fig.cell_info[2]\n",
       "    var cell = fig.cell_info[0];\n",
       "\n",
       "};\n",
       "\n",
       "mpl.figure.prototype.handle_close = function(fig, msg) {\n",
       "    var width = fig.canvas.width/mpl.ratio\n",
       "    fig.root.unbind('remove')\n",
       "\n",
       "    // Update the output cell to use the data from the current canvas.\n",
       "    fig.push_to_output();\n",
       "    var dataURL = fig.canvas.toDataURL();\n",
       "    // Re-enable the keyboard manager in IPython - without this line, in FF,\n",
       "    // the notebook keyboard shortcuts fail.\n",
       "    IPython.keyboard_manager.enable()\n",
       "    $(fig.parent_element).html('<img src=\"' + dataURL + '\" width=\"' + width + '\">');\n",
       "    fig.close_ws(fig, msg);\n",
       "}\n",
       "\n",
       "mpl.figure.prototype.close_ws = function(fig, msg){\n",
       "    fig.send_message('closing', msg);\n",
       "    // fig.ws.close()\n",
       "}\n",
       "\n",
       "mpl.figure.prototype.push_to_output = function(remove_interactive) {\n",
       "    // Turn the data on the canvas into data in the output cell.\n",
       "    var width = this.canvas.width/mpl.ratio\n",
       "    var dataURL = this.canvas.toDataURL();\n",
       "    this.cell_info[1]['text/html'] = '<img src=\"' + dataURL + '\" width=\"' + width + '\">';\n",
       "}\n",
       "\n",
       "mpl.figure.prototype.updated_canvas_event = function() {\n",
       "    // Tell IPython that the notebook contents must change.\n",
       "    IPython.notebook.set_dirty(true);\n",
       "    this.send_message(\"ack\", {});\n",
       "    var fig = this;\n",
       "    // Wait a second, then push the new image to the DOM so\n",
       "    // that it is saved nicely (might be nice to debounce this).\n",
       "    setTimeout(function () { fig.push_to_output() }, 1000);\n",
       "}\n",
       "\n",
       "mpl.figure.prototype._init_toolbar = function() {\n",
       "    var fig = this;\n",
       "\n",
       "    var nav_element = $('<div/>');\n",
       "    nav_element.attr('style', 'width: 100%');\n",
       "    this.root.append(nav_element);\n",
       "\n",
       "    // Define a callback function for later on.\n",
       "    function toolbar_event(event) {\n",
       "        return fig.toolbar_button_onclick(event['data']);\n",
       "    }\n",
       "    function toolbar_mouse_event(event) {\n",
       "        return fig.toolbar_button_onmouseover(event['data']);\n",
       "    }\n",
       "\n",
       "    for(var toolbar_ind in mpl.toolbar_items){\n",
       "        var name = mpl.toolbar_items[toolbar_ind][0];\n",
       "        var tooltip = mpl.toolbar_items[toolbar_ind][1];\n",
       "        var image = mpl.toolbar_items[toolbar_ind][2];\n",
       "        var method_name = mpl.toolbar_items[toolbar_ind][3];\n",
       "\n",
       "        if (!name) { continue; };\n",
       "\n",
       "        var button = $('<button class=\"btn btn-default\" href=\"#\" title=\"' + name + '\"><i class=\"fa ' + image + ' fa-lg\"></i></button>');\n",
       "        button.click(method_name, toolbar_event);\n",
       "        button.mouseover(tooltip, toolbar_mouse_event);\n",
       "        nav_element.append(button);\n",
       "    }\n",
       "\n",
       "    // Add the status bar.\n",
       "    var status_bar = $('<span class=\"mpl-message\" style=\"text-align:right; float: right;\"/>');\n",
       "    nav_element.append(status_bar);\n",
       "    this.message = status_bar[0];\n",
       "\n",
       "    // Add the close button to the window.\n",
       "    var buttongrp = $('<div class=\"btn-group inline pull-right\"></div>');\n",
       "    var button = $('<button class=\"btn btn-mini btn-primary\" href=\"#\" title=\"Stop Interaction\"><i class=\"fa fa-power-off icon-remove icon-large\"></i></button>');\n",
       "    button.click(function (evt) { fig.handle_close(fig, {}); } );\n",
       "    button.mouseover('Stop Interaction', toolbar_mouse_event);\n",
       "    buttongrp.append(button);\n",
       "    var titlebar = this.root.find($('.ui-dialog-titlebar'));\n",
       "    titlebar.prepend(buttongrp);\n",
       "}\n",
       "\n",
       "mpl.figure.prototype._root_extra_style = function(el){\n",
       "    var fig = this\n",
       "    el.on(\"remove\", function(){\n",
       "\tfig.close_ws(fig, {});\n",
       "    });\n",
       "}\n",
       "\n",
       "mpl.figure.prototype._canvas_extra_style = function(el){\n",
       "    // this is important to make the div 'focusable\n",
       "    el.attr('tabindex', 0)\n",
       "    // reach out to IPython and tell the keyboard manager to turn it's self\n",
       "    // off when our div gets focus\n",
       "\n",
       "    // location in version 3\n",
       "    if (IPython.notebook.keyboard_manager) {\n",
       "        IPython.notebook.keyboard_manager.register_events(el);\n",
       "    }\n",
       "    else {\n",
       "        // location in version 2\n",
       "        IPython.keyboard_manager.register_events(el);\n",
       "    }\n",
       "\n",
       "}\n",
       "\n",
       "mpl.figure.prototype._key_event_extra = function(event, name) {\n",
       "    var manager = IPython.notebook.keyboard_manager;\n",
       "    if (!manager)\n",
       "        manager = IPython.keyboard_manager;\n",
       "\n",
       "    // Check for shift+enter\n",
       "    if (event.shiftKey && event.which == 13) {\n",
       "        this.canvas_div.blur();\n",
       "        // select the cell after this one\n",
       "        var index = IPython.notebook.find_cell_index(this.cell_info[0]);\n",
       "        IPython.notebook.select(index + 1);\n",
       "    }\n",
       "}\n",
       "\n",
       "mpl.figure.prototype.handle_save = function(fig, msg) {\n",
       "    fig.ondownload(fig, null);\n",
       "}\n",
       "\n",
       "\n",
       "mpl.find_output_cell = function(html_output) {\n",
       "    // Return the cell and output element which can be found *uniquely* in the notebook.\n",
       "    // Note - this is a bit hacky, but it is done because the \"notebook_saving.Notebook\"\n",
       "    // IPython event is triggered only after the cells have been serialised, which for\n",
       "    // our purposes (turning an active figure into a static one), is too late.\n",
       "    var cells = IPython.notebook.get_cells();\n",
       "    var ncells = cells.length;\n",
       "    for (var i=0; i<ncells; i++) {\n",
       "        var cell = cells[i];\n",
       "        if (cell.cell_type === 'code'){\n",
       "            for (var j=0; j<cell.output_area.outputs.length; j++) {\n",
       "                var data = cell.output_area.outputs[j];\n",
       "                if (data.data) {\n",
       "                    // IPython >= 3 moved mimebundle to data attribute of output\n",
       "                    data = data.data;\n",
       "                }\n",
       "                if (data['text/html'] == html_output) {\n",
       "                    return [cell, data, j];\n",
       "                }\n",
       "            }\n",
       "        }\n",
       "    }\n",
       "}\n",
       "\n",
       "// Register the function which deals with the matplotlib target/channel.\n",
       "// The kernel may be null if the page has been refreshed.\n",
       "if (IPython.notebook.kernel != null) {\n",
       "    IPython.notebook.kernel.comm_manager.register_target('matplotlib', mpl.mpl_figure_comm);\n",
       "}\n"
      ],
      "text/plain": [
       "<IPython.core.display.Javascript object>"
      ]
     },
     "metadata": {},
     "output_type": "display_data"
    },
    {
     "data": {
      "text/html": [
       "<img src=\"data:image/png;base64,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\" width=\"1200\">"
      ],
      "text/plain": [
       "<IPython.core.display.HTML object>"
      ]
     },
     "metadata": {},
     "output_type": "display_data"
    },
    {
     "data": {
      "application/vnd.jupyter.widget-view+json": {
       "model_id": "777758f0b75d43c89ae3807df1900cc2",
       "version_major": 2,
       "version_minor": 0
      },
      "text/plain": [
       "HBox(children=(Text(value='BEcKPFM_sfPFM5_0016.png', description='Output Filename:', layout=Layout(width='50%'…"
      ]
     },
     "metadata": {},
     "output_type": "display_data"
    },
    {
     "data": {
      "application/vnd.jupyter.widget-view+json": {
       "model_id": "4c10f9ff5a104ccda477c77419cf2f9c",
       "version_major": 2,
       "version_minor": 0
      },
      "text/plain": [
       "interactive(children=(IntSlider(value=0, description='Step', max=26840), Output()), _dom_classes=('widget-inte…"
      ]
     },
     "metadata": {},
     "output_type": "display_data"
    }
   ],
   "source": [
    "fig = belib.viz.be_viz_utils.jupyter_visualize_be_spectrograms(h5_main)"
   ]
  },
  {
   "cell_type": "markdown",
   "metadata": {},
   "source": [
    "## Fit the Band Excitation (BE) spectra\n",
    "Fit each of the acquired spectra to a simple harmonic oscillator (SHO) model to extract the following information regarding the response:\n",
    "* Oscillation amplitude\n",
    "* Phase\n",
    "* Resonance frequency\n",
    "* Quality factor\n",
    "\n",
    "By default, the cell below will take any previous result instead of re-computing the SHO fit"
   ]
  },
  {
   "cell_type": "code",
   "execution_count": 30,
   "metadata": {
    "scrolled": false
   },
   "outputs": [
    {
     "name": "stdout",
     "output_type": "stream",
     "text": [
      "Consider calling test() to check results before calling compute() which computes on the entire dataset and writes results to the HDF5 file\n",
      "Group: <HDF5 group \"/Measurement_000/Channel_000/Raw_Data-SHO_Fit_000\" (3 members)> had neither the status HDF5 dataset or the legacy attribute: \"last_pixel\".\n",
      "\n",
      "Note: SHO_Fit has already been performed with the same parameters before. These results will be returned by compute() by default. Set override to True to force fresh computation\n",
      "\n",
      "[<HDF5 group \"/Measurement_000/Channel_000/Raw_Data-SHO_Fit_001\" (7 members)>]\n",
      "\n",
      "Note: SHO_Fit has already been performed with the same parameters before. These results will be returned by compute() by default. Set override to True to force fresh computation\n",
      "\n",
      "[<HDF5 group \"/Measurement_000/Channel_000/Raw_Data-SHO_Fit_001\" (7 members)>]\n",
      "Returned previously computed results at /Measurement_000/Channel_000/Raw_Data-SHO_Fit_001\n",
      "\n",
      "Note: SHO_Fit has already been performed with the same parameters before. These results will be returned by compute() by default. Set override to True to force fresh computation\n",
      "\n",
      "[<HDF5 group \"/Measurement_000/Channel_000/Raw_Data-SHO_Fit_001\" (7 members)>]\n",
      "Returned previously computed results at /Measurement_000/Channel_000/Raw_Data-SHO_Fit_001\n"
     ]
    }
   ],
   "source": [
    "sho_fit_points = 5  # The number of data points at each step to use when fitting\n",
    "sho_override = False  # Force recompute if True\n",
    "\n",
    "h5_sho_targ_grp = None\n",
    "if results_to_new_file:\n",
    "    h5_sho_file_path = os.path.join(folder_path, \n",
    "                                h5_raw_file_name.replace('.h5', '_sho_fit.h5'))\n",
    "    print('\\n\\nSHO Fits will be written to:\\n' + h5_sho_file_path + '\\n\\n')\n",
    "    f_open_mode = 'w'\n",
    "    if os.path.exists(h5_sho_file_path):\n",
    "        f_open_mode = 'r+'\n",
    "    h5_sho_file = h5py.File(h5_sho_file_path, mode=f_open_mode)\n",
    "    h5_sho_targ_grp = h5_sho_file\n",
    "\n",
    "sho_fitter = belib.analysis.BESHOfitter(h5_main, cores=max_cores, verbose=False, h5_target_group=h5_sho_targ_grp)\n",
    "sho_fitter.set_up_guess(guess_func=belib.analysis.be_sho_fitter.SHOGuessFunc.complex_gaussian,\n",
    "                        num_points=sho_fit_points)\n",
    "h5_sho_guess = sho_fitter.do_guess(override=sho_override)\n",
    "sho_fitter.set_up_fit()\n",
    "h5_sho_fit = sho_fitter.do_fit(override=sho_override)\n",
    "h5_sho_grp = h5_sho_fit.parent"
   ]
  },
  {
   "cell_type": "markdown",
   "metadata": {},
   "source": [
    "# cKPFM data analysis\n",
    "\n",
    "- Figures will be saved to the same directory where this HDF5 file is located\n",
    "- Set high_voltage_amplf to 10 if a high voltage amplifier was used, otherwise set to 1"
   ]
  },
  {
   "cell_type": "code",
   "execution_count": 31,
   "metadata": {},
   "outputs": [],
   "source": [
    "# If HV amplifier was used set high_voltage_amplf to 10, else to 1\n",
    "high_voltage_amplf = 1"
   ]
  },
  {
   "cell_type": "markdown",
   "metadata": {},
   "source": [
    "## Remove phase offset\n",
    "\n",
    "If removing the instrumental phase offset is not desired, set phase_offset = 0"
   ]
  },
  {
   "cell_type": "code",
   "execution_count": 32,
   "metadata": {},
   "outputs": [
    {
     "name": "stdout",
     "output_type": "stream",
     "text": [
      "Nd_mat shape =  (30, 30, 2, 20, 11)\n",
      "Phase offset [rad] =  -2.619004\n"
     ]
    }
   ],
   "source": [
    "Nd_mat = h5_sho_fit.get_n_dim_form()\n",
    "print('Nd_mat shape = ', Nd_mat.shape)\n",
    "\n",
    "phase_offset = Nd_mat[0, 0, 1, 0, 0]['Phase [rad]']\n",
    "\n",
    "print('Phase offset [rad] = ', phase_offset)\n",
    "\n",
    "Nd_mat[:,:,:,:,:]['Phase [rad]'] = Nd_mat[:,:,:,:,:]['Phase [rad]'] - phase_offset\n"
   ]
  },
  {
   "cell_type": "markdown",
   "metadata": {},
   "source": [
    "## Display cKPFM data\n",
    "The figure shows:\n",
    "\n",
    "- Read and write voltage steps with the selected step marked as a red dot\n",
    "- Response map at read and write voltage steps selected with sliders\n",
    "- Real component of the response at selected read and write steps and x/y coordinates <b> -> select option</b>\n",
    "- Response at each write step (x-axis) after each write pulse (color coded)\n",
    "\n",
    "The 'Save figure' button saves the displayed figure in the above specified output file path as tiff, png and eps file. Alternatively, figures can be copy pasted into other programs like Powerpoint or Word.\n",
    "\n",
    "#### Select display option by setting 'option = 1' or 'option = 2' in the second line of the code\n",
    "- Option 1: display response curves from the maximum write step to the minimum write step\n",
    "- Option 2: display response curves from all write voltages"
   ]
  },
  {
   "cell_type": "code",
   "execution_count": 35,
   "metadata": {
    "scrolled": false
   },
   "outputs": [
    {
     "ename": "TypeError",
     "evalue": "Can't broadcast (220,) -> (440,)",
     "output_type": "error",
     "traceback": [
      "\u001b[0;31m---------------------------------------------------------------------------\u001b[0m",
      "\u001b[0;31mTypeError\u001b[0m                                 Traceback (most recent call last)",
      "\u001b[0;32m<ipython-input-35-f3e06d88c94b>\u001b[0m in \u001b[0;36m<module>\u001b[0;34m\u001b[0m\n\u001b[1;32m     17\u001b[0m     \u001b[0mread_volt_index\u001b[0m \u001b[0;34m=\u001b[0m \u001b[0msho_spec_labels\u001b[0m\u001b[0;34m.\u001b[0m\u001b[0mindex\u001b[0m\u001b[0;34m(\u001b[0m\u001b[0;34m'read_bias'\u001b[0m\u001b[0;34m)\u001b[0m\u001b[0;34m\u001b[0m\u001b[0;34m\u001b[0m\u001b[0m\n\u001b[1;32m     18\u001b[0m     \u001b[0mh5_sho_spec_inds\u001b[0m\u001b[0;34m[\u001b[0m\u001b[0mread_volt_index\u001b[0m\u001b[0;34m,\u001b[0m \u001b[0;34m:\u001b[0m\u001b[0;34m]\u001b[0m \u001b[0;34m-=\u001b[0m \u001b[0mnp\u001b[0m\u001b[0;34m.\u001b[0m\u001b[0mmin\u001b[0m\u001b[0;34m(\u001b[0m\u001b[0mh5_sho_spec_inds\u001b[0m\u001b[0;34m[\u001b[0m\u001b[0mread_volt_index\u001b[0m\u001b[0;34m,\u001b[0m \u001b[0;34m:\u001b[0m\u001b[0;34m]\u001b[0m\u001b[0;34m)\u001b[0m\u001b[0;34m\u001b[0m\u001b[0;34m\u001b[0m\u001b[0m\n\u001b[0;32m---> 19\u001b[0;31m     \u001b[0mh5_sho_spec_inds\u001b[0m\u001b[0;34m[\u001b[0m\u001b[0mwrite_volt_index\u001b[0m\u001b[0;34m,\u001b[0m \u001b[0;34m:\u001b[0m\u001b[0;34m]\u001b[0m \u001b[0;34m=\u001b[0m \u001b[0mnp\u001b[0m\u001b[0;34m.\u001b[0m\u001b[0mtile\u001b[0m\u001b[0;34m(\u001b[0m\u001b[0mnp\u001b[0m\u001b[0;34m.\u001b[0m\u001b[0mrepeat\u001b[0m\u001b[0;34m(\u001b[0m\u001b[0mnp\u001b[0m\u001b[0;34m.\u001b[0m\u001b[0marange\u001b[0m\u001b[0;34m(\u001b[0m\u001b[0mnum_write_steps\u001b[0m\u001b[0;34m)\u001b[0m\u001b[0;34m,\u001b[0m \u001b[0mnum_fields\u001b[0m\u001b[0;34m)\u001b[0m\u001b[0;34m,\u001b[0m \u001b[0mnum_read_steps\u001b[0m\u001b[0;34m)\u001b[0m\u001b[0;34m\u001b[0m\u001b[0;34m\u001b[0m\u001b[0m\n\u001b[0m\u001b[1;32m     20\u001b[0m \u001b[0;34m\u001b[0m\u001b[0m\n\u001b[1;32m     21\u001b[0m \u001b[0;31m# Get the bias matrix:\u001b[0m\u001b[0;34m\u001b[0m\u001b[0;34m\u001b[0m\u001b[0;34m\u001b[0m\u001b[0m\n",
      "\u001b[0;32mh5py/_objects.pyx\u001b[0m in \u001b[0;36mh5py._objects.with_phil.wrapper\u001b[0;34m()\u001b[0m\n",
      "\u001b[0;32mh5py/_objects.pyx\u001b[0m in \u001b[0;36mh5py._objects.with_phil.wrapper\u001b[0;34m()\u001b[0m\n",
      "\u001b[0;32m//anaconda3/lib/python3.7/site-packages/h5py/_hl/dataset.py\u001b[0m in \u001b[0;36m__setitem__\u001b[0;34m(self, args, val)\u001b[0m\n\u001b[1;32m    705\u001b[0m             \u001b[0mmshape_pad\u001b[0m \u001b[0;34m=\u001b[0m \u001b[0mmshape\u001b[0m\u001b[0;34m\u001b[0m\u001b[0;34m\u001b[0m\u001b[0m\n\u001b[1;32m    706\u001b[0m         \u001b[0mmspace\u001b[0m \u001b[0;34m=\u001b[0m \u001b[0mh5s\u001b[0m\u001b[0;34m.\u001b[0m\u001b[0mcreate_simple\u001b[0m\u001b[0;34m(\u001b[0m\u001b[0mmshape_pad\u001b[0m\u001b[0;34m,\u001b[0m \u001b[0;34m(\u001b[0m\u001b[0mh5s\u001b[0m\u001b[0;34m.\u001b[0m\u001b[0mUNLIMITED\u001b[0m\u001b[0;34m,\u001b[0m\u001b[0;34m)\u001b[0m\u001b[0;34m*\u001b[0m\u001b[0mlen\u001b[0m\u001b[0;34m(\u001b[0m\u001b[0mmshape_pad\u001b[0m\u001b[0;34m)\u001b[0m\u001b[0;34m)\u001b[0m\u001b[0;34m\u001b[0m\u001b[0;34m\u001b[0m\u001b[0m\n\u001b[0;32m--> 707\u001b[0;31m         \u001b[0;32mfor\u001b[0m \u001b[0mfspace\u001b[0m \u001b[0;32min\u001b[0m \u001b[0mselection\u001b[0m\u001b[0;34m.\u001b[0m\u001b[0mbroadcast\u001b[0m\u001b[0;34m(\u001b[0m\u001b[0mmshape\u001b[0m\u001b[0;34m)\u001b[0m\u001b[0;34m:\u001b[0m\u001b[0;34m\u001b[0m\u001b[0;34m\u001b[0m\u001b[0m\n\u001b[0m\u001b[1;32m    708\u001b[0m             \u001b[0mself\u001b[0m\u001b[0;34m.\u001b[0m\u001b[0mid\u001b[0m\u001b[0;34m.\u001b[0m\u001b[0mwrite\u001b[0m\u001b[0;34m(\u001b[0m\u001b[0mmspace\u001b[0m\u001b[0;34m,\u001b[0m \u001b[0mfspace\u001b[0m\u001b[0;34m,\u001b[0m \u001b[0mval\u001b[0m\u001b[0;34m,\u001b[0m \u001b[0mmtype\u001b[0m\u001b[0;34m,\u001b[0m \u001b[0mdxpl\u001b[0m\u001b[0;34m=\u001b[0m\u001b[0mself\u001b[0m\u001b[0;34m.\u001b[0m\u001b[0m_dxpl\u001b[0m\u001b[0;34m)\u001b[0m\u001b[0;34m\u001b[0m\u001b[0;34m\u001b[0m\u001b[0m\n\u001b[1;32m    709\u001b[0m \u001b[0;34m\u001b[0m\u001b[0m\n",
      "\u001b[0;32m//anaconda3/lib/python3.7/site-packages/h5py/_hl/selections.py\u001b[0m in \u001b[0;36mbroadcast\u001b[0;34m(self, target_shape)\u001b[0m\n\u001b[1;32m    297\u001b[0m                     \u001b[0mtshape\u001b[0m\u001b[0;34m.\u001b[0m\u001b[0mappend\u001b[0m\u001b[0;34m(\u001b[0m\u001b[0mt\u001b[0m\u001b[0;34m)\u001b[0m\u001b[0;34m\u001b[0m\u001b[0;34m\u001b[0m\u001b[0m\n\u001b[1;32m    298\u001b[0m                 \u001b[0;32melse\u001b[0m\u001b[0;34m:\u001b[0m\u001b[0;34m\u001b[0m\u001b[0;34m\u001b[0m\u001b[0m\n\u001b[0;32m--> 299\u001b[0;31m                     \u001b[0;32mraise\u001b[0m \u001b[0mTypeError\u001b[0m\u001b[0;34m(\u001b[0m\u001b[0;34m\"Can't broadcast %s -> %s\"\u001b[0m \u001b[0;34m%\u001b[0m \u001b[0;34m(\u001b[0m\u001b[0mtarget_shape\u001b[0m\u001b[0;34m,\u001b[0m \u001b[0mself\u001b[0m\u001b[0;34m.\u001b[0m\u001b[0mmshape\u001b[0m\u001b[0;34m)\u001b[0m\u001b[0;34m)\u001b[0m\u001b[0;34m\u001b[0m\u001b[0;34m\u001b[0m\u001b[0m\n\u001b[0m\u001b[1;32m    300\u001b[0m \u001b[0;34m\u001b[0m\u001b[0m\n\u001b[1;32m    301\u001b[0m         \u001b[0;32mif\u001b[0m \u001b[0many\u001b[0m\u001b[0;34m(\u001b[0m\u001b[0;34m[\u001b[0m\u001b[0mn\u001b[0m \u001b[0;34m>\u001b[0m \u001b[0;36m1\u001b[0m \u001b[0;32mfor\u001b[0m \u001b[0mn\u001b[0m \u001b[0;32min\u001b[0m \u001b[0mtarget\u001b[0m\u001b[0;34m]\u001b[0m\u001b[0;34m)\u001b[0m\u001b[0;34m:\u001b[0m\u001b[0;34m\u001b[0m\u001b[0;34m\u001b[0m\u001b[0m\n",
      "\u001b[0;31mTypeError\u001b[0m: Can't broadcast (220,) -> (440,)"
     ]
    }
   ],
   "source": [
    "global option, save_figure \n",
    "# Option 1: only show curves from maximum to minimum write voltage\n",
    "# Option 2: Show all curves from the whole write voltage waveform\n",
    "option = 1 \n",
    "save_figure = False # Save the figure after being generated if True\n",
    "\n",
    "h5_sho_spec_inds = h5_sho_fit.h5_spec_inds\n",
    "h5_sho_spec_vals = h5_sho_fit.h5_spec_vals\n",
    "\n",
    "sho_spec_labels = h5_sho_fit.spec_dim_labels\n",
    "pos_labels = h5_sho_fit.pos_dim_labels\n",
    "\n",
    "if is_ckpfm:\n",
    "    # It turns out that the read voltage index starts from 1 instead of 0\n",
    "    # Also the VDC indices are NOT repeating. They are just rising monotonically\n",
    "    write_volt_index = sho_spec_labels.index('write_bias')\n",
    "    read_volt_index = sho_spec_labels.index('read_bias')\n",
    "    h5_sho_spec_inds[read_volt_index, :] -= np.min(h5_sho_spec_inds[read_volt_index, :])\n",
    "    h5_sho_spec_inds[write_volt_index, :] = np.tile(np.repeat(np.arange(num_write_steps), num_fields), num_read_steps)\n",
    "\n",
    "# Get the bias matrix:\n",
    "bias_mat, _ = px.io.hdf_utils.reshape_to_Ndims(h5_sho_spec_vals, h5_spec=h5_sho_spec_inds)\n",
    "bias_vec_r_all = bias_mat[read_volt_index]*high_voltage_amplf\n",
    "bias_vec_w_all = bias_mat[write_volt_index]*high_voltage_amplf\n",
    "bias_vec_w = bias_vec_w_all.reshape(h5_sho_fit.spec_dim_sizes)[1, :, 1]\n",
    "bias_vec_r = bias_vec_r_all.reshape(h5_sho_fit.spec_dim_sizes)[1, :, :]\n",
    "\n",
    "# Option 1: only show curves from maximum to minimum write voltage:\n",
    "if option == 1:\n",
    "    write_step_start = np.argmax(bias_vec_w)\n",
    "    write_step_end = np.argmin(bias_vec_w)\n",
    "\n",
    "# ption 2: show all curves from the whole write voltage waveform\n",
    "if option == 2:\n",
    "    write_step_start = 0\n",
    "    write_step_end = num_write_steps-1\n",
    "\n",
    "bias_vec_r_display = np.transpose(bias_vec_r[write_step_start:write_step_end+1,:])\n",
    "\n",
    "print('These are the labels', sho_spec_labels)\n",
    "\n",
    "nd_labels = h5_sho_fit.n_dim_labels\n",
    "\n",
    "num_read_steps = Nd_mat.shape[nd_labels.index('read_bias')]\n",
    "num_write_steps = Nd_mat.shape[nd_labels.index('write_bias')]\n",
    "num_row = Nd_mat.shape[nd_labels.index('Y')]\n",
    "num_col = Nd_mat.shape[nd_labels.index('X')]\n",
    "\n",
    "# Indices of initial data points to plot\n",
    "row = 0\n",
    "col = 0\n",
    "field = 1\n",
    "dc_step_read = 0\n",
    "dc_step_write = 0\n",
    "\n",
    "# Select color scale range for map here\n",
    "cmin = -0.0001\n",
    "cmax = 0.0001\n",
    "\n",
    "# Get the read and write data to plot\n",
    "resp_vec_w = Nd_mat[row,col,field,:,dc_step_read]['Amplitude [V]'] * np.cos(Nd_mat[row,col,field,:,dc_step_read]['Phase [rad]'])*1000\n",
    "\n",
    "resp_mat_r = Nd_mat[:,:,1,dc_step_write,dc_step_read]['Amplitude [V]'] * np.cos(Nd_mat[:,:,1,dc_step_write,dc_step_read]['Phase [rad]'])*1000\n",
    "\n",
    "resp_vec_r = np.squeeze(Nd_mat[:,:,1,write_step_start:write_step_end+1,:]['Amplitude [V]'] \n",
    "                          * np.cos(Nd_mat[:,:,1,write_step_start:write_step_end+1,:]['Phase [rad]'])*1000)\n",
    "\n",
    "\n",
    "def make_figure(resp_mat_r, resp_vec_r, resp_vec_w, dc_step_read, dc_step_write, col, row):\n",
    "    global save_figure\n",
    "    plt.clf();\n",
    "    fig = plt.figure(figsize=(13, 9))\n",
    "    fig.set_facecolor('white')\n",
    "    \n",
    "    ax_bias_w = plt.subplot2grid((20, 2), (0, 0), colspan=1, rowspan=3)\n",
    "    ax_bias_r = plt.subplot2grid((20, 2), (5, 0), colspan=1, rowspan=3)\n",
    "    ax_loop_w = plt.subplot2grid((20, 2), (0, 1), colspan=1, rowspan=7)\n",
    "    ax_loop_r = plt.subplot2grid((20, 2), (9, 1), colspan=1, rowspan=8)\n",
    "    ax_colorbar = plt.subplot2grid((20, 2), (19, 1), colspan=1, rowspan=1)\n",
    "    ax_map = plt.subplot2grid((20, 2), (10, 0), colspan=1, rowspan=11)\n",
    "    \n",
    "    \n",
    "    \n",
    "    ax_bias_w.set_xlabel('Step', fontsize = 12)\n",
    "    ax_bias_w.set_ylabel('Write voltage [V]', fontsize = 12)\n",
    "    ax_bias_r.set_xlabel('Step', fontsize = 12)\n",
    "    ax_bias_r.set_ylabel('Read voltage [V]', fontsize = 12)\n",
    "    ax_loop_w.set_ylabel('Response [a.u.]', fontsize = 12)\n",
    "    ax_loop_w.set_xlabel('Write voltage [V]', fontsize = 12)\n",
    "    ax_loop_r.set_ylabel('Response [a.u.]', fontsize = 12)\n",
    "    ax_loop_r.set_xlabel('Read voltage [V]', fontsize = 12)\n",
    "\n",
    "    # Title saying read and write voltages\n",
    "    fig.suptitle('Read voltage = '+str(bias_vec_r[1,dc_step_read])+' V, Write voltage = ' +str(bias_vec_w[dc_step_write])+' V'\n",
    "                ', x = '+str(col)+', y = '+str(row), fontsize = 14);\n",
    "    \n",
    "    co_b = ax_map.imshow(resp_mat_r, cmap=px.plot_utils.cmap_jet_white_center(), origin='upper', \n",
    "                         interpolation='none');\n",
    "    cb = fig.colorbar(co_b)\n",
    "    \n",
    "    #Graph of DC write voltage\n",
    "    ax_bias_w.plot(bias_vec_w,'b.');\n",
    "    ax_bias_w.plot(dc_step_write,bias_vec_w[dc_step_write],'r.');\n",
    "    ax_bias_w.set_ylim([np.min(bias_vec_w)-0.5, np.max(bias_vec_w)+0.5])\n",
    "    \n",
    "    #Graph of DC read voltage\n",
    "    ax_bias_r.plot(np.transpose(bias_vec_r[1]),'b.');\n",
    "    ax_bias_r.plot(dc_step_read,np.transpose(bias_vec_r[1,dc_step_read]),'r.');\n",
    "    ax_bias_r.set_ylim([np.min(bias_vec_r)-0.5, np.max(bias_vec_r)+0.5])\n",
    "        \n",
    "    #Graph of response loop (amplitude * cos(phase)) vs write voltage at selected x, y and read step\n",
    "    ax_loop_w.plot(bias_vec_w, resp_vec_w,'.-');\n",
    "    \n",
    "    #Response loops (amplitude * cos(phase)) of all write voltage steps (color coded) vs read voltage at selected x, y\n",
    "    px.plot_utils.plot_line_family(ax_loop_r, bias_vec_r_display[:, :], \n",
    "                                   resp_vec_r, line_names='None',\n",
    "                                   label_prefix='Line', label_suffix='', cmap=plt.cm.jet)\n",
    "    \n",
    "    if option == 1:\n",
    "        colorbar_mat = np.column_stack((range(write_step_start,write_step_end+1),range(write_step_start,write_step_end+1)))\n",
    "        ax_colorbar.imshow(np.transpose(colorbar_mat[:,:]), cmap=plt.cm.jet, origin='lower', interpolation='none')\n",
    "        ax_colorbar.set_yticklabels('')\n",
    "        ax_colorbar.tick_params(axis = 'y', left = 'off', right = 'off')\n",
    "        plt.sca(ax_colorbar)\n",
    "        plt.xticks([0,write_step_end-write_step_start],[bias_vec_w[write_step_start],bias_vec_w[write_step_end]])\n",
    "        ax_colorbar.set_xlabel('Write voltage [V]', fontsize = 12)\n",
    "                \n",
    "    if option == 2:\n",
    "        colorbar_mat = np.column_stack((range(0,num_write_steps-1),range(0,num_write_steps-1)))\n",
    "        ax_colorbar.imshow(np.transpose(colorbar_mat[:,:]), cmap=plt.cm.jet, origin='lower', interpolation='none')\n",
    "        ax_colorbar.set_yticklabels('')\n",
    "        ax_colorbar.tick_params(axis = 'y', left = 'off', right = 'off')\n",
    "        ax_colorbar.set_xlabel('Write voltage step', fontsize = 12)\n",
    "        \n",
    "    \n",
    "    if save_figure == True:\n",
    "        fig.savefig(output_file_path+'\\cb_cKPFM_Vr'+str(dc_step_read)+'_Vw'+str(dc_step_write)+'_x='+str(col)+'_y='+str(row)+'.png', format='png')\n",
    "        fig.savefig(output_file_path+'\\cb_cKPFM_Vr'+str(dc_step_read)+'_Vw'+str(dc_step_write)+'_x='+str(col)+'_y='+str(row)+'.eps', format='eps')\n",
    "        fig.savefig(output_file_path+'\\cb_cKPFM_Vr'+str(dc_step_read)+'_Vw'+str(dc_step_write)+'_x='+str(col)+'_y='+str(row)+'.tif', format='tiff')\n",
    "        save_figure = False\n",
    "\n",
    "        \n",
    "def update_sho_plots(dc_step_read, dc_step_write, col, row, **kwargs):\n",
    "    resp_vec_w = Nd_mat[row,col,field,:,dc_step_read]['Amplitude [V]'] * np.cos(Nd_mat[row,col,field,:,dc_step_read]['Phase [rad]'])*1000\n",
    "    resp_vec_w = Nd_mat[row,col,field,:,dc_step_read]['Amplitude [V]'] * np.cos(Nd_mat[row,col,field,:,dc_step_read]['Phase [rad]'])*1000\n",
    "    resp_mat_r = Nd_mat[:,:,1,dc_step_write,dc_step_read]['Amplitude [V]'] * np.cos(Nd_mat[:,:,1,dc_step_write,dc_step_read]['Phase [rad]'])*1000\n",
    "    resp_vec_r = (Nd_mat[row,col,field,write_step_start:write_step_end+1,:]['Amplitude [V]'] \n",
    "                           * np.cos(Nd_mat[row,col,field,write_step_start:write_step_end+1,:]['Phase [rad]'])*1000)\n",
    "\n",
    "    make_figure(resp_mat_r, resp_vec_r, resp_vec_w, dc_step_read, dc_step_write, col, row)\n",
    "    \n",
    "    \n",
    "def on_save_button_clicked(b):\n",
    "    global save_figure \n",
    "    save_figure = True\n",
    "    dc_step_read =  dc_step_read_slider.value\n",
    "    dc_step_write = dc_step_write_slider.value\n",
    "    col = x_slider.value\n",
    "    row = y_slider.value\n",
    "    \n",
    "    update_sho_plots(dc_step_read,dc_step_write, col, row)\n",
    "    \n",
    "\n",
    "slider_dict = dict()   \n",
    "\n",
    "dc_step_read_slider = widgets.IntSlider(min = 0, max = num_read_steps-1, step = 1,value = 4,\n",
    "                                        description = 'Read step',continuous_update = False);\n",
    "dc_step_write_slider = widgets.IntSlider(min = 0, max = num_write_steps-1, step = 1,value = 0,\n",
    "                                         description = 'Write step', continuous_update = False);\n",
    "x_slider = widgets.IntSlider(min = 0, max = num_col-1,step = 1,value = 0,\n",
    "                             description='x',continuous_update = False);\n",
    "y_slider = widgets.IntSlider(min = 0,max = num_row-1,step = 1,value = 0,\n",
    "                             description = 'y',continuous_update = False);\n",
    "\n",
    "widgets.interact(update_sho_plots,dc_step_read=dc_step_read_slider,dc_step_write=dc_step_write_slider, col = x_slider, row = y_slider, **slider_dict); \n",
    "\n",
    "button = widgets.Button(description = 'Save figure')\n",
    "display(button)\n",
    "button.on_click(on_save_button_clicked)\n",
    "\n"
   ]
  },
  {
   "cell_type": "code",
   "execution_count": 34,
   "metadata": {},
   "outputs": [
    {
     "data": {
      "text/plain": [
       "<function pyUSID.io.hdf_utils.model.reshape_to_n_dims(h5_main, h5_pos=None, h5_spec=None, get_labels=False, verbose=False, sort_dims=False, lazy=False)>"
      ]
     },
     "execution_count": 34,
     "metadata": {},
     "output_type": "execute_result"
    }
   ],
   "source": [
    "usid.hdf_utils.reshape_to_n_dims"
   ]
  },
  {
   "cell_type": "markdown",
   "metadata": {},
   "source": [
    "## Display averaged cKPFM data\n",
    "\n",
    "Figures show response at each write step (x-axis) after each write pulse (color coded) averaged over the whole map (left) and averaged over the area selected with x- and y-range sliders (right).\n",
    "\n",
    "#### Select display option by setting 'option = 1' or 'option = 2' in the first line of the code\n",
    "- Option 1: display response curves from the maximum write step to the minimum write step\n",
    "- Option 2: display response curves from all write voltages"
   ]
  },
  {
   "cell_type": "code",
   "execution_count": 36,
   "metadata": {
    "scrolled": false
   },
   "outputs": [
    {
     "ename": "NameError",
     "evalue": "name 'bias_vec_w' is not defined",
     "output_type": "error",
     "traceback": [
      "\u001b[0;31m---------------------------------------------------------------------------\u001b[0m",
      "\u001b[0;31mNameError\u001b[0m                                 Traceback (most recent call last)",
      "\u001b[0;32m<ipython-input-36-c55e75d62746>\u001b[0m in \u001b[0;36m<module>\u001b[0;34m\u001b[0m\n\u001b[1;32m      3\u001b[0m \u001b[0;31m# Option 1: only show curves from maximum to minimum write voltage:\u001b[0m\u001b[0;34m\u001b[0m\u001b[0;34m\u001b[0m\u001b[0;34m\u001b[0m\u001b[0m\n\u001b[1;32m      4\u001b[0m \u001b[0;32mif\u001b[0m \u001b[0moption\u001b[0m \u001b[0;34m==\u001b[0m \u001b[0;36m1\u001b[0m\u001b[0;34m:\u001b[0m\u001b[0;34m\u001b[0m\u001b[0;34m\u001b[0m\u001b[0m\n\u001b[0;32m----> 5\u001b[0;31m     \u001b[0mwrite_step_start\u001b[0m \u001b[0;34m=\u001b[0m \u001b[0mnp\u001b[0m\u001b[0;34m.\u001b[0m\u001b[0margmax\u001b[0m\u001b[0;34m(\u001b[0m\u001b[0mbias_vec_w\u001b[0m\u001b[0;34m)\u001b[0m\u001b[0;34m\u001b[0m\u001b[0;34m\u001b[0m\u001b[0m\n\u001b[0m\u001b[1;32m      6\u001b[0m     \u001b[0mwrite_step_end\u001b[0m \u001b[0;34m=\u001b[0m \u001b[0mnp\u001b[0m\u001b[0;34m.\u001b[0m\u001b[0margmin\u001b[0m\u001b[0;34m(\u001b[0m\u001b[0mbias_vec_w\u001b[0m\u001b[0;34m)\u001b[0m\u001b[0;34m\u001b[0m\u001b[0;34m\u001b[0m\u001b[0m\n\u001b[1;32m      7\u001b[0m \u001b[0;34m\u001b[0m\u001b[0m\n",
      "\u001b[0;31mNameError\u001b[0m: name 'bias_vec_w' is not defined"
     ]
    }
   ],
   "source": [
    "option = 1\n",
    "\n",
    "# Option 1: only show curves from maximum to minimum write voltage:\n",
    "if option == 1:\n",
    "    write_step_start = np.argmax(bias_vec_w)\n",
    "    write_step_end = np.argmin(bias_vec_w)\n",
    "\n",
    "# Option 2: show all curves from the whole write voltage waveform\n",
    "if option == 2:\n",
    "    write_step_start = 0\n",
    "    write_step_end = num_write_steps-1\n",
    "\n",
    "    \n",
    "bias_vec_r_display = np.transpose(bias_vec_r[write_step_start:write_step_end+1,:])\n",
    "\n",
    "num_display_steps = bias_vec_r_display.shape[1]\n",
    "\n",
    "\n",
    "global save_figure_vsr\n",
    "\n",
    "save_figure_vsr = False\n",
    "\n",
    "\n",
    "resp_mat_vsr = np.squeeze(Nd_mat[:,:,1,write_step_start:write_step_end+1,:]['Amplitude [V]'] \n",
    "                          * np.cos(Nd_mat[:,:,1,write_step_start:write_step_end+1,:]['Phase [rad]'])*1000)\n",
    "\n",
    "# Calculate response at 0 V read voltage averaged over all pixels\n",
    "resp_vsr_mean1 = np.nanmean(resp_mat_vsr,axis = 0)\n",
    "resp_vsr_std1 = np.nanstd(resp_mat_vsr,axis = 0)\n",
    "resp_vsr_mean = np.nanmean(resp_vsr_mean1,axis = 0)\n",
    "resp_vsr_std = np.nanstd(resp_vsr_std1,axis = 0)\n",
    "\n",
    "\n",
    "def make_figure_respvsr(resp_vsr_mean_range, resp_vsr_std_range, x_range, y_range):\n",
    "    global save_figure_vsr\n",
    "    \n",
    "    fig_vsr = plt.figure(figsize=(12,5))  \n",
    "    fig_vsr.clf()\n",
    "    fig_vsr.set_facecolor('white')\n",
    "    ax_plot = plt.subplot2grid((5, 2), (0, 0), colspan=1, rowspan=4)\n",
    "    ax_plot_range = plt.subplot2grid((5, 2), (0, 1), colspan=1, rowspan=4)\n",
    "    ax_colorbar = plt.subplot2grid((5, 2), (4, 0), colspan=1, rowspan=1)\n",
    "    ax_colorbar2 = plt.subplot2grid((5, 2), (4, 1), colspan=1, rowspan=1)\n",
    "\n",
    "    px.plot_utils.plot_line_family(ax_plot, bias_vec_r_display[:, :], \n",
    "                                   resp_vsr_mean[:, :], line_names='None',label_prefix='Line', \n",
    "                                   label_suffix='', cmap=plt.cm.jet)\n",
    "    px.plot_utils.plot_line_family(ax_plot_range, bias_vec_r_display[:, :], \n",
    "                                   resp_vsr_mean_range[:, :], line_names='None',\n",
    "                                   label_prefix='Line', label_suffix='', cmap=plt.cm.jet)\n",
    "         \n",
    "    ax_plot.set_xlabel('Read voltage [V]', fontsize = 12)\n",
    "    ax_plot.set_ylabel('Response [a.u.]', fontsize = 12)\n",
    "    ax_plot.set_title('Averaged over whole map', fontsize = 12)\n",
    "    \n",
    "    ax_plot_range.set_xlabel('Read voltage [V]', fontsize = 12)\n",
    "    ax_plot_range.set_ylabel('Response [a.u.]', fontsize = 12)\n",
    "    ax_plot_range.set_title('Averaged x = '+str(x_range[0])+' - '+str(x_range[1])\n",
    "                            +', y = '+str(y_range[0])+' - '+str(y_range[1]), fontsize = 12)\n",
    "    if option == 1:\n",
    "        colorbar_mat = np.column_stack((range(write_step_start,write_step_end+1),range(write_step_start,write_step_end+1)))\n",
    "        ax_colorbar.imshow(np.transpose(colorbar_mat[:,:]), cmap=plt.cm.jet, origin='lower', interpolation='none')\n",
    "        ax_colorbar.set_yticklabels('')\n",
    "        ax_colorbar.tick_params(axis = 'y', left = 'off', right = 'off')\n",
    "        plt.sca(ax_colorbar)\n",
    "        plt.xticks([0,write_step_end-write_step_start],[bias_vec_w[write_step_start],bias_vec_w[write_step_end]])\n",
    "        ax_colorbar.set_xlabel('Write voltage [V]', fontsize = 12)\n",
    "        \n",
    "        ax_colorbar2.imshow(np.transpose(colorbar_mat[:,:]), cmap=plt.cm.jet, origin='lower', interpolation='none')\n",
    "        ax_colorbar2.set_yticklabels('')\n",
    "        ax_colorbar2.tick_params(axis = 'y', left = 'off', right = 'off')\n",
    "        plt.sca(ax_colorbar2)\n",
    "        plt.xticks([0,write_step_end-write_step_start],[bias_vec_w[write_step_start],bias_vec_w[write_step_end]])\n",
    "        ax_colorbar2.set_xlabel('Write voltage [V]', fontsize = 12)\n",
    "\n",
    "        \n",
    "    \n",
    "    if option == 2:\n",
    "        colorbar_mat = np.column_stack((range(0,num_write_steps-1),range(0,num_write_steps-1)))\n",
    "        ax_colorbar.imshow(np.transpose(colorbar_mat[:,:]), cmap=plt.cm.jet, origin='lower', interpolation='none')\n",
    "        ax_colorbar.set_yticklabels('')\n",
    "        ax_colorbar.tick_params(axis = 'y', left = 'off', right = 'off')\n",
    "        ax_colorbar.set_xlabel('Write voltage step', fontsize = 12)\n",
    "        \n",
    "        ax_colorbar2.imshow(np.transpose(colorbar_mat[:,:]), cmap=plt.cm.jet, origin='lower', interpolation='none')\n",
    "        ax_colorbar2.set_yticklabels('')\n",
    "        ax_colorbar2.tick_params(axis = 'y', left = 'off', right = 'off')\n",
    "        ax_colorbar2.set_xlabel('Write voltage step', fontsize = 12)\n",
    "        \n",
    "     \n",
    "        \n",
    "    fig_vsr.tight_layout();\n",
    "   \n",
    "    if save_figure_vsr == True:\n",
    "        fig_vsr.savefig(output_file_path+'\\cbColor_Response_vsReadVoltage_x'+str(x_range)+'_y'+str(y_range)+'.png', format='png')\n",
    "        fig_vsr.savefig(output_file_path+'\\cbColor_Response_vsReadVoltage_x'+str(x_range)+'_y'+str(y_range)+'.eps', format='eps')\n",
    "        fig_vsr.savefig(output_file_path+'\\cbColor_Response_vsReadVoltage_x'+str(x_range)+'_y'+str(y_range)+'.tif', format='tiff')\n",
    "        save_figure_vsr = False\n",
    "        \n",
    "        \n",
    "            \n",
    "\n",
    "def update_xyrange(x_range, y_range):\n",
    "\n",
    "# Calculate response averaged over selected pixels\n",
    "    \n",
    "    resp_mat_vsr_range = np.squeeze(Nd_mat[y_range[0]:y_range[1], x_range[0]:x_range[1],1,write_step_start:write_step_end+1,:]['Amplitude [V]']\n",
    "                                    *np.cos(Nd_mat[y_range[0]:y_range[1], x_range[0]:x_range[1],1,write_step_start:write_step_end+1,:]['Phase [rad]'])*1000)\n",
    "    \n",
    "    resp_vsr_mean1_range = np.nanmean(resp_mat_vsr_range,axis = 0)\n",
    "    resp_vsr_std1_range = np.nanstd(resp_mat_vsr_range,axis = 0)\n",
    "    resp_vsr_mean_range = np.nanmean(resp_vsr_mean1_range,axis = 0)\n",
    "    resp_vsr_std_range = np.nanstd(resp_vsr_std1_range,axis = 0)\n",
    "\n",
    "    make_figure_respvsr(resp_vsr_mean_range, resp_vsr_std_range, x_range, y_range)\n",
    "                                        \n",
    "                                          \n",
    "x_range = widgets.IntRangeSlider(min = 0,max = num_col-1,step = 1,value = 0,\n",
    "                             description = 'x-range',continuous_update = False)\n",
    "\n",
    "y_range = widgets.IntRangeSlider(min = 0,max = num_col-1,step = 1,value = 0,\n",
    "                             description = 'y-range',continuous_update = False)\n",
    "\n",
    "widgets.interact(update_xyrange,x_range = x_range, y_range = y_range);\n",
    "\n",
    "\n",
    "\n",
    "def on_save_button_clicked_vsr(b):\n",
    "    global save_figure_vsr \n",
    "    save_figure_vsr = True\n",
    "  \n",
    "    update_xyrange(x_range.value, y_range.value)\n",
    "\n",
    "button_vsr = widgets.Button(description = 'Save figure')\n",
    "display(button_vsr)\n",
    "button_vsr.on_click(on_save_button_clicked_vsr)\n",
    "\n",
    "\n"
   ]
  },
  {
   "cell_type": "markdown",
   "metadata": {},
   "source": [
    "## Export response after all write steps for all pixels\n",
    "\n",
    "Response data (\\= amplitude * cos(phase)) is exported into separate tab delimited text files for each read voltage (see file names). The columns in the text file represent write voltage steps, the rows represent individual pixels. "
   ]
  },
  {
   "cell_type": "code",
   "execution_count": null,
   "metadata": {},
   "outputs": [],
   "source": [
    "#Export response of all write steps (columns) for all pixels (rows) to one delimited text file for each read step\n",
    "\n",
    "for dc_step_read in range(0,num_read_steps-1):\n",
    "    resp_mat = np.squeeze(Nd_mat[:,:,1,:,dc_step_read]['Amplitude [V]'] \n",
    "                          * np.cos(Nd_mat[:,:,1,:,dc_step_read]['Phase [rad]'])*1000)\n",
    "\n",
    "    resp_vec = np.reshape(resp_mat, (num_row*num_col, num_write_steps))\n",
    "    np.savetxt(os.path.join(output_file_path,'Response_at_Vread_'+str(bias_vec_r[0,dc_step_read])+'V.txt'),resp_vec, fmt='%f', delimiter='\\t')\n",
    "\n",
    "np.savetxt(os.path.join(output_file_path,'Read_voltage_vec.txt'), np.squeeze(bias_vec_r[0,:]), fmt='%f', delimiter='\\t')\n",
    "np.savetxt(os.path.join(output_file_path,'Write_voltage_vec.txt'), np.squeeze(bias_vec_w[:]), fmt='%f', delimiter='\\t')"
   ]
  },
  {
   "cell_type": "markdown",
   "metadata": {},
   "source": [
    "## Display averaged response at 0 V read voltage\n",
    "\n",
    "The left figure shows response at 0 V read voltage averaged over the whole grid, the right figure shows response at 0 V read voltage averaged over the x- and y- range specified with sliders."
   ]
  },
  {
   "cell_type": "code",
   "execution_count": null,
   "metadata": {
    "scrolled": false
   },
   "outputs": [],
   "source": [
    "# Plot response at 0 V read voltage averaged over all pixels\n",
    "global save_figure_0V\n",
    "\n",
    "save_figure_0V = False\n",
    "dc_step_read = np.argwhere(np.isclose(bias_vec_r[0,:], 0)).squeeze()\n",
    "\n",
    "resp_mat_0Vr = np.squeeze(Nd_mat[:,:,1,:,dc_step_read]['Amplitude [V]'] \n",
    "                          * np.cos(Nd_mat[:,:,1,:,dc_step_read]['Phase [rad]'])*1000)\n",
    "\n",
    "# Calculate response at 0 V read voltage averaged over all pixels\n",
    "resp_0V_mean1 = np.nanmean(resp_mat_0Vr,axis = 0)\n",
    "resp_0V_std1 = np.nanstd(resp_mat_0Vr,axis = 0)\n",
    "resp_0V_mean = np.nanmean(resp_0V_mean1,axis = 0)\n",
    "resp_0V_std = np.nanstd(resp_0V_std1,axis = 0)\n",
    "\n",
    "\n",
    "def make_figure_resp0V(resp_0V_mean_range, resp_0V_std_range, x_range, y_range):\n",
    "    global save_figure_0V\n",
    "    \n",
    "    fig_r0V = plt.figure(figsize=(10,4))  \n",
    "    fig_r0V.clf()\n",
    "    fig_r0V.set_facecolor('white')\n",
    "    ax_plot = plt.subplot2grid((1, 2), (0, 0), colspan=1, rowspan=1)\n",
    "    ax_plot_range = plt.subplot2grid((1, 2), (0, 1), colspan=1, rowspan=1)\n",
    "    \n",
    "    ax_plot.plot(bias_vec_w[:], resp_0V_mean\n",
    "                 , '.-')\n",
    "    ax_plot.errorbar(bias_vec_w[:], resp_0V_mean, yerr = resp_0V_std, fmt = '.-')\n",
    "    \n",
    "    ax_plot.set_xlabel('Write voltage [V]', fontsize = 12)\n",
    "    ax_plot.set_ylabel('Response [a.u.]', fontsize = 12)\n",
    "    ax_plot.set_title('Averaged over whole map', fontsize = 12)\n",
    "    \n",
    "    ax_plot_range.errorbar(bias_vec_w[:], resp_0V_mean_range, yerr = resp_0V_std_range, fmt = '.-')\n",
    "    ax_plot_range.set_xlabel('Write voltage [V]', fontsize = 12)\n",
    "    ax_plot_range.set_ylabel('Response [a.u.]', fontsize = 12)\n",
    "    ax_plot_range.set_title('Averaged from x = '+str(x_range[0])+'-'+str(x_range[1])\n",
    "                            +', y = '+str(y_range[0])+'-'+str(y_range[1]), fontsize = 12)\n",
    "    \n",
    "    fig_r0V.tight_layout();\n",
    "    fig_r0V.suptitle('Spatially averaged response at read voltage = 0 V', y = 1.05, x=0.55, fontsize = 12)\n",
    "    \n",
    "    #save_figure_0V = True   \n",
    "    if save_figure_0V == True:\n",
    "        fig_r0V.savefig(output_file_path+'\\Response_0V_x'+str(x_range)+'_y'+str(y_range)+'.png', format='png')\n",
    "        fig_r0V.savefig(output_file_path+'\\Response_0V_x'+str(x_range)+'_y'+str(y_range)+'.eps', format='eps')\n",
    "        fig_r0V.savefig(output_file_path+'\\Response_0V_x'+str(x_range)+'_y'+str(y_range)+'.tif', format='tiff')\n",
    "        save_figure_0V = False\n",
    "        \n",
    "        \n",
    "        \n",
    "\n",
    "def update_xyrange(x_range, y_range):\n",
    "\n",
    "# Calculate response at 0 V read voltage averaged over selected pixels\n",
    "#     a=Nd_mat[x_range[0]:x_range[1], y_range[0]:y_range[1],1,:,dc_step_read]['Amplitude [V]']\n",
    "    \n",
    "    resp_mat_0Vr_range = np.squeeze(Nd_mat[y_range[0]:y_range[1], x_range[0]:x_range[1],1,:,dc_step_read]['Amplitude [V]']\n",
    "                                    *np.cos(Nd_mat[y_range[0]:y_range[1], x_range[0]:x_range[1],1,:,dc_step_read]['Phase [rad]'])*1000)\n",
    "    \n",
    "    resp_0V_mean1_range = np.nanmean(resp_mat_0Vr_range,axis = 0)\n",
    "    resp_0V_std1_range = np.nanstd(resp_mat_0Vr_range,axis = 0)\n",
    "    resp_0V_mean_range = np.nanmean(resp_0V_mean1_range,axis = 0)\n",
    "    resp_0V_std_range = np.nanstd(resp_0V_std1_range,axis = 0)\n",
    "    \n",
    "    print(resp_0V_mean_range, resp_0V_std_range, x_range, y_range)\n",
    "    \n",
    "    make_figure_resp0V(resp_0V_mean_range, resp_0V_std_range, x_range, y_range)\n",
    "                                          \n",
    "                                          \n",
    "x_range = widgets.IntRangeSlider(min = 0,max = num_col-1,step = 0.1,value = 0,\n",
    "                             description = 'x-range',continuous_update = False)\n",
    "\n",
    "y_range = widgets.IntRangeSlider(min = 0,max = num_col-1,step = 0.1,value = 0,\n",
    "                             description = 'y-range',continuous_update = False)\n",
    "\n",
    "widgets.interact(update_xyrange,x_range = x_range, y_range = y_range);\n",
    "\n",
    "\n",
    "\n",
    "def on_save_button_clicked_0V(b):\n",
    "    global save_figure_0V \n",
    "    save_figure_0V = True\n",
    "\n",
    "   \n",
    "    update_xyrange(x_range.value, y_range.value)\n",
    "\n",
    "button_0V = widgets.Button(description = 'Save figure')\n",
    "display(button_0V)\n",
    "button_0V.on_click(on_save_button_clicked_0V)"
   ]
  },
  {
   "cell_type": "markdown",
   "metadata": {},
   "source": [
    "## Display response, amplitude and phase data at 0 V read voltage for a single pixel\n",
    "\n",
    "Select the pixel of interest below by setting x_select and y_select to the desired coordinates."
   ]
  },
  {
   "cell_type": "code",
   "execution_count": null,
   "metadata": {},
   "outputs": [],
   "source": [
    "x_select = 3\n",
    "y_select = 2\n",
    "\n",
    "resp_mat_0Vr = np.squeeze(Nd_mat[:,:,1,:,dc_step_read]['Amplitude [V]'] \n",
    "                          * np.cos(Nd_mat[:,:,1,:,dc_step_read]['Phase [rad]'])*1000)\n",
    "amp_mat_0Vr = np.squeeze(Nd_mat[:,:,1,:,dc_step_read]['Amplitude [V]'])*1000\n",
    "phase_mat_0Vr = np.squeeze(Nd_mat[:,:,1,:,dc_step_read]['Phase [rad]'])\n",
    "\n",
    "\n",
    "fig_r0V = plt.figure(figsize=(12,4))  \n",
    "fig_r0V.clf()\n",
    "fig_r0V.set_facecolor('white')\n",
    "ax_resp = plt.subplot2grid((1, 3), (0, 0), colspan=1, rowspan=1)\n",
    "ax_amp = plt.subplot2grid((1, 3), (0, 1), colspan=1, rowspan=1)\n",
    "ax_phase = plt.subplot2grid((1, 3), (0, 2), colspan=1, rowspan=1)\n",
    "\n",
    "ax_resp.plot(bias_vec_w[:], resp_mat_0Vr[y_select, x_select, :],'.-')\n",
    "ax_resp.set_xlabel('Write voltage [V]', fontsize = 12)\n",
    "ax_resp.set_ylabel('Response [a.u.]', fontsize = 12)\n",
    "\n",
    "ax_amp.plot(bias_vec_w[:], amp_mat_0Vr[y_select, x_select, :],'.-')\n",
    "ax_amp.set_xlabel('Write voltage [V]', fontsize = 12)\n",
    "ax_amp.set_ylabel('Amplitude [a.u.]', fontsize = 12)\n",
    "\n",
    "ax_phase.plot(bias_vec_w[:], phase_mat_0Vr[y_select, x_select, :],'.-')\n",
    "ax_phase.set_xlabel('Write voltage [V]', fontsize = 12)\n",
    "ax_phase.set_ylabel('Phase [rad]', fontsize = 12)\n",
    "ax_phase.set_ylim([-4, 4])\n",
    "\n",
    "fig_r0V.tight_layout()"
   ]
  },
  {
   "cell_type": "markdown",
   "metadata": {},
   "source": [
    "## Display on-field loops for all read steps\n",
    "\n",
    "The figure shows on-field response vs. write voltage for all read voltages (color coded) averaged over the whole map."
   ]
  },
  {
   "cell_type": "code",
   "execution_count": null,
   "metadata": {},
   "outputs": [],
   "source": [
    "resp_mat_IF = np.squeeze(Nd_mat[:,:,0,:,:]['Amplitude [V]'] \n",
    "                          * np.cos(Nd_mat[:,:,0,:,:]['Phase [rad]'])*1000)\n",
    "\n",
    "# Calculate response at 0 V read voltage averaged over all pixels\n",
    "resp_IF_mean1 = np.nanmean(resp_mat_IF,axis = 0)\n",
    "resp_IF_std1 = np.nanstd(resp_mat_IF,axis = 0)\n",
    "resp_IF_mean = np.nanmean(resp_IF_mean1,axis = 0)\n",
    "resp_IF_std = np.nanstd(resp_IF_std1,axis = 0)\n",
    "\n",
    "bias_vec_w_graph = np.matlib.repmat(bias_vec_w,num_read_steps, 1)\n",
    "# print(resp_IF_mean.shape, resp_IF_std.shape, bias_vec_w_graph.shape)\n",
    "\n",
    "fig_IF = plt.figure(figsize=(6,6))  \n",
    "fig_IF.clf()\n",
    "fig_IF.set_facecolor('white')\n",
    "ax_plot = plt.subplot2grid((15, 5), (0, 0), colspan=5, rowspan=12)\n",
    "ax_colorbar = plt.subplot2grid((15, 5), (14, 0), colspan=5, rowspan=1)\n",
    "\n",
    "px.plot_utils.plot_line_family(ax_plot, np.transpose(bias_vec_w_graph), np.transpose(resp_IF_mean), line_names='None',label_prefix='Line', label_suffix='', cmap=plt.cm.jet)\n",
    "# ax_plot.plot(bias_vec_w[:], resp_IF_mean, '.-')\n",
    "# ax_plot.errorbar(bias_vec_w[:], resp_IF_mean, yerr = resp_IF_std, fmt = '.-')\n",
    "colorbar_mat = np.column_stack((range(0,num_read_steps),range(0,num_read_steps)))\n",
    "ax_colorbar.imshow(np.transpose(colorbar_mat[:,:]), cmap=plt.cm.jet, origin='lower', interpolation='none', aspect = 0.25)\n",
    "ax_colorbar.set_yticklabels('')\n",
    "\n",
    "\n",
    "ax_colorbar.tick_params(axis = 'y', left = 'off', right = 'off')\n",
    "\n",
    "\n",
    "# ax_colorbar.set_xlabel('Read step')\n",
    "    \n",
    "\n",
    "ax_plot.set_xlabel('Write voltage [V]', fontsize = 12)\n",
    "ax_plot.set_ylabel('In field response [a.u.]', fontsize = 12)\n",
    "ax_plot.set_title('Averaged over whole map', fontsize = 12)\n",
    "\n",
    "labels = list(range(num_read_steps))\n",
    "\n",
    "for i in range(0, num_read_steps-0, 1):\n",
    "    labels[i] = str(bias_vec_r[0,i])\n",
    "\n",
    "ax_colorbar.set_xticks(np.arange(num_read_steps))\n",
    "ax_colorbar.set_xticklabels(labels, fontsize = 10)\n",
    "\n",
    "ax_colorbar.set_xlabel('Read voltage [V]', fontsize = 12)\n",
    "# fig_IF.tight_layout();\n",
    "\n",
    "def on_save_button4_clicked(b):\n",
    "    \n",
    "    fig_IF.savefig(output_file_path+'\\IFresponse.png', format='png')\n",
    "    fig_IF.savefig(output_file_path+'\\IFresponse.eps', format='eps')\n",
    "    fig_IF.savefig(output_file_path+'\\IFresponse.tif', format='tiff')\n",
    "\n",
    "    \n",
    "    \n",
    "button4 = widgets.Button(description = 'Save figure')\n",
    "display(button4)\n",
    "button4.on_click(on_save_button4_clicked)"
   ]
  },
  {
   "cell_type": "markdown",
   "metadata": {},
   "source": [
    "## Calculate the jCPD\n",
    "\n",
    "The junction contact potential difference (jCPD) is extracted for each dc write voltage step by linear fitting of the response vs. read bias and calculating the x-intercept.\n",
    "\n",
    "If only a certain (linear) regime of the cKPFM curves should be fitted, set v_read_start_index and v_read_end_index to the first and last index of the data that should be considered for the fit."
   ]
  },
  {
   "cell_type": "code",
   "execution_count": null,
   "metadata": {},
   "outputs": [],
   "source": [
    "#Calculate x intercept -> jCPD\n",
    "\n",
    "v_read_start_index = 0\n",
    "v_read_end_index = num_read_steps-1\n",
    "\n",
    "print('v_read_start_index = ', v_read_start_index, ', v_read_end_index = ', v_read_end_index)\n",
    "# resp_mat_r_all_all = Nd_mat[:,:,1,:,:]['Amplitude [V]'] * np.cos(Nd_mat[:,:,1,:,:]['Phase [rad]'])*1000\n",
    "resp_mat_r_all = Nd_mat[:,:,1,:,v_read_start_index : v_read_end_index+1]['Amplitude [V]'] * np.cos(Nd_mat[:,:,1,:,v_read_start_index : v_read_end_index+1]['Phase [rad]'])*1000\n",
    "\n",
    "\n",
    "# print(num_read_steps)\n",
    "# print(resp_mat_r_all.shape)\n",
    "# print('resp_mat_r_all', resp_mat_r_all[0,0,0,:])\n",
    "# print('resp_mat_r_all_all', resp_mat_r_all_all[0,0,0,:])\n",
    "\n",
    "fit_slope = np.zeros((num_col, num_row, num_write_steps))\n",
    "fit_yintercept = np.zeros((num_col, num_row, num_write_steps))\n",
    "jCPD_mat = np.zeros((num_col, num_row, num_write_steps))\n",
    "   \n",
    "print(bias_vec_r[1,v_read_start_index : v_read_end_index+1])\n",
    "# print(bias_vec_r[1,:])\n",
    "\n",
    "for row in range(num_row):\n",
    "    for col in range(num_col):\n",
    "        for vw in range(0,num_write_steps-1):\n",
    "            fit_coeff = np.polyfit(bias_vec_r[1,v_read_start_index : v_read_end_index+1], resp_mat_r_all[col, row, vw,:],1)\n",
    "            fit_slope[col, row, vw] = fit_coeff[0]\n",
    "            fit_yintercept[col, row, vw] = fit_coeff[1]\n",
    "            jCPD_mat[col, row, vw] = -fit_coeff[1]/ fit_coeff[0]\n",
    "            \n",
    "\n",
    "# fit_y = fit_coeff[0] * bias_vec_r[1,:] + fit_coeff[1]\n",
    "\n",
    "# row = 1\n",
    "# col = 1\n",
    "# vw = 10         \n",
    "# print(fit_slope[col, row, vw])\n",
    "# print(fit_yintercept[col, row, vw])\n",
    "# print(jCPD_mat[col ,row, vw])\n",
    "\n",
    "\n",
    "# plt.figure(1)\n",
    "# plt.plot(bias_vec_r[1,:],resp_mat_r_all[col, row, vw,:],'.-')\n",
    "# plt.plot(bias_vec_r[1,:],fit_y)\n",
    "# print(fit_coeff[0],fit_coeff[1],jCPD_mat[col, row, vw])\n",
    "#Filter outliers from jCPD matrix, (-> improve code)\n",
    "# for r in range(1, num_row):\n",
    "#     for c in range(1, num_col):\n",
    "#         for s in range(1, num_write_steps):\n",
    "#             if jCPD_mat[r-1, c-1, s-1] > 20 or jCPD_mat[r-1, c-1, s-1] < -20:\n",
    "# #                 jCPD_mat[r-1, c-1, s-1] = np.nan\n",
    "#                 jCPD_mat[r-1, c-1, s-1] = 0\n",
    "\n"
   ]
  },
  {
   "cell_type": "markdown",
   "metadata": {},
   "source": [
    "## Display jCPD data\n",
    "Figure shows\n",
    "\n",
    "- The jCPD map for the write voltage step selected with the slider\n",
    "- Graphs of jCPD cross sections along the selected x- and y- axes for the selected write voltage step"
   ]
  },
  {
   "cell_type": "code",
   "execution_count": null,
   "metadata": {
    "scrolled": false
   },
   "outputs": [],
   "source": [
    "global save_figure\n",
    "\n",
    "save_figure = False\n",
    "\n",
    "#Color scale minimum and maximum\n",
    "cmin = -0.2\n",
    "cmax = 0.02\n",
    "  \n",
    "def make_jCPD_figure(dc_step_write, x_select, y_select):    \n",
    "    global save_figure \n",
    "\n",
    "    fig2 = plt.figure(figsize=(14,8))  \n",
    "    fig2.set_facecolor('white')    \n",
    "    ax_jCPD_xcross_section = plt.subplot2grid((10, 10), (0, 7), colspan=4, rowspan=3)\n",
    "    plt.title('jCPD cross section at x ='+str(x_select), fontsize = 12)\n",
    "    \n",
    "    ax_jCPD_ycross_section = plt.subplot2grid((10, 10), (4, 7), colspan=4, rowspan=3)\n",
    "    plt.title('jCPD cross section at y ='+str(y_select), fontsize = 12)\n",
    "    \n",
    "    ax_jCPD_plot = plt.subplot2grid((10, 10), (0, 0), colspan=6, rowspan=7)\n",
    "    plt.title('jCPD [V] at write voltage = '+str(bias_vec_w[dc_step_write])+' V', fontsize = 12)\n",
    "    \n",
    "\n",
    "    \n",
    "    ax_jCPD_xcross_section.plot(range(num_col),jCPD_mat[:,x_select,dc_step_write],'.-')\n",
    "    ax_jCPD_xcross_section.set_xlabel('Pixel #', fontsize = 12)\n",
    "    ax_jCPD_xcross_section.set_ylabel('jCPD [V]', fontsize = 12)\n",
    "  \n",
    "    ax_jCPD_ycross_section.plot(range(num_row),jCPD_mat[y_select,:,dc_step_write],'.-')\n",
    "    ax_jCPD_ycross_section.set_xlabel('Pixel #', fontsize = 12)\n",
    "    ax_jCPD_ycross_section.set_ylabel('jCPD [V]', fontsize = 12)\n",
    "    \n",
    "#     co_b2 = ax_jCPD_plot.imshow(jCPD_mat[:,:,dc_step_write], \n",
    "#                                 cmap=px.plot_utils.cmap_jet_white_center(), \n",
    "#                                 origin='lower', interpolation='none', clim=(cmin, cmax));\n",
    "    co_b2 = ax_jCPD_plot.imshow(jCPD_mat[:,:,dc_step_write], \n",
    "                                cmap=px.plot_utils.cmap_jet_white_center(), \n",
    "                                origin='upper', interpolation='none');\n",
    "    cb2 = fig2.colorbar(co_b2)\n",
    "   \n",
    "    \n",
    "    if save_figure == True:\n",
    "        fig2.savefig(output_file_path+'jCPD_map_WriteStep'+str(dc_step_write)+'y'+str(row)+'.png', format='png')\n",
    "        fig2.savefig(output_file_path+'jCPD_map_WriteStep'+str(dc_step_write)+'y'+str(row)+'.eps', format='eps')\n",
    "        save_figure = False;\n",
    "\n",
    "    \n",
    "\n",
    "slider_dict = dict()      \n",
    "dc_step_write_slider = widgets.IntSlider(min = 0, max = num_write_steps-1, step = 1,value = 0,description='Write Step');\n",
    "x_slider = widgets.IntSlider(min = 0, max = num_col, step = 1, value = 0, description = 'x')\n",
    "y_slider = widgets.IntSlider(min = 0, max = num_row, step = 1, value = 0, description = 'y')\n",
    "\n",
    "widgets.interact(make_jCPD_figure, dc_step_write = dc_step_write_slider, x_select = x_slider, y_select = y_slider, **slider_dict); \n",
    "\n",
    "\n",
    "def on_save_button2_clicked(b):\n",
    "    global save_figure\n",
    "    save_figure = True \n",
    "    \n",
    "    dc_step_write = dc_step_write_slider.value\n",
    "    x_select = x_slider.value\n",
    "    y_select = y_slider.value\n",
    "     \n",
    "    make_jCPD_figure(dc_step_write, x_select, y_select)\n",
    "    \n",
    "    \n",
    "button2 = widgets.Button(description = 'Save figure')\n",
    "display(button2)\n",
    "button2.on_click(on_save_button2_clicked)"
   ]
  },
  {
   "cell_type": "markdown",
   "metadata": {},
   "source": [
    "## Display jCPD and fitting parameters\n",
    "\n",
    "Figure shows maps of\n",
    "- jCPD\n",
    "- slope\n",
    "- y-intercept\n",
    "\n",
    "for the write voltage step selected with slider."
   ]
  },
  {
   "cell_type": "code",
   "execution_count": null,
   "metadata": {},
   "outputs": [],
   "source": [
    "global save_figure\n",
    "\n",
    "save_figure = False\n",
    "   \n",
    "cmin = -3\n",
    "cmax = 3\n",
    "  \n",
    "def make_fitting_figure(dc_step_write):    \n",
    "    global save_figure \n",
    "    fig3 = plt.figure(figsize=(10,3))  \n",
    "    fig3.set_facecolor('white')    \n",
    "    ax_jCPD_plot = plt.subplot(131)\n",
    "    ax_slope_plot = plt.subplot(132)\n",
    "    ax_yintercept_plot = plt.subplot(133)\n",
    "    ax_slope_plot.set_title('Slope [a.u.]', fontsize = 12)\n",
    "    \n",
    "    im3 = ax_jCPD_plot.imshow(jCPD_mat[:,:,dc_step_write], \n",
    "                                cmap=px.plot_utils.cmap_jet_white_center(), \n",
    "                                origin='upper', interpolation='none');\n",
    "    \n",
    "#     im3 = ax_jCPD_plot.imshow(jCPD_mat[:,:,dc_step_write], \n",
    "#                                 cmap=px.plot_utils.cmap_jet_white_center(), \n",
    "#                                 origin='upper', interpolation='none', clim=(cmin, cmax)); \n",
    "    \n",
    "    fig3.colorbar(im3, ax = ax_jCPD_plot)\n",
    "    ax_jCPD_plot.set_title('jCPD [V]', fontsize = 12)\n",
    "    \n",
    "    im = ax_slope_plot.imshow(fit_slope[:,:,dc_step_write], \n",
    "                                cmap=px.plot_utils.cmap_jet_white_center(), \n",
    "                                origin='upper', interpolation='none');\n",
    "       \n",
    "    fig3.colorbar(im, ax = ax_slope_plot)\n",
    "    \n",
    "    im2 = ax_yintercept_plot.imshow(fit_yintercept[:,:,dc_step_write], \n",
    "                                cmap=px.plot_utils.cmap_jet_white_center(), \n",
    "                                origin='upper', interpolation='none');\n",
    "    ax_yintercept_plot.set_title('y-intercept [a.u.]', fontsize = 12)\n",
    "    \n",
    "    fig3.colorbar(im2, ax = ax_yintercept_plot)\n",
    "    \n",
    "    #fig3.suptitle('Write voltage = '+str(bias_vec_w[dc_step_write])+' V', fontsize = 14, y = 1.06)\n",
    "    \n",
    "    fig3.suptitle('Write voltage = '+str(bias_vec_w[dc_step_write])+' V', fontsize = 14)\n",
    "    \n",
    "    \n",
    "#     fig3.add_subplot(132).text(2,11,'Write voltage = '+str(bias_vec_w[dc_step_write])+' V', fontsize = 14, orientation='vertical')\n",
    "    plt.tight_layout()\n",
    "    plt.subplots_adjust(top=0.8)\n",
    "    if save_figure == True:\n",
    "        fig3.savefig(output_file_path+'\\jCPD_map_WriteStep'+str(dc_step_write)+'.png', format='png')\n",
    "        fig3.savefig(output_file_path+'\\jCPD_map_WriteStep'+str(dc_step_write)+'.eps', format='eps')\n",
    "        fig3.savefig(output_file_path+'\\jCPD_map_WriteStep'+str(dc_step_write)+'.tif', format='tif')\n",
    "        save_figure = False;\n",
    "\n",
    "    \n",
    "slider_dict = dict()      \n",
    "dc_step_write_slider = widgets.IntSlider(min = 0, max = num_write_steps-1, step = 1, value = 0, description='Write Step');\n",
    "\n",
    "widgets.interact(make_fitting_figure, dc_step_write = dc_step_write_slider, **slider_dict); \n",
    "\n",
    "\n",
    "def on_save_button3_clicked(b):\n",
    "    global save_figure\n",
    "    save_figure = True \n",
    "    \n",
    "    dc_step_write = dc_step_write_slider.value\n",
    "#     x_select = x_slider.value\n",
    "#     y_select = y_slider.value\n",
    "     \n",
    "    make_fitting_figure(dc_step_write)\n",
    "    \n",
    "    \n",
    "button3 = widgets.Button(description = 'Save figure')\n",
    "display(button3)\n",
    "button3.on_click(on_save_button3_clicked)"
   ]
  },
  {
   "cell_type": "markdown",
   "metadata": {},
   "source": [
    "## jCPD plots\n",
    "\n",
    "- Left graph depicts the jCPD averaged over all pixels as a function of write voltage\n",
    "- Specify a pixel that jCPD data should be displayed from in graph on the right by setting x_select and y_select."
   ]
  },
  {
   "cell_type": "code",
   "execution_count": null,
   "metadata": {},
   "outputs": [],
   "source": [
    "# specify x select and y select\n",
    "\n",
    "x_select = 3\n",
    "y_select = 2\n",
    "\n",
    "x_range2 = [0, num_col-1]\n",
    "y_range2 = [0, num_row-1]\n",
    "# x_range2[0] = 0\n",
    "# x_range2[1] = num_col-1\n",
    "# y_range2[0] = 0\n",
    "# y_range2[1] = num_row-1\n",
    "\n",
    "jCPD_mean1 = np.nanmean(jCPD_mat[y_range2[0]:y_range2[1], x_range2[0]:x_range2[1],:],axis = 0)\n",
    "jCPD_std1 = np.nanstd(jCPD_mat[y_range2[0]:y_range2[1], x_range2[0]:x_range2[1],:],axis = 0)\n",
    "jCPD_mean_w = np.nanmean(jCPD_mean1,axis = 0)\n",
    "jCPD_std_w = np.nanstd(jCPD_mean1,axis = 0)\n",
    "\n",
    "\n",
    "\n",
    "#jCPD_mean_w[2] = np.nan\n",
    "\n",
    "\n",
    "jCPD_mean_all = np.nanmean(jCPD_mean_w,axis = 0)\n",
    "jCPD_std_all = np.nanstd(jCPD_std_w,axis = 0)\n",
    "\n",
    "\n",
    "fig3 = plt.figure(figsize=(12,7))  \n",
    "fig3.set_facecolor('white')\n",
    "ax_jCPD_mean = plt.subplot2grid((10, 10), (0, 0), colspan=4, rowspan=5)\n",
    "ax_jCPD_xy = plt.subplot2grid((10, 10), (0, 5), colspan=4, rowspan=5)\n",
    "\n",
    "plt.title('Mean jCPD vs write voltage', fontsize = 12)\n",
    "# ax_jCPD_mean.errorbar(bias_vec_w, jCPD_mean_w, yerr = jCPD_std_w, fmt = '.-')\n",
    "ax_jCPD_mean.plot(bias_vec_w, jCPD_mean_w, '.-')\n",
    "ax_jCPD_mean.set_xlabel('Write voltage [V]', fontsize = 12)\n",
    "ax_jCPD_mean.set_ylabel('Mean jCPD [V]', fontsize = 12)\n",
    "# ax_jCPD_mean.set_ylim([-10,10])\n",
    "\n",
    "ax_jCPD_xy.plot(bias_vec_w, jCPD_mat[y_select,x_select, : ], '.-')\n",
    "ax_jCPD_xy.set_xlabel('Write voltage [V]', fontsize = 12)\n",
    "ax_jCPD_xy.set_ylabel('jCPD [V]', fontsize = 12)\n",
    "# ax_jCPD_xy.set_ylim([-10,15])\n",
    "plt.title('jCPD at x = '+str(x_select)+' y = '+str(y_select))\n",
    "\n",
    "print('jCPD averaged over all pixels and write voltage steps = '+ str(jCPD_mean_all)+' +/- '+str(jCPD_std_all)+' V')"
   ]
  },
  {
   "cell_type": "markdown",
   "metadata": {},
   "source": [
    "## PCA analysis\n",
    "\n",
    "### Singular value decomposition performed on raw data:"
   ]
  },
  {
   "cell_type": "code",
   "execution_count": null,
   "metadata": {},
   "outputs": [],
   "source": [
    "# Do SVD on raw data\n",
    "print(h5_main.shape)\n",
    "do_svd = px.svd_utils.SVD(h5_main, num_components=40)\n",
    "SVD_data = do_svd.compute()\n"
   ]
  },
  {
   "cell_type": "markdown",
   "metadata": {},
   "source": [
    "### SVD on jCPD, slope, y-intercept data and response at 0 V read voltage:"
   ]
  },
  {
   "cell_type": "code",
   "execution_count": null,
   "metadata": {},
   "outputs": [],
   "source": [
    "# Do SVD on jCPD, slope and y-intercept data\n",
    "\n",
    "from sklearn.utils.extmath import randomized_svd\n",
    "\n",
    "num_components = 20;\n",
    "\n",
    "# # #Filter outliers from jCPD matrix, (-> improve code)\n",
    "# # for r in range(1, num_row):\n",
    "# #     for c in range(1, num_col):\n",
    "# #         for s in range(1, num_write_steps):\n",
    "# #             if jCPD_mat[r-1, c-1, s-1] > 5 or jCPD_mat[r-1, c-1, s-1] < -5:\n",
    "# #                 jCPD_mat[r-1, c-1, s-1] = np.nan\n",
    "# # #                 jCPD_mat[r-1, c-1, s-1] = 0\n",
    "\n",
    "\n",
    "x_delete = np.array([])\n",
    "y_delete = np.array([])\n",
    "\n",
    "\n",
    "index_delete = (num_col)*y_delete+x_delete\n",
    "\n",
    "\n",
    "jCPD_mat_SVD = np.reshape(jCPD_mat,(num_row*num_col, num_write_steps))\n",
    "\n",
    "nan_pos = np.squeeze((np.argwhere(np.isnan(jCPD_mat_SVD).any(axis=1))))\n",
    "index_delete = np.insert(index_delete, index_delete.shape[0], nan_pos, axis = 0)\n",
    "\n",
    "index_delete = -np.sort(-index_delete)\n",
    "\n",
    "\n",
    "jCPD_mat_SVD_clean = jCPD_mat_SVD\n",
    "\n",
    "for i in range(0,index_delete.shape[0]):\n",
    "    jCPD_mat_SVD_clean = np.delete(jCPD_mat_SVD_clean, index_delete[i], axis = 0)\n",
    "\n",
    "U_SVD_jCPD, S_SVD_jCPD, V_SVD_jCPD = randomized_svd(jCPD_mat_SVD_clean, n_components = num_components)\n",
    "\n",
    "\n",
    "index_delete = np.sort(index_delete)\n",
    "\n",
    "for i in range(0,index_delete.shape[0]):\n",
    "    U_SVD_jCPD = np.insert(U_SVD_jCPD, index_delete[i], np.nan ,axis = 0)\n",
    "    print(i,index_delete[i])\n",
    "    \n",
    "print(U_SVD_jCPD.shape)\n",
    "\n",
    "\n",
    "slope_mat_SVD = np.reshape(fit_slope,(num_row*num_col, num_write_steps))\n",
    "U_SVD_slope, S_SVD_slope, V_SVD_slope = randomized_svd(slope_mat_SVD, n_components = num_components)\n",
    "\n",
    "yintercept_mat_SVD = np.reshape(fit_yintercept,(num_row*num_col, num_write_steps))\n",
    "U_SVD_yintercept, S_SVD_yintercept, V_SVD_yintercept = randomized_svd(yintercept_mat_SVD, n_components = num_components)\n",
    "\n",
    "\n",
    "# Do SVD on cKPFM signal at 0 V read voltage (= PFM)\n",
    "dc_step_read = np.argwhere(np.isclose(bias_vec_r[0,:], 0)).squeeze()\n",
    "\n",
    "resp_mat_0Vr = np.squeeze(Nd_mat[:,:,1,:,dc_step_read]['Amplitude [V]'] * \n",
    "                          np.cos(Nd_mat[:,:,1,:,dc_step_read]['Phase [rad]'])*1000)\n",
    "\n",
    "resp_mat_0Vr = np.reshape(resp_mat_0Vr,(num_row*num_col, num_write_steps))\n",
    "U_SVD_resp0Vr, S_SVD_resp0Vr, V_SVD_resp0Vr = randomized_svd(resp_mat_0Vr, n_components = num_components)\n"
   ]
  },
  {
   "cell_type": "markdown",
   "metadata": {},
   "source": [
    "### Display SVD score maps and eigenvectors of jCPD data:"
   ]
  },
  {
   "cell_type": "code",
   "execution_count": null,
   "metadata": {
    "scrolled": false
   },
   "outputs": [],
   "source": [
    "# Visualize PCA of jCPD data\n",
    "\n",
    "U_SVD_jCPD = np.reshape(U_SVD_jCPD,(num_row, num_col, num_components))\n",
    "\n",
    "fig5 = plt.figure(figsize=(12,12))\n",
    "fig5.clf()\n",
    "fig5.set_facecolor('white')    \n",
    "\n",
    "n_components = 20\n",
    "\n",
    "for component in range(1, n_components+1):\n",
    "    \n",
    "\n",
    "    ax_SVD_plot = plt.subplot(5, 4, component)\n",
    "    image = ax_SVD_plot.imshow(U_SVD_jCPD[:,:,component-1], cmap=px.plot_utils.cmap_jet_white_center(), \n",
    "                               origin='upper', interpolation='none');\n",
    "    ax_SVD_plot.set_title('#'+str(component), fontsize = 10)\n",
    "    \n",
    "    fig5.colorbar(image, ax = ax_SVD_plot)\n",
    "    \n",
    "fig5.suptitle('PCA scores of jCPD data', weight = 'bold', fontsize = 12, y=1)\n",
    "fig5.tight_layout()\n",
    "\n",
    "\n",
    "\n",
    "fig55 = plt.figure(figsize=(12,12))\n",
    "fig55.clf()\n",
    "fig55.set_facecolor('white')\n",
    "\n",
    "for component in range(1, n_components+1):\n",
    "    ax_SVD_plot = plt.subplot(5, 4, component)\n",
    "    image = ax_SVD_plot.plot(bias_vec_w, V_SVD_jCPD[component-1,:],'.-');\n",
    "    ax_SVD_plot.set_title('#'+str(component), fontsize = 10)\n",
    "    ax_SVD_plot.set_xlabel('Write voltage [V]')\n",
    "\n",
    "\n",
    "fig55.suptitle('PCA eigenvectors of jCPD data', weight = 'bold', fontsize = 12, y=1);\n",
    "\n",
    "fig55.tight_layout()\n",
    "\n",
    "\n",
    "def on_save_button4_clicked(b):\n",
    "   \n",
    "    fig5.savefig(output_file_path+'\\PCA_jCPD_scores.png', format='png')\n",
    "    fig5.savefig(output_file_path+'\\PCA_jCPD_scores.eps', format='eps')\n",
    "    fig5.savefig(output_file_path+'\\PCA_jCPD_scores.tif', format='tif')\n",
    "    fig55.savefig(output_file_path+'\\PCA_jCPD_ev.png', format='png')\n",
    "    fig55.savefig(output_file_path+'\\PCA_jCPD_ev.eps', format='eps')\n",
    "    fig55.savefig(output_file_path+'\\PCA_jCPD_ev.tif', format='tif')\n",
    "\n",
    "    \n",
    "button4 = widgets.Button(description = 'Save figure')\n",
    "display(button4)\n",
    "button4.on_click(on_save_button4_clicked)\n",
    "\n",
    "\n"
   ]
  },
  {
   "cell_type": "markdown",
   "metadata": {},
   "source": [
    "### Display SVD score maps and eigenvectors of slope data:"
   ]
  },
  {
   "cell_type": "code",
   "execution_count": null,
   "metadata": {
    "scrolled": false
   },
   "outputs": [],
   "source": [
    "# Visualize PCA of slope data\n",
    "U_SVD_slope = np.reshape(U_SVD_slope,(num_row, num_col, num_components))\n",
    "\n",
    "fig6 = plt.figure(figsize=(12,12))\n",
    "fig6.clf()\n",
    "fig6.set_facecolor('white')    \n",
    "\n",
    "n_components = 20\n",
    "\n",
    "for component in range(1, n_components+1):\n",
    "    \n",
    "\n",
    "    ax_SVD_plot = plt.subplot(5, 4, component)\n",
    "    image = ax_SVD_plot.imshow(U_SVD_slope[:,:,component-1], cmap=px.plot_utils.cmap_jet_white_center(), \n",
    "                               origin='upper', interpolation='none');\n",
    "    ax_SVD_plot.set_title('#'+str(component), fontsize = 10)\n",
    "    fig6.colorbar(image, ax = ax_SVD_plot)\n",
    "    \n",
    "fig6.tight_layout()\n",
    "fig6.suptitle('PCA scores of slope data', weight = 'bold', fontsize = 12, y = 1);\n",
    "\n",
    "\n",
    "fig66 = plt.figure(figsize=(12,12))\n",
    "fig66.clf()\n",
    "fig66.set_facecolor('white')\n",
    "\n",
    "for component in range(1, n_components+1):\n",
    "    ax_SVD_plot = plt.subplot(5, 4, component)\n",
    "    image = ax_SVD_plot.plot(bias_vec_w, V_SVD_slope[component-1,:],'.-');\n",
    "    ax_SVD_plot.set_title('#'+str(component), fontsize = 10)\n",
    "    ax_SVD_plot.set_xlabel('Write voltage [V]')\n",
    "fig66.tight_layout()\n",
    "\n",
    "fig66.suptitle('PCA eigenvectors of slope data', weight = 'bold', fontsize = 12, y = 1);\n",
    "\n",
    "def on_save_button5_clicked(b):\n",
    "   \n",
    "    fig6.savefig(output_file_path+'\\PCA_slope_scores.png', format='png')\n",
    "    fig6.savefig(output_file_path+'\\PCA_slope_scores.eps', format='eps')\n",
    "    fig6.savefig(output_file_path+'\\PCA_slope_scores.tif', format='tif')\n",
    "    fig66.savefig(output_file_path+'\\PCA_slope_ev.png', format='png')\n",
    "    fig66.savefig(output_file_path+'\\PCA_slope_ev.eps', format='eps')\n",
    "    fig66.savefig(output_file_path+'\\PCA_slope_ev.tif', format='tif')\n",
    "\n",
    "    \n",
    "button5 = widgets.Button(description = 'Save figure')\n",
    "display(button5)\n",
    "button5.on_click(on_save_button5_clicked)"
   ]
  },
  {
   "cell_type": "markdown",
   "metadata": {},
   "source": [
    "### Display SVD score maps and eigenvectors of y-intercept data:"
   ]
  },
  {
   "cell_type": "code",
   "execution_count": null,
   "metadata": {
    "scrolled": false
   },
   "outputs": [],
   "source": [
    "# Visualize PCA of y-intercept data\n",
    "U_SVD_yintercept = np.reshape(U_SVD_yintercept,(num_row, num_col, num_components))\n",
    "\n",
    "fig7 = plt.figure(figsize=(12,12))\n",
    "fig7.clf()\n",
    "fig7.set_facecolor('white')    \n",
    "\n",
    "n_components = 20\n",
    "\n",
    "for component in range(1, n_components+1):\n",
    "    \n",
    "\n",
    "    ax_SVD_plot = plt.subplot(5, 4, component)\n",
    "    image = ax_SVD_plot.imshow(U_SVD_yintercept[:,:,component-1], cmap=px.plot_utils.cmap_jet_white_center(), \n",
    "                               origin='upper', interpolation='none');\n",
    "    ax_SVD_plot.set_title('#'+str(component), fontsize = 10)\n",
    "    \n",
    "    fig7.colorbar(image, ax = ax_SVD_plot)\n",
    "    \n",
    "\n",
    "fig7.tight_layout()\n",
    "\n",
    "fig7.suptitle('PCA scores of y-intercept data', weight = 'bold', fontsize = 12, y = 1);\n",
    "\n",
    "fig77 = plt.figure(figsize=(12,12))\n",
    "fig77.clf()\n",
    "fig77.set_facecolor('white')\n",
    "\n",
    "for component in range(1, n_components+1):\n",
    "    ax_SVD_plot = plt.subplot(5, 4, component)\n",
    "    image = ax_SVD_plot.plot(bias_vec_w, V_SVD_yintercept[component-1,:],'.-');\n",
    "    ax_SVD_plot.set_title('#'+str(component), fontsize = 10)\n",
    "    ax_SVD_plot.set_xlabel('Write voltage [V]')\n",
    "fig77.tight_layout()\n",
    "\n",
    "fig77.suptitle('PCA eigenvectors of y-intercept data', weight = 'bold', fontsize = 12, y = 1);\n",
    "\n",
    "def on_save_button6_clicked(b):\n",
    "   \n",
    "    fig7.savefig(output_file_path+'\\PCA_yintercept_scores.png', format='png')\n",
    "    fig7.savefig(output_file_path+'\\PCA_yintercept_scores.eps', format='eps')\n",
    "    fig7.savefig(output_file_path+'\\PCA_yintercept_scores.tif', format='tif')\n",
    "    fig77.savefig(output_file_path+'\\PCA_yintercept_ev.png', format='png')\n",
    "    fig77.savefig(output_file_path+'\\PCA_yintercept_ev.eps', format='eps')\n",
    "    fig77.savefig(output_file_path+'\\PCA_yintercept_ev.tif', format='tif')\n",
    "\n",
    "    \n",
    "button6 = widgets.Button(description = 'Save figure')\n",
    "display(button6)\n",
    "button6.on_click(on_save_button6_clicked)"
   ]
  },
  {
   "cell_type": "markdown",
   "metadata": {},
   "source": [
    "### Display SVD score maps and eigenvectors of response at 0 V read voltage:"
   ]
  },
  {
   "cell_type": "code",
   "execution_count": null,
   "metadata": {
    "scrolled": false
   },
   "outputs": [],
   "source": [
    "# Visualize PCA of response at 0 V read voltage\n",
    "U_SVD_resp0Vr = np.reshape(U_SVD_resp0Vr,(num_row, num_col, num_components))\n",
    "\n",
    "fig8 = plt.figure(figsize=(12,12))\n",
    "fig8.clf()\n",
    "fig8.set_facecolor('white')    \n",
    "\n",
    "n_components = 20\n",
    "\n",
    "\n",
    "for component in range(1, n_components+1):\n",
    "    \n",
    "\n",
    "    ax_SVD_plot = plt.subplot(5, 4, component)\n",
    "    image = ax_SVD_plot.imshow(U_SVD_resp0Vr[:,:,component-1], cmap=px.plot_utils.cmap_jet_white_center(), \n",
    "                               origin='upper', interpolation='none');\n",
    "    ax_SVD_plot.set_title('#'+str(component), fontsize = 10)\n",
    "    fig8.colorbar(image, ax = ax_SVD_plot)\n",
    "    \n",
    "\n",
    "fig8.tight_layout()\n",
    "\n",
    "fig8.suptitle('PCA scores of response at V$_{read}$ = 0 V', weight = 'bold', fontsize = 12, y = 1);\n",
    "\n",
    "fig88 = plt.figure(figsize=(12,12))\n",
    "fig88.clf()\n",
    "fig88.set_facecolor('white')\n",
    "\n",
    "for component in range(1, n_components+1):\n",
    "    ax_SVD_plot = plt.subplot(5, 4, component)\n",
    "    image = ax_SVD_plot.plot(bias_vec_w, V_SVD_resp0Vr[component-1,:],'.-');\n",
    "    ax_SVD_plot.set_xlabel('Write voltage [V]')\n",
    "    ax_SVD_plot.set_title('#'+str(component), fontsize = 10)\n",
    "fig88.tight_layout()\n",
    "\n",
    "fig88.suptitle('PCA eigenvectors of response at V$_{read}$ = 0 V', weight = 'bold', fontsize = 12, y = 1);\n",
    "\n",
    "def on_save_button7_clicked(b):\n",
    "   \n",
    "    fig8.savefig(output_file_path+'\\PCA_resp0V_scores.png', format='png')\n",
    "    fig8.savefig(output_file_path+'\\PCA_resp0V_scores.eps', format='eps')\n",
    "    fig8.savefig(output_file_path+'\\PCA_resp0V_scores.tif', format='tif')\n",
    "    fig88.savefig(output_file_path+'\\PCA_resp0V_ev.png', format='png')\n",
    "    fig88.savefig(output_file_path+'\\PCA_resp0V_ev.eps', format='eps')\n",
    "    fig88.savefig(output_file_path+'\\PCA_resp0V_ev.tif', format='tif')\n",
    "\n",
    "    \n",
    "button7 = widgets.Button(description = 'Save figure')\n",
    "display(button7)\n",
    "button7.on_click(on_save_button7_clicked)"
   ]
  },
  {
   "cell_type": "markdown",
   "metadata": {},
   "source": [
    "### Display SVD score maps and eigenvectors of raw data:"
   ]
  },
  {
   "cell_type": "code",
   "execution_count": null,
   "metadata": {
    "scrolled": false
   },
   "outputs": [],
   "source": [
    "# Visualize PCA of raw data\n",
    "S_mat = SVD_data['S'][:]\n",
    "U_mat = SVD_data['U'][:]\n",
    "V_mat = SVD_data['V'][:]\n",
    "\n",
    "n_components = min(40, S_mat.size)\n",
    "\n",
    "U_mat = np.reshape(U_mat,(num_row, num_col, n_components))\n",
    "\n",
    "fig4 = plt.figure(figsize=(12,20))\n",
    "fig4.clf()\n",
    "fig4.set_facecolor('white')    \n",
    "\n",
    "for component in range(1, n_components+1):\n",
    "    ax_SVD_plot = plt.subplot(10, 4, component)\n",
    "    \n",
    "    image = ax_SVD_plot.imshow(U_mat[:,:,component-1], \n",
    "                            cmap=px.plot_utils.cmap_jet_white_center(), \n",
    "                            origin='upper', interpolation='none');\n",
    "    ax_SVD_plot.set_title('#'+str(component), fontsize = 10)\n",
    "    fig4.colorbar(image, ax = ax_SVD_plot)\n",
    "    \n",
    "fig4.tight_layout()\n",
    "\n",
    "\n",
    "fig4.suptitle('PCA scores of raw data', weight = 'bold', fontsize = 12, y = 1);\n",
    "\n",
    "\n",
    "fig44 = plt.figure(figsize=(12,20))\n",
    "fig44.clf()\n",
    "fig44.set_facecolor('white')\n",
    "\n",
    "for component in range(1, n_components+1):\n",
    "    ax_SVD_plot = plt.subplot(10, 4, component)\n",
    "    image = ax_SVD_plot.plot(V_mat[component-1,:],'.-');\n",
    "    ax_SVD_plot.set_title('#'+str(component), fontsize = 10)\n",
    "fig44.tight_layout()\n",
    "\n",
    "fig44.suptitle('PCA eigenvectors of of raw data', weight = 'bold', fontsize = 12, y = 1);\n",
    "\n",
    "def on_save_button8_clicked(b):\n",
    "   \n",
    "    fig4.savefig(output_file_path+'\\PCA_rawdata_scores.png', format='png')\n",
    "    fig4.savefig(output_file_path+'\\PCA_rawdata_scores.eps', format='eps')\n",
    "    fig4.savefig(output_file_path+'\\PCA_rawdata_scores.tif', format='tif')\n",
    "    fig44.savefig(output_file_path+'\\PCA_rawdata_ev.png', format='png')\n",
    "    fig44.savefig(output_file_path+'\\PCA_rawdata_ev.eps', format='eps')\n",
    "    fig44.savefig(output_file_path+'\\PCA_rawdata_ev.tif', format='tif')\n",
    "\n",
    "    \n",
    "button8 = widgets.Button(description = 'Save figure')\n",
    "display(button8)\n",
    "button8.on_click(on_save_button8_clicked)"
   ]
  },
  {
   "cell_type": "markdown",
   "metadata": {},
   "source": [
    "# BEPS/ FORC viewer"
   ]
  },
  {
   "cell_type": "code",
   "execution_count": null,
   "metadata": {
    "scrolled": false
   },
   "outputs": [],
   "source": [
    "global count\n",
    "count = 0\n",
    "cycle = 0\n",
    "row = 0\n",
    "col = 0\n",
    "dc_step_write = 0\n",
    "step_chan = b'read_bias'\n",
    "\n",
    "guess_3d_data, success = px.hdf_utils.reshape_to_Ndims(h5_sho_fit)\n",
    "h5_sho_spec_inds = px.hdf_utils.getAuxData(h5_sho_fit, auxDataName='Spectroscopic_Indices')[0]\n",
    "h5_sho_spec_vals = px.hdf_utils.getAuxData(h5_sho_fit, auxDataName='Spectroscopic_Values')[0]\n",
    "\n",
    "spec_nd, _ = px.hdf_utils.reshape_to_Ndims(h5_sho_spec_inds, h5_spec=h5_sho_spec_inds)\n",
    "\n",
    "spec_nd, _ = px.hdf_utils.reshape_to_Ndims(h5_sho_spec_inds, h5_spec=h5_sho_spec_inds)\n",
    "# sho_spec_sort = get_sort_order(h5_sho_spec_inds)\n",
    "sho_spec_dims = np.array(spec_nd.shape[1:])\n",
    "sho_spec_labels = h5_sho_spec_inds.attrs['labels']\n",
    "\n",
    "h5_pos_inds = px.hdf_utils.getAuxData(h5_sho_fit, auxDataName='Position_Indices')[-1];\n",
    "pos_nd, _ = px.hdf_utils.reshape_to_Ndims(h5_pos_inds, h5_pos=h5_pos_inds)\n",
    "pos_dims = list(pos_nd.shape[:h5_pos_inds.shape[1]])\n",
    "pos_labels = h5_pos_inds.attrs['labels']\n",
    "\n",
    "# reshape to X, Y, step, all others\n",
    "spec_step_dim_ind = np.where(sho_spec_labels == step_chan)[0]\n",
    "step_dim_ind = len(pos_dims) + spec_step_dim_ind\n",
    "\n",
    "# move the step dimension to be the first after all position dimensions\n",
    "rest_sho_dim_order = list(range(len(pos_dims), len(guess_3d_data.shape)))\n",
    "rest_sho_dim_order.remove(step_dim_ind)\n",
    "new_order = list(range(len(pos_dims))) + step_dim_ind.tolist() + rest_sho_dim_order\n",
    "\n",
    "# Transpose the 3D dataset to this shape:\n",
    "sho_guess_Nd_1 = np.transpose(guess_3d_data, new_order)\n",
    "\n",
    "# Now move the step dimension to the front for the spec labels as well\n",
    "new_spec_order = list(range(len(sho_spec_labels)))\n",
    "new_spec_order.remove(spec_step_dim_ind)\n",
    "new_spec_order = spec_step_dim_ind.tolist() + new_spec_order\n",
    "\n",
    "# new_spec_labels = sho_spec_labels[new_spec_order]\n",
    "new_spec_dims = np.array(sho_spec_dims)[new_spec_order]\n",
    "\n",
    "# Now collapse all additional dimensions\n",
    "final_guess_shape = pos_dims + [new_spec_dims[0]] + [-1]\n",
    "sho_dset_collapsed = np.reshape(sho_guess_Nd_1, final_guess_shape)\n",
    "\n",
    "# Get the bias matrix:\n",
    "bias_mat, _ = px.hdf_utils.reshape_to_Ndims(h5_sho_spec_vals, h5_spec=h5_sho_spec_inds)\n",
    "bias_mat = np.transpose(bias_mat[spec_step_dim_ind].squeeze(), new_spec_order).reshape(sho_dset_collapsed.\n",
    "                                                                             shape[len(pos_dims):])\n",
    "bias_mat = bias_mat*high_voltage_amplf\n",
    "\n",
    "num_read_steps = sho_dset_collapsed.shape[1]\n",
    "num_write_steps = sho_dset_collapsed.shape[2]\n",
    "num_row = sho_dset_collapsed.shape[1]\n",
    "num_col = sho_dset_collapsed.shape[0]\n",
    "\n",
    "print(sho_dset_collapsed.shape)\n",
    "print('bias mat shape', bias_mat.shape)\n",
    "\n",
    "num_loops = bias_mat.shape[1]\n",
    "num_loops_h = int(num_loops/2)\n",
    "# plt.figure()\n",
    "# plt.plot(bias_mat[:,:]);\n",
    "\n",
    "\n",
    "\n",
    "# print(sho_dset_collapsed.attrs)\n",
    "# print(getattr(obj))\n",
    "\n",
    "amp_map = sho_dset_collapsed[:, :, dc_step_write, cycle]['Amplitude [V]']*1000\n",
    "phase_map = sho_dset_collapsed[:, :, dc_step_write, cycle]['Phase [rad]']\n",
    "frequency_map = sho_dset_collapsed[:, :, dc_step_write, cycle]['Frequency [Hz]']/1000\n",
    "Q_map = sho_dset_collapsed[:, :, dc_step_write, cycle]['Quality Factor']\n",
    "\n",
    "mixed_map = amp_map*np.cos(phase_map)\n",
    "mixed_mat_h = sho_dset_collapsed[:, :, :, :]['Amplitude [V]'] * np.cos(sho_dset_collapsed[:, :, :, :]['Phase [rad]'])*1000\n",
    "\n",
    "print('mixed shape = ', mixed_mat_h.shape)\n",
    "\n",
    "def make_figure_beps_forc(amp_map, phase_map, mixed_map, Q_map, frequency_map, mixed_mat_h, col, row, cycle, dc_step_write):\n",
    "    global fig_bf\n",
    "    fig_bf = plt.figure(figsize=(12,6))\n",
    "    fig_bf.clf()\n",
    "    fig_bf.set_facecolor('white')  \n",
    "    \n",
    "    \n",
    "    \n",
    "    ax_amp = plt.subplot(2, 3, 1)\n",
    "    img_a = ax_amp.imshow(amp_map, cmap=px.plot_utils.cmap_jet_white_center(), \n",
    "                          origin='upper', interpolation='none');\n",
    "    ax_amp.set_title('Amplitude [a.u.]', fontsize = 10)\n",
    "    fig_bf.colorbar(img_a, ax = ax_amp)\n",
    "\n",
    "    ax_phase = plt.subplot(2, 3, 2)\n",
    "    img_p = ax_phase.imshow(phase_map, cmap=px.plot_utils.cmap_jet_white_center(), \n",
    "                          origin='upper', interpolation='none', clim = [-3.5, 3.5]);\n",
    "    ax_phase.set_title('Phase [rad]', fontsize = 10)\n",
    "    fig_bf.colorbar(img_p, ax = ax_phase)\n",
    "\n",
    "    ax_m = plt.subplot(2, 3, 3)\n",
    "    img_m = ax_m.imshow(mixed_map, cmap=px.plot_utils.cmap_jet_white_center(), \n",
    "                          origin='upper', interpolation='none');\n",
    "    ax_m.set_title('Real component [a.u.]', fontsize = 10)\n",
    "    fig_bf.colorbar(img_m, ax = ax_m)\n",
    "\n",
    "    ax_q = plt.subplot(2, 3, 4)\n",
    "    img_q = ax_q.imshow(Q_map, cmap=px.plot_utils.cmap_jet_white_center(), \n",
    "                          origin='upper', interpolation='none');\n",
    "    ax_q.set_title('Quality factor', fontsize = 10)\n",
    "    fig_bf.colorbar(img_q, ax = ax_q)   \n",
    "\n",
    "    ax_f = plt.subplot(2, 3, 5)\n",
    "    img_f = ax_f.imshow(frequency_map, cmap=px.plot_utils.cmap_jet_white_center(), \n",
    "                          origin='upper', interpolation='none');\n",
    "    ax_f.set_title('Resonance frequency [kHz]', fontsize = 10)\n",
    "    fig_bf.colorbar(img_f, ax = ax_f) \n",
    "\n",
    "    ax_h = plt.subplot(2, 3, 6)\n",
    "    ax_h.plot(bias_mat[:,0:num_loops//2], mixed_mat_h[row, col, :, 0:num_loops//2],'-.', marker ='*')\n",
    "    ax_h.plot(bias_mat[:,num_loops_h:num_loops], mixed_mat_h[row, col, :, num_loops_h:num_loops],'.-')\n",
    "    ax_h.set_ylabel('Response [a.u.]')\n",
    "    ax_h.set_xlabel('Write voltage [V]')\n",
    "    ax_h.set_title('x = '+str(col)+' y = '+str(row), fontsize = 10)\n",
    "    \n",
    "    \n",
    "    fig_bf.suptitle('Step# = '+str(dc_step_write)+', cycle# = '+str(cycle)\n",
    "                    +', V$_{write}$ = '+str(bias_mat[dc_step_write, 0]) +' V'\n",
    "                   , fontsize = 12);\n",
    "    \n",
    "\n",
    "    fig_bf.tight_layout()\n",
    "    \n",
    "    plt.subplots_adjust(top = 0.9)\n",
    "\n",
    "make_figure_beps_forc(amp_map, phase_map, mixed_map, Q_map, frequency_map, mixed_mat_h, col, row, cycle, dc_step_write)\n",
    "    \n",
    "def update_beps_forc_plot(dc_step_write, cycle, col, row):\n",
    "       \n",
    "    amp_map = sho_dset_collapsed[:, :, dc_step_write, cycle]['Amplitude [V]']*1000\n",
    "    phase_map = sho_dset_collapsed[:, :, dc_step_write, cycle]['Phase [rad]']\n",
    "    frequency_map = sho_dset_collapsed[:, :, dc_step_write, cycle]['Frequency [Hz]']/1000\n",
    "    Q_map = sho_dset_collapsed[:, :, dc_step_write, cycle]['Quality Factor']\n",
    "    mixed_map = amp_map*np.cos(phase_map)\n",
    "    mixed_mat_h = sho_dset_collapsed[:, :, :, :]['Amplitude [V]'] * np.cos(sho_dset_collapsed[:, :, :, :]['Phase [rad]'])*1000\n",
    "\n",
    "    make_figure_beps_forc(amp_map, phase_map, mixed_map, Q_map, frequency_map, mixed_mat_h, col, row, cycle, dc_step_write)\n",
    "\n",
    "num_loops_h =num_loops//2-1\n",
    "\n",
    "dc_step_write_slider_bf = widgets.IntSlider(min = 0, max = num_write_steps-1, step = 1,value = 0,\n",
    "                                        description = 'Write step',continuous_update = False)\n",
    "cycle_slider = widgets.IntSlider(min = 2, max = num_loops-1, step = 1,value = 2,\n",
    "                                          description = 'Cycle', continuous_update = False)\n",
    "x_slider_bf  = widgets.IntSlider(min = 0, max = num_col-1,step = 1,value = 0,\n",
    "                             description='x',continuous_update = False)\n",
    "y_slider_bf  = widgets.IntSlider(min = 0,max = num_row-1,step = 1,value = 0, description = 'y',continuous_update = False)\n",
    "\n",
    "widgets.interact(update_beps_forc_plot, dc_step_write = dc_step_write_slider_bf, cycle = cycle_slider, \n",
    "                 col = x_slider_bf, row = y_slider_bf, **slider_dict); \n",
    "\n",
    "\n",
    "def on_save_button9_clicked(b):\n",
    "    global count\n",
    "    \n",
    "    fig_bf.savefig(output_file_path+'\\SHO_parms'+str(count)+'.png', format='png')\n",
    "    fig_bf.savefig(output_file_path+'\\SHO_parms'+str(count)+'.eps', format='eps')\n",
    "    fig_bf.savefig(output_file_path+'\\SHO_parms'+str(count)+'.tif', format='tif')\n",
    "    count+=1\n",
    "    \n",
    "button9 = widgets.Button(description = 'Save figure')\n",
    "display(button9)\n",
    "button9.on_click(on_save_button9_clicked)"
   ]
  },
  {
   "cell_type": "code",
   "execution_count": null,
   "metadata": {},
   "outputs": [],
   "source": [
    "amp_data = sho_dset_collapsed[:, :, :, :]['Amplitude [V]']*1000\n",
    "phase_data = sho_dset_collapsed[:, :, :, :]['Phase [rad]']\n",
    "\n",
    "amp_mean1 = np.nanmean(amp_data, axis = 0)\n",
    "amp_mean = np.nanmean(amp_mean1, axis = 0)\n",
    "\n",
    "phase_mean1 = np.nanmean(phase_data, axis = 0)\n",
    "phase_mean = np.nanmean(phase_mean1, axis = 0)\n",
    "\n",
    "mixed_mat_mean1 = np.nanmean(mixed_mat_h, axis = 0)\n",
    "mixed_mat_mean = np.nanmean(mixed_mat_mean1, axis = 0)\n",
    "\n",
    "fig_loops = plt.figure(figsize=(16,4))\n",
    "fig_loops.clf()\n",
    "fig_loops.set_facecolor('white')  \n",
    "\n",
    "ax_mixed = plt.subplot(1, 3, 1)\n",
    "img_a = ax_mixed.plot(bias_mat[:, 2:4], mixed_mat_mean[:, 2:4],'.-');\n",
    "ax_mixed.set_xlabel('DC voltage [V]', fontsize = 12)\n",
    "ax_mixed.set_ylabel('Mixed response [a.u.]', fontsize = 12)\n",
    "\n",
    "ax_phase = plt.subplot(1, 3, 2)\n",
    "img_c = ax_phase.plot(bias_mat[:,2:4], phase_mean[:, 2:4],'.-');\n",
    "ax_phase.set_xlabel('DC voltage [V]', fontsize = 12)\n",
    "ax_phase.set_ylabel('Phase [rad]', fontsize = 12)\n",
    "\n",
    "ax_amp = plt.subplot(1, 3, 3)\n",
    "img_b = ax_amp.plot(bias_mat[:,2:4], amp_mean[:,2:4],'.-');\n",
    "ax_amp.set_xlabel('DC voltage [V]', fontsize = 12)\n",
    "ax_amp.set_ylabel('Amplitude [a.u.]', fontsize = 12)\n",
    "\n",
    "def on_save_button10_clicked(b):\n",
    "    fig_loops.savefig(output_file_path+'\\Loops.png', format='png')\n",
    "    fig_loops.savefig(output_file_path+'\\Loops.eps', format='eps')\n",
    "    fig_loops.savefig(output_file_path+'\\Loops.tif', format='tif')\n",
    "    \n",
    "    \n",
    "button10 = widgets.Button(description = 'Save figure')\n",
    "display(button10)\n",
    "button10.on_click(on_save_button10_clicked)\n"
   ]
  },
  {
   "cell_type": "code",
   "execution_count": null,
   "metadata": {},
   "outputs": [],
   "source": [
    "# PCA on real component\n",
    "\n",
    "from sklearn.utils.extmath import randomized_svd\n",
    "\n",
    "\n",
    "mixed_mat_h[:, :, :, num_loops_h:num_loops]\n",
    "\n",
    "# resp_mat_0Vr = np.reshape(resp_mat_0Vr,(num_row*num_col, num_write_steps))\n",
    "# U_SVD_resp0Vr, S_SVD_resp0Vr, V_SVD_resp0Vr = randomized_svd(resp_mat_0Vr, n_components = num_components)"
   ]
  },
  {
   "cell_type": "code",
   "execution_count": null,
   "metadata": {},
   "outputs": [],
   "source": [
    "from matplotlib.widgets import Cursor\n",
    "import numpy as np\n",
    "import matplotlib.pyplot as plt\n",
    "\n",
    "\n",
    "fig = plt.figure(figsize=(8, 6))\n",
    "ax = fig.add_subplot(111)\n",
    "\n",
    "x, y = 4*(np.random.rand(2, 100) - .5)\n",
    "ax.plot(x, y, 'o')\n",
    "ax.set_xlim(-2, 2)\n",
    "ax.set_ylim(-2, 2)\n",
    "\n",
    "# set useblit = True on gtkagg for enhanced performance\n",
    "cursor = Cursor(ax, useblit=True, color='red', linewidth=2)\n",
    "\n",
    "plt.show()"
   ]
  },
  {
   "cell_type": "markdown",
   "metadata": {},
   "source": [
    "## Visualize the SHO results of BEline, BEPS and FORC data\n",
    "Here, we visualize the parameters for the SHO fits. BE-line (3D) data is visualized via simple spatial maps of the SHO parameters while more complex BEPS datasets (4+ dimensions) can be visualized using a simple interactive visualizer below. \n",
    "\n",
    "You can choose to visualize the guesses for SHO function or the final fit values from the first line of the cell below.\n",
    "\n",
    "Use the sliders below to inspect the BE response at any given location. "
   ]
  },
  {
   "cell_type": "code",
   "execution_count": null,
   "metadata": {
    "scrolled": false
   },
   "outputs": [],
   "source": [
    "use_sho_guess = False\n",
    "use_static_viz_func = False\n",
    "\n",
    "if use_sho_guess:\n",
    "    sho_dset = h5_sho_guess\n",
    "else:\n",
    "    sho_dset = h5_sho_fit\n",
    "\n",
    "if hdf.file.attrs['data_type'] == 'BELineData' or len(pos_dims) != 2:\n",
    "    use_static_viz_func = True\n",
    "    step_chan = None\n",
    "else:\n",
    "    if h5_main.parent.parent.attrs['VS_mode'] not in ['AC modulation mode with time reversal', \n",
    "                                                      'DC modulation mode']:\n",
    "        use_static_viz_func = True\n",
    "    else:\n",
    "        if h5_main.parent.parent.attrs['VS_mode'] == 'DC modulation mode':\n",
    "            step_chan = 'DC_Offset'\n",
    "        else:\n",
    "            step_chan = 'AC_Amplitude'\n",
    "if not use_static_viz_func:\n",
    "    try:\n",
    "        # use interactive visualization\n",
    "        px.be_viz_utils.jupyter_visualize_beps_sho(sho_dset, step_chan)\n",
    "    except:\n",
    "        print('There was a problem with the interactive visualizer')\n",
    "        use_static_viz_func = True\n",
    "if use_static_viz_func:\n",
    "    # show plots of SHO results vs. applied bias\n",
    "    px.be_viz_utils.visualize_sho_results(sho_dset, show_plots=True, \n",
    "                                        save_plots=False)"
   ]
  },
  {
   "cell_type": "code",
   "execution_count": null,
   "metadata": {},
   "outputs": [],
   "source": [
    "h5_sho_dset = sho_dset\n",
    "resp_func = None\n",
    "guess_3d_data, success = px.io.hdf_utils.reshape_to_Ndims(h5_sho_dset)\n",
    "\n",
    "h5_sho_spec_inds = px.io.hdf_utils.getAuxData(h5_sho_dset, 'Spectroscopic_Indices')[0]\n",
    "h5_sho_spec_vals = px.io.hdf_utils.getAuxData(h5_sho_dset, 'Spectroscopic_Values')[0]\n",
    "spec_nd, _ = px.io.hdf_utils.reshape_to_Ndims(h5_sho_spec_inds, h5_spec=h5_sho_spec_inds)\n",
    "# sho_spec_sort = get_sort_order(h5_sho_spec_inds)\n",
    "sho_spec_dims = np.array(spec_nd.shape[1:])\n",
    "sho_spec_labels = h5_sho_spec_inds.attrs['labels']\n",
    "\n",
    "h5_pos_inds = px.io.hdf_utils.getAuxData(h5_sho_dset, auxDataName='Position_Indices')[-1]\n",
    "pos_nd, _ = px.io.hdf_utils.reshape_to_Ndims(h5_pos_inds, h5_pos=h5_pos_inds)\n",
    "print(pos_nd.shape)\n",
    "pos_dims = list(pos_nd.shape[:h5_pos_inds.shape[1]])\n",
    "print(pos_dims)\n",
    "pos_labels = h5_pos_inds.attrs['labels']\n",
    "print(pos_labels)\n",
    "\n",
    "# reshape to X, Y, step, all others\n",
    "spec_step_dim_ind = np.argwhere(sho_spec_labels == step_chan)[0][0]\n",
    "step_dim_ind = len(pos_dims) + spec_step_dim_ind\n",
    "\n",
    "# move the step dimension to be the first after all position dimensions\n",
    "rest_sho_dim_order = list(range(len(pos_dims), len(guess_3d_data.shape)))\n",
    "rest_sho_dim_order.remove(step_dim_ind)\n",
    "new_order = list(range(len(pos_dims))) + [step_dim_ind] + rest_sho_dim_order\n",
    "\n",
    "# Transpose the 3D dataset to this shape:\n",
    "sho_guess_Nd_1 = np.transpose(guess_3d_data, new_order)\n",
    "\n",
    "# Now move the step dimension to the front for the spec labels as well\n",
    "new_spec_order = list(range(len(sho_spec_labels)))\n",
    "new_spec_order.remove(spec_step_dim_ind)\n",
    "new_spec_order = [spec_step_dim_ind] + new_spec_order\n",
    "\n",
    "# new_spec_labels = sho_spec_labels[new_spec_order]\n",
    "new_spec_dims = np.array(sho_spec_dims)[new_spec_order]\n",
    "\n",
    "# Now collapse all additional dimensions\n",
    "final_guess_shape = pos_dims + [new_spec_dims[0]] + [-1]\n",
    "sho_dset_collapsed = np.reshape(sho_guess_Nd_1, final_guess_shape)\n",
    "\n",
    "# Get the bias matrix:\n",
    "bias_mat, _ = px.io.hdf_utils.reshape_to_Ndims(h5_sho_spec_vals, h5_spec=h5_sho_spec_inds)\n",
    "bias_mat = np.transpose(bias_mat[spec_step_dim_ind], new_spec_order).reshape(sho_dset_collapsed.shape[len(pos_dims):])\n",
    "\n",
    "# This is just the visualizer:\n",
    "sho_quantity = 'Amplitude [V]'\n",
    "step_ind = 0\n",
    "row_ind = 1\n",
    "col_ind = 1\n",
    "\n",
    "def dc_spectroscopy_func(resp_vec):\n",
    "    return resp_vec['Amplitude [V]'] * np.cos(resp_vec['Phase [rad]']) * 1E+3\n",
    "\n",
    "def ac_spectroscopy_func(resp_vec):\n",
    "    return resp_vec['Amplitude [V]']\n",
    "\n",
    "if resp_func is None:\n",
    "    if step_chan == 'DC_Offset':\n",
    "        resp_func = dc_spectroscopy_func\n",
    "        resp_label = 'A cos($\\phi$) (a. u.)'\n",
    "    else:\n",
    "        resp_func = ac_spectroscopy_func\n",
    "        resp_label = 'Amplitude (a. u.)'\n",
    "\n",
    "spatial_map = sho_dset_collapsed[:, :, step_ind, 0][sho_quantity]\n",
    "resp_vec = sho_dset_collapsed[row_ind, col_ind, :, :]\n",
    "resp_vec = resp_func(resp_vec)"
   ]
  },
  {
   "cell_type": "markdown",
   "metadata": {},
   "source": [
    "## Fit loops to a function\n",
    "This is applicable only to DC voltage spectroscopy datasets from BEPS. The PFM hysteresis loops in this dataset will be projected to maximize the loop area and then fitted to a function.\n",
    "\n",
    "Note: This computation generally takes a while for reasonably sized datasets."
   ]
  },
  {
   "cell_type": "code",
   "execution_count": null,
   "metadata": {},
   "outputs": [],
   "source": [
    "# Do the Loop Fitting on the SHO Fit dataset\n",
    "loop_success = False\n",
    "h5_loop_group = px.hdf_utils.findH5group(h5_sho_fit, 'Loop_Fit')\n",
    "if len(h5_loop_group) == 0:\n",
    "    try:\n",
    "        loop_fitter = px.BELoopModel(h5_sho_fit, variables=['read_bias'], parallel=True)\n",
    "        print('No loop fits found. Fitting now....')\n",
    "        h5_loop_guess = loop_fitter.do_guess(processors=max_cores, max_mem=max_mem)\n",
    "        h5_loop_fit = loop_fitter.do_fit(processors=max_cores, max_mem=max_mem)\n",
    "        loop_success = True\n",
    "    except ValueError:\n",
    "        print('Loop fitting is applicable only to DC spectroscopy datasets!')\n",
    "        raise\n",
    "else:\n",
    "    loop_success = True\n",
    "    print('Taking previously computed loop fits')\n",
    "    h5_loop_guess = h5_loop_group[-1]['Guess']\n",
    "    h5_loop_fit = h5_loop_group[-1]['Fit']"
   ]
  },
  {
   "cell_type": "markdown",
   "metadata": {},
   "source": [
    "## Prepare datasets for visualization"
   ]
  },
  {
   "cell_type": "code",
   "execution_count": null,
   "metadata": {},
   "outputs": [],
   "source": [
    "# Prepare some variables for plotting loops fits and guesses\n",
    "# Plot the Loop Guess and Fit Results\n",
    "if loop_success:\n",
    "    h5_projected_loops = h5_loop_guess.parent['Projected_Loops']\n",
    "    h5_proj_spec_inds = px.hdf_utils.getAuxData(h5_projected_loops, \n",
    "                                                auxDataName='Spectroscopic_Indices')[-1]\n",
    "    h5_proj_spec_vals = px.hdf_utils.getAuxData(h5_projected_loops, \n",
    "                                                auxDataName='Spectroscopic_Values')[-1]\n",
    "\n",
    "    # reshape the vdc_vec into DC_step by Loop\n",
    "    sort_order = px.hdf_utils.get_sort_order(h5_proj_spec_inds)\n",
    "    dims = px.hdf_utils.get_dimensionality(h5_proj_spec_inds[()], \n",
    "                                           sort_order[::-1])\n",
    "    vdc_vec = np.reshape(h5_proj_spec_vals[h5_proj_spec_vals.attrs['read_bias']], dims).T\n",
    "\n",
    "    #Also reshape the projected loops to Positions-DC_Step-Loop\n",
    "    # Also reshape the projected loops to Positions-DC_Step-Loop\n",
    "    proj_nd, _ = px.hdf_utils.reshape_to_Ndims(h5_projected_loops)\n",
    "    proj_3d = np.reshape(proj_nd, [h5_projected_loops.shape[0], \n",
    "                                   proj_nd.shape[2], -1])"
   ]
  },
  {
   "cell_type": "markdown",
   "metadata": {},
   "source": [
    "## Visualize Loop fits"
   ]
  },
  {
   "cell_type": "code",
   "execution_count": null,
   "metadata": {},
   "outputs": [],
   "source": [
    "use_static_plots = False\n",
    "if loop_success:\n",
    "    if not use_static_plots:\n",
    "        try:\n",
    "            px.be_viz_utils.jupyter_visualize_beps_loops(h5_projected_loops, h5_loop_guess, h5_loop_fit)\n",
    "        except:\n",
    "            print('There was a problem with the interactive visualizer')\n",
    "            use_static_plots = True\n",
    "    if use_static_plots:\n",
    "        for iloop in range(h5_loop_guess.shape[1]):\n",
    "            fig, ax = px.be_viz_utils.plot_loop_guess_fit(vdc_vec[:, iloop], proj_3d[:, :, iloop], \n",
    "                                          h5_loop_guess[:, iloop], h5_loop_fit[:, iloop],\n",
    "                                          title='Loop {} - All Positions'.format(iloop))"
   ]
  },
  {
   "cell_type": "markdown",
   "metadata": {},
   "source": [
    "## Save and close\n",
    "* Save the .h5 file that we are working on by closing it. <br>\n",
    "* Also, consider exporting this notebook as a notebook or an html file. <br> To do this, go to File >> Download as >> HTML\n",
    "* Finally consider saving this notebook if necessary"
   ]
  },
  {
   "cell_type": "code",
   "execution_count": null,
   "metadata": {},
   "outputs": [],
   "source": [
    "hdf.close()"
   ]
  }
 ],
 "metadata": {
  "anaconda-cloud": {},
  "kernelspec": {
   "display_name": "Python 3",
   "language": "python",
   "name": "python3"
  },
  "language_info": {
   "codemirror_mode": {
    "name": "ipython",
    "version": 3
   },
   "file_extension": ".py",
   "mimetype": "text/x-python",
   "name": "python",
   "nbconvert_exporter": "python",
   "pygments_lexer": "ipython3",
   "version": "3.7.3"
  },
  "widgets": {
   "state": {
    "004b75b3c0a9453ca262e88bcffe6320": {
     "views": [
      {
       "cell_index": 32
      }
     ]
    },
    "013ef43338834ac39d1f55e0551f215f": {
     "views": [
      {
       "cell_index": 20
      }
     ]
    },
    "03731bbe4e7d465c87b35c0b214a490b": {
     "views": [
      {
       "cell_index": 20
      }
     ]
    },
    "0c2522aad7044463a20d86643b11210c": {
     "views": [
      {
       "cell_index": 22
      }
     ]
    },
    "0da6103db52140148c92ce3ec3c92ea7": {
     "views": [
      {
       "cell_index": 34
      }
     ]
    },
    "0df0b276e40145aeab5e3202f50e2b9a": {
     "views": [
      {
       "cell_index": 22
      }
     ]
    },
    "0f2d2083cd374bd7b06ffd7cf3dc7c79": {
     "views": [
      {
       "cell_index": 22
      }
     ]
    },
    "0fba4a2efa3f4c0cacd61f7949b828d0": {
     "views": [
      {
       "cell_index": 48
      }
     ]
    },
    "106ba6b9a2894013ad1ff2fa2aa47685": {
     "views": [
      {
       "cell_index": 20
      }
     ]
    },
    "1091c7898b69459f82d77f44c0dbe692": {
     "views": [
      {
       "cell_index": 27
      }
     ]
    },
    "1245a5ae807749d8affe00b6e8a06815": {
     "views": [
      {
       "cell_index": 22
      }
     ]
    },
    "16c05b12e4384404a5bff00c8f070e82": {
     "views": [
      {
       "cell_index": 22
      }
     ]
    },
    "18390a7af99d4e4490908f7f8e2ccb64": {
     "views": [
      {
       "cell_index": 22
      }
     ]
    },
    "1887b799056c41ddb614014b0b6b3052": {
     "views": [
      {
       "cell_index": 20
      }
     ]
    },
    "1b168bdf1dfc4e029a7bcdfaf5287d9e": {
     "views": [
      {
       "cell_index": 26
      }
     ]
    },
    "1c8b17397e97460a912c240618cce55b": {
     "views": [
      {
       "cell_index": 22
      }
     ]
    },
    "1e3a3abddfd44d44b3d8b35f614e4f6d": {
     "views": [
      {
       "cell_index": 22
      }
     ]
    },
    "1eff84f3a0644385a260536c132b5350": {
     "views": [
      {
       "cell_index": 20
      }
     ]
    },
    "1f3b6953cd83422ba4536fda5217fb0f": {
     "views": [
      {
       "cell_index": 22
      }
     ]
    },
    "1f57be14625349f88520479895455a09": {
     "views": [
      {
       "cell_index": 20
      }
     ]
    },
    "1fb9b7b1b1fe435aa6cd66e8ce7fc873": {
     "views": [
      {
       "cell_index": 22
      }
     ]
    },
    "200ee1d6a3604138b8ab81673c6d2437": {
     "views": [
      {
       "cell_index": 20
      }
     ]
    },
    "229081689cac459288eb97c2402e4647": {
     "views": [
      {
       "cell_index": 22
      }
     ]
    },
    "2333ee6e2b3041c1b14c4839f213a35f": {
     "views": [
      {
       "cell_index": 34
      }
     ]
    },
    "24683f19881944aa9e159aa3cd212b26": {
     "views": [
      {
       "cell_index": 22
      }
     ]
    },
    "252296babdb140b9822e152a621d3c6f": {
     "views": [
      {
       "cell_index": 20
      }
     ]
    },
    "253c6da489d24de9b9e9c3f57c834f8e": {
     "views": [
      {
       "cell_index": 22
      }
     ]
    },
    "27cec2a4bcf1481ab5fa76546685d313": {
     "views": [
      {
       "cell_index": 22
      }
     ]
    },
    "27ea4625d1264657abf1335f10309d48": {
     "views": [
      {
       "cell_index": 22
      }
     ]
    },
    "2a5f6a0c370e491f805769f82b16f1f5": {
     "views": [
      {
       "cell_index": 22
      }
     ]
    },
    "2c326a8d9c014475bb08a96f2d48ec6b": {
     "views": [
      {
       "cell_index": 20
      }
     ]
    },
    "2d978ede735d4a008c6d6939e7af0d34": {
     "views": [
      {
       "cell_index": 20
      }
     ]
    },
    "2eba2773d5a3439bab45d7c75633b80a": {
     "views": [
      {
       "cell_index": 22
      }
     ]
    },
    "2f08fd75283d4c9bbbb2f585c18c2b84": {
     "views": [
      {
       "cell_index": 22
      }
     ]
    },
    "2f5edd3f8d164672b6253acd481bab5c": {
     "views": [
      {
       "cell_index": 22
      }
     ]
    },
    "2fd188ee4d81451797c14a58f6d70013": {
     "views": [
      {
       "cell_index": 22
      }
     ]
    },
    "3226cf4e6c214735a3319a94b62452d9": {
     "views": [
      {
       "cell_index": 20
      }
     ]
    },
    "32c72b404c3540c3b9ee8321eb549227": {
     "views": [
      {
       "cell_index": 22
      }
     ]
    },
    "334527a619684c94ac23c0bb3927e7e2": {
     "views": [
      {
       "cell_index": 20
      }
     ]
    },
    "33c2a2056b4a48a2b4caf5416d6c15de": {
     "views": [
      {
       "cell_index": 22
      }
     ]
    },
    "3a11fd566d1243f88c7a1d9f9568346e": {
     "views": [
      {
       "cell_index": 22
      }
     ]
    },
    "3c2e566d0c5047c9bbb376a386566811": {
     "views": [
      {
       "cell_index": 20
      }
     ]
    },
    "3c6531bf8739465b9e278aa147b8bce0": {
     "views": [
      {
       "cell_index": 22
      }
     ]
    },
    "3c6b79158906476ba2ae69eb3626ef29": {
     "views": [
      {
       "cell_index": 20
      }
     ]
    },
    "3cd3856d1bec4cbca42bfdb385eac13b": {
     "views": [
      {
       "cell_index": 22
      }
     ]
    },
    "3ea78f55d0c24b39a8604fc5ae7fc470": {
     "views": [
      {
       "cell_index": 22
      }
     ]
    },
    "3fa3e0756a0a4858a044c50eb96655a4": {
     "views": [
      {
       "cell_index": 22
      }
     ]
    },
    "3fd4c31c30104f54bd0e36b599f1b0d7": {
     "views": [
      {
       "cell_index": 20
      }
     ]
    },
    "426f6d47a8b84e7ca4babb28232f785c": {
     "views": [
      {
       "cell_index": 27
      }
     ]
    },
    "441862466c3542d9b8614d285acc2d89": {
     "views": [
      {
       "cell_index": 33
      }
     ]
    },
    "4440c4795e124ebbbc97d48d20082a4b": {
     "views": [
      {
       "cell_index": 22
      }
     ]
    },
    "45d76a9ccb5341f58a4e940b81d72ad6": {
     "views": [
      {
       "cell_index": 22
      }
     ]
    },
    "466cf44264604b1ca750ddf1212e2ee8": {
     "views": [
      {
       "cell_index": 34
      }
     ]
    },
    "47667b6638864a2387eab723e4872a8b": {
     "views": [
      {
       "cell_index": 50
      }
     ]
    },
    "48db59f08e0e47859b0ee0edebed06b5": {
     "views": [
      {
       "cell_index": 22
      }
     ]
    },
    "49e68a65d3c34a8aa0858798e5116098": {
     "views": [
      {
       "cell_index": 22
      }
     ]
    },
    "4a08b03856224646ae6fc06386762f7d": {
     "views": [
      {
       "cell_index": 20
      }
     ]
    },
    "4b0eeeae2b384f59b72c7ec06f9c471a": {
     "views": [
      {
       "cell_index": 20
      }
     ]
    },
    "4c80135c71cf499fbc2be1eb7b3039ca": {
     "views": [
      {
       "cell_index": 22
      }
     ]
    },
    "4e34b568636f48ca8da39e6023d7b946": {
     "views": [
      {
       "cell_index": 20
      }
     ]
    },
    "50a8632de0c94ca981418a62c43b229d": {
     "views": [
      {
       "cell_index": 22
      }
     ]
    },
    "518ad177ac774c97b1bf788dfa362e87": {
     "views": [
      {
       "cell_index": 22
      }
     ]
    },
    "52e1cd22d4cc46f78b1bdb199b30b32e": {
     "views": [
      {
       "cell_index": 22
      }
     ]
    },
    "55545d47ba384198aad1cd7808448c7f": {
     "views": [
      {
       "cell_index": 22
      }
     ]
    },
    "57516f91b20b4797a77235b67e315d07": {
     "views": [
      {
       "cell_index": 22
      }
     ]
    },
    "5759b7e6994a44219ce213e406eb7982": {
     "views": [
      {
       "cell_index": 22
      }
     ]
    },
    "58548d5bb6e041da91fc1e34d67497c8": {
     "views": [
      {
       "cell_index": 24
      }
     ]
    },
    "59b02714a16e4aea94a8831867dff71e": {
     "views": [
      {
       "cell_index": 22
      }
     ]
    },
    "5a2a9080cd404793a247ef01c74a890a": {
     "views": [
      {
       "cell_index": 22
      }
     ]
    },
    "5a5f2318950d49978dec3511cb4b00dc": {
     "views": [
      {
       "cell_index": 22
      }
     ]
    },
    "5adc30a3eb994a6493a249a223ee3eaa": {
     "views": [
      {
       "cell_index": 28
      }
     ]
    },
    "5da98c3f88a9498d9bb77f208323c6fa": {
     "views": [
      {
       "cell_index": 33
      }
     ]
    },
    "5f140d874f0a4c7f86ccbb9d8f181f87": {
     "views": [
      {
       "cell_index": 22
      }
     ]
    },
    "5fcdc1b98d9a46b3b3698348ff309f76": {
     "views": [
      {
       "cell_index": 20
      }
     ]
    },
    "601a1d573ef54f3da0207940088436fc": {
     "views": [
      {
       "cell_index": 22
      }
     ]
    },
    "61923f2aa2014259ae563b97a8f030ba": {
     "views": [
      {
       "cell_index": 22
      }
     ]
    },
    "6215fec2288b4f8d908226db6f432b9f": {
     "views": [
      {
       "cell_index": 22
      }
     ]
    },
    "62705169cbc74b3eab7f8c50ea8c52fe": {
     "views": [
      {
       "cell_index": 20
      }
     ]
    },
    "640653936f65487988404f6d426da533": {
     "views": [
      {
       "cell_index": 20
      }
     ]
    },
    "6479f5cb4cf04daca716b0df1e643186": {
     "views": [
      {
       "cell_index": 22
      }
     ]
    },
    "6781d0b6a8e84ab691cd021175acefb3": {
     "views": [
      {
       "cell_index": 22
      }
     ]
    },
    "6820c0bb148c4cf9b2b3e2babf9d4876": {
     "views": [
      {
       "cell_index": 22
      }
     ]
    },
    "6a30ab4b402849a19a5ab69a0425d99f": {
     "views": [
      {
       "cell_index": 22
      }
     ]
    },
    "6a829084d30c43a990cf429ef467c5f5": {
     "views": [
      {
       "cell_index": 20
      }
     ]
    },
    "6aedfc25a0194d0ba4aa69bef246298c": {
     "views": [
      {
       "cell_index": 36
      }
     ]
    },
    "6b977337480340bea29cb7393cc86adf": {
     "views": [
      {
       "cell_index": 26
      }
     ]
    },
    "6f1267616b1442808bc8e28eaf990b9a": {
     "views": [
      {
       "cell_index": 22
      }
     ]
    },
    "745d38ec65f444e08b73f49bb4d5f19d": {
     "views": [
      {
       "cell_index": 12
      }
     ]
    },
    "75db983b508b44608fec25c6217f85f8": {
     "views": [
      {
       "cell_index": 22
      }
     ]
    },
    "76f8e33e84b24376891f86fce56e610b": {
     "views": [
      {
       "cell_index": 27
      }
     ]
    },
    "772c140a0c2040b4a21bde7f61617789": {
     "views": [
      {
       "cell_index": 22
      }
     ]
    },
    "78860c1ca5ba4daf8c1f8aa9cdf9886d": {
     "views": [
      {
       "cell_index": 22
      }
     ]
    },
    "78955f0364994a3c971afd1863a05b3a": {
     "views": [
      {
       "cell_index": 22
      }
     ]
    },
    "7cc6aa3950504a1abb7bb1fdaed4e8b4": {
     "views": [
      {
       "cell_index": 20
      }
     ]
    },
    "7dd37cbc0bb34505b9b8997ac8602da9": {
     "views": [
      {
       "cell_index": 34
      }
     ]
    },
    "81ea2b5c960741218ce783af9cc518b9": {
     "views": [
      {
       "cell_index": 22
      }
     ]
    },
    "8285c6714ca041f1a2294d40f8a744b5": {
     "views": [
      {
       "cell_index": 22
      }
     ]
    },
    "83148171a8254f2bba18f2825784d5cb": {
     "views": [
      {
       "cell_index": 30
      }
     ]
    },
    "835480b7080f4c739c41cf4d5ed2fc2c": {
     "views": [
      {
       "cell_index": 22
      }
     ]
    },
    "84f40717e9c649e5bbabaa85cf0ae263": {
     "views": [
      {
       "cell_index": 22
      }
     ]
    },
    "84f62ae372fd4442b5b1f43807e1f31c": {
     "views": [
      {
       "cell_index": 20
      }
     ]
    },
    "870b7b8a3fa24a4ba6d94d618fa3f3e3": {
     "views": [
      {
       "cell_index": 22
      }
     ]
    },
    "8719d35335554d098f37003a3e4d7266": {
     "views": [
      {
       "cell_index": 22
      }
     ]
    },
    "87f7c00bc4e24d46aa9e7d168574f79e": {
     "views": [
      {
       "cell_index": 20
      }
     ]
    },
    "8b0ef9eac4e24702b6f2fd4a94810f56": {
     "views": [
      {
       "cell_index": 27
      }
     ]
    },
    "8c0f848a076a41d89ccb59d04113fde2": {
     "views": [
      {
       "cell_index": 22
      }
     ]
    },
    "8cbe81dbfe0042aab68990f5f727e57f": {
     "views": [
      {
       "cell_index": 32
      }
     ]
    },
    "8ea4ba4cfd1c44c085b929fda24c9b3c": {
     "views": [
      {
       "cell_index": 22
      }
     ]
    },
    "8f637079f4eb44ed93e69a76ad7c8446": {
     "views": [
      {
       "cell_index": 22
      }
     ]
    },
    "8fd6b3062f27485d85b170e5dc493bd1": {
     "views": [
      {
       "cell_index": 20
      }
     ]
    },
    "90fc2cd4bc5a4bc9933eefe6eade6d73": {
     "views": [
      {
       "cell_index": 20
      }
     ]
    },
    "936a08daf35148fb9fd86dad1e54ad70": {
     "views": [
      {
       "cell_index": 20
      }
     ]
    },
    "943beb03286741f4ada739f7d3bfbf8f": {
     "views": [
      {
       "cell_index": 27
      }
     ]
    },
    "96323125acc0426281e0a3d62847dd46": {
     "views": [
      {
       "cell_index": 20
      }
     ]
    },
    "9710a09cec7c42ad89a94d5eb3458949": {
     "views": [
      {
       "cell_index": 22
      }
     ]
    },
    "9985eed09f37449fa1f1c8f245f4085f": {
     "views": [
      {
       "cell_index": 22
      }
     ]
    },
    "9a77a5c0079d42c5b2ccde0034423cad": {
     "views": [
      {
       "cell_index": 22
      }
     ]
    },
    "9abef5c8b2d54b7cbe1f7a6b71949bd9": {
     "views": [
      {
       "cell_index": 22
      }
     ]
    },
    "9b35d7483a93479da1b9f36593b7d564": {
     "views": [
      {
       "cell_index": 34
      }
     ]
    },
    "9f98b4f217ca4e68b9629b09bb30709d": {
     "views": [
      {
       "cell_index": 22
      }
     ]
    },
    "a319db55898f48c98a1a41f056b214aa": {
     "views": [
      {
       "cell_index": 22
      }
     ]
    },
    "a4132c170ec7479c8e19f0001aee322c": {
     "views": [
      {
       "cell_index": 22
      }
     ]
    },
    "a6000ebbbd6f42b2821a8e928102e349": {
     "views": [
      {
       "cell_index": 20
      }
     ]
    },
    "a85c126a09884a349ca65e98fdb6a175": {
     "views": [
      {
       "cell_index": 22
      }
     ]
    },
    "a8b860980e2f4c539fe2ecf6609de434": {
     "views": [
      {
       "cell_index": 20
      }
     ]
    },
    "aa32b3e3313e494899ce0e0d6d64c161": {
     "views": [
      {
       "cell_index": 22
      }
     ]
    },
    "ab22b74afdb246b5bf31c5d0d2c24eae": {
     "views": [
      {
       "cell_index": 22
      }
     ]
    },
    "ad5a9688818140fcb5d11d72e8448197": {
     "views": [
      {
       "cell_index": 20
      }
     ]
    },
    "ad888acb36d849bd9cecf53e7af0b263": {
     "views": [
      {
       "cell_index": 22
      }
     ]
    },
    "afbd23209f284c1e9f47a9925617b1e4": {
     "views": [
      {
       "cell_index": 22
      }
     ]
    },
    "b018aeb25f774f3e84edd16671e7448d": {
     "views": [
      {
       "cell_index": 19
      }
     ]
    },
    "b1dd9ef912ab40e4939dbbc8296d99df": {
     "views": [
      {
       "cell_index": 22
      }
     ]
    },
    "b2e873efb17d456b9e88099444f8c49d": {
     "views": [
      {
       "cell_index": 22
      }
     ]
    },
    "b3a3132aa5904950953e77668be69239": {
     "views": [
      {
       "cell_index": 20
      }
     ]
    },
    "b587b62ed2674093ac7547c28322dade": {
     "views": [
      {
       "cell_index": 22
      }
     ]
    },
    "b7aff4785f1a48919c6202e28194cd8a": {
     "views": [
      {
       "cell_index": 22
      }
     ]
    },
    "b7b4e90ac1c946f0b2a0a1a3944e3a72": {
     "views": [
      {
       "cell_index": 20
      }
     ]
    },
    "bae378b5ee894a82b3d0a01cd6226292": {
     "views": [
      {
       "cell_index": 26
      }
     ]
    },
    "c0818ccd1f224489b76a8e384050e05d": {
     "views": [
      {
       "cell_index": 22
      }
     ]
    },
    "c140980fff33438295f215f4a14bf1a0": {
     "views": [
      {
       "cell_index": 33
      }
     ]
    },
    "c1ae6f91f28a4979adc60164ae3c23a9": {
     "views": [
      {
       "cell_index": 20
      }
     ]
    },
    "c4bf1a0b9f5c4ae385c4f29ca2500930": {
     "views": [
      {
       "cell_index": 20
      }
     ]
    },
    "c53ed2724b494dd49705edd102548e1e": {
     "views": [
      {
       "cell_index": 32
      }
     ]
    },
    "ca651c48b785444db4843482c5c0128f": {
     "views": [
      {
       "cell_index": 20
      }
     ]
    },
    "cc8a22026fe94604ab8edf7bfc9d8ea4": {
     "views": [
      {
       "cell_index": 22
      }
     ]
    },
    "ceabcdc115244af88db6b71fb5541653": {
     "views": [
      {
       "cell_index": 36
      }
     ]
    },
    "cf01b46ee4eb47deab9fe18393b056bb": {
     "views": [
      {
       "cell_index": 22
      }
     ]
    },
    "d5624ebebcee48cdadabb67c904e06bb": {
     "views": [
      {
       "cell_index": 22
      }
     ]
    },
    "da7c461ef7014ae2bbf2027f8e096974": {
     "views": [
      {
       "cell_index": 22
      }
     ]
    },
    "daa28c65a80f43c8a73415376bdb4c0f": {
     "views": [
      {
       "cell_index": 22
      }
     ]
    },
    "db4ec01f773e4aafa9cb6f218273d987": {
     "views": [
      {
       "cell_index": 20
      }
     ]
    },
    "ddab1ab606344b008646a203ae843dad": {
     "views": [
      {
       "cell_index": 22
      }
     ]
    },
    "e13e4e9f39184699bb11f8c1cd3cdae4": {
     "views": [
      {
       "cell_index": 52
      }
     ]
    },
    "e1597335a1d44d8eb26e983ac939deeb": {
     "views": [
      {
       "cell_index": 22
      }
     ]
    },
    "e5e52ee5548c4aaf9ba824c4c82916e8": {
     "views": [
      {
       "cell_index": 34
      }
     ]
    },
    "e655206f0ed04bc9aeafb7fef58a3405": {
     "views": [
      {
       "cell_index": 46
      }
     ]
    },
    "e95b6a5beb194275979b5e71c9982243": {
     "views": [
      {
       "cell_index": 33
      }
     ]
    },
    "e9fb83d24e1b4b24b32022998a54c3d7": {
     "views": [
      {
       "cell_index": 22
      }
     ]
    },
    "ec619dc0e5a64620b425b3c7ec149c40": {
     "views": [
      {
       "cell_index": 27
      }
     ]
    },
    "ed220ad67e454d999b2da008a9df9771": {
     "views": [
      {
       "cell_index": 22
      }
     ]
    },
    "ed2ebc25e05246568c1477da2b97bc7a": {
     "views": [
      {
       "cell_index": 22
      }
     ]
    },
    "f0bd4c54c7a34f8fadf2443e6503e908": {
     "views": [
      {
       "cell_index": 22
      }
     ]
    },
    "f11b353d940642c49c91cc64e7b8b87c": {
     "views": [
      {
       "cell_index": 22
      }
     ]
    },
    "f139fa25257b4f0a8f780339d87b8ab3": {
     "views": [
      {
       "cell_index": 33
      }
     ]
    },
    "f1d46b6184c242eb8776b7848f59a233": {
     "views": [
      {
       "cell_index": 20
      }
     ]
    },
    "f776056026424da39823d5d1a90c6c73": {
     "views": [
      {
       "cell_index": 22
      }
     ]
    },
    "f886e32db5a848c680e24bffebf5a248": {
     "views": [
      {
       "cell_index": 20
      }
     ]
    },
    "f8eb0f63bc52416792d963d341e92cac": {
     "views": [
      {
       "cell_index": 22
      }
     ]
    },
    "f93549d3234d437991e3e8ccee7e2aef": {
     "views": [
      {
       "cell_index": 22
      }
     ]
    },
    "fb128ad83d604626b40e13b454e0cb91": {
     "views": [
      {
       "cell_index": 24
      }
     ]
    },
    "fd5503410927484f8e3a79f91701820e": {
     "views": [
      {
       "cell_index": 20
      }
     ]
    },
    "fd7a314013ae4b67b3051732b774dcf6": {
     "views": [
      {
       "cell_index": 44
      }
     ]
    },
    "fe12f66437d94adc95c058e7ab155a6b": {
     "views": [
      {
       "cell_index": 22
      }
     ]
    }
   },
   "version": "1.2.0"
  }
 },
 "nbformat": 4,
 "nbformat_minor": 1
}
